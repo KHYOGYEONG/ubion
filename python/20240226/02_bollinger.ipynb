{
 "cells": [
  {
   "cell_type": "markdown",
   "metadata": {},
   "source": [
    "## 볼린저 밴드 투자 전략\n",
    "1. 이동 평균선 생성 : 데이터의 20개의 평균 값\n",
    "2. 상단 밴드 생성 : 이동 평균선 + (2 * 20개의 데이터의 표준편차)\n",
    "3. 하단 밴드 생성 : 이동 평균선 - (2 * 20개의 데이터의 표준편차)\n",
    "4. 가격이 하단 밴드보다 낮은 경우 매수\n",
    "5. 가격이 상단 밴드보다 높은 경우 매도"
   ]
  },
  {
   "cell_type": "code",
   "execution_count": 3,
   "metadata": {},
   "outputs": [
    {
     "name": "stderr",
     "output_type": "stream",
     "text": [
      "C:\\Users\\User\\AppData\\Local\\Temp\\ipykernel_19444\\785167135.py:1: DeprecationWarning: \n",
      "Pyarrow will become a required dependency of pandas in the next major release of pandas (pandas 3.0),\n",
      "(to allow more performant data types, such as the Arrow string type, and better interoperability with other libraries)\n",
      "but was not found to be installed on your system.\n",
      "If this would cause problems for you,\n",
      "please provide us feedback at https://github.com/pandas-dev/pandas/issues/54466\n",
      "        \n",
      "  import pandas as pd\n"
     ]
    }
   ],
   "source": [
    "import pandas as pd\n",
    "import numpy as np\n",
    "import matplotlib.pyplot as plt\n",
    "from datetime import datetime"
   ]
  },
  {
   "cell_type": "code",
   "execution_count": 3,
   "metadata": {},
   "outputs": [
    {
     "data": {
      "text/html": [
       "<div>\n",
       "<style scoped>\n",
       "    .dataframe tbody tr th:only-of-type {\n",
       "        vertical-align: middle;\n",
       "    }\n",
       "\n",
       "    .dataframe tbody tr th {\n",
       "        vertical-align: top;\n",
       "    }\n",
       "\n",
       "    .dataframe thead th {\n",
       "        text-align: right;\n",
       "    }\n",
       "</style>\n",
       "<table border=\"1\" class=\"dataframe\">\n",
       "  <thead>\n",
       "    <tr style=\"text-align: right;\">\n",
       "      <th></th>\n",
       "      <th>Open</th>\n",
       "      <th>High</th>\n",
       "      <th>Low</th>\n",
       "      <th>Close</th>\n",
       "      <th>Adj Close</th>\n",
       "      <th>Volume</th>\n",
       "    </tr>\n",
       "    <tr>\n",
       "      <th>Date</th>\n",
       "      <th></th>\n",
       "      <th></th>\n",
       "      <th></th>\n",
       "      <th></th>\n",
       "      <th></th>\n",
       "      <th></th>\n",
       "    </tr>\n",
       "  </thead>\n",
       "  <tbody>\n",
       "    <tr>\n",
       "      <th>1980-12-12</th>\n",
       "      <td>0.513393</td>\n",
       "      <td>0.515625</td>\n",
       "      <td>0.513393</td>\n",
       "      <td>0.513393</td>\n",
       "      <td>0.410525</td>\n",
       "      <td>117258400.0</td>\n",
       "    </tr>\n",
       "  </tbody>\n",
       "</table>\n",
       "</div>"
      ],
      "text/plain": [
       "                Open      High       Low     Close  Adj Close       Volume\n",
       "Date                                                                      \n",
       "1980-12-12  0.513393  0.515625  0.513393  0.513393   0.410525  117258400.0"
      ]
     },
     "execution_count": 3,
     "metadata": {},
     "output_type": "execute_result"
    }
   ],
   "source": [
    "df = pd.read_csv('../../../csv/AAPL.csv', index_col='Date')\n",
    "df.head(1)"
   ]
  },
  {
   "cell_type": "code",
   "execution_count": 4,
   "metadata": {},
   "outputs": [],
   "source": [
    "# 결측치, 무한대 데이터를 제거\n",
    "flag = df.isin([np.nan, np.inf, -np.inf]). any(axis=1)"
   ]
  },
  {
   "cell_type": "code",
   "execution_count": 5,
   "metadata": {},
   "outputs": [],
   "source": [
    "df = df.loc[~flag, ['Adj Close']]"
   ]
  },
  {
   "cell_type": "code",
   "execution_count": 6,
   "metadata": {},
   "outputs": [
    {
     "data": {
      "text/plain": [
       "0.4432777"
      ]
     },
     "execution_count": 6,
     "metadata": {},
     "output_type": "execute_result"
    }
   ],
   "source": [
    "## 이동 평균선 생성\n",
    "## 데이터들을 20개 모아서 평균\n",
    "df.iloc[0:20, 0].mean()"
   ]
  },
  {
   "cell_type": "code",
   "execution_count": 7,
   "metadata": {},
   "outputs": [],
   "source": [
    "## 이동평균선 컬럼을 생성\n",
    "## 값들은 결측치로 대입\n",
    "df['center'] = np.nan"
   ]
  },
  {
   "cell_type": "code",
   "execution_count": 8,
   "metadata": {},
   "outputs": [
    {
     "data": {
      "text/html": [
       "<div>\n",
       "<style scoped>\n",
       "    .dataframe tbody tr th:only-of-type {\n",
       "        vertical-align: middle;\n",
       "    }\n",
       "\n",
       "    .dataframe tbody tr th {\n",
       "        vertical-align: top;\n",
       "    }\n",
       "\n",
       "    .dataframe thead th {\n",
       "        text-align: right;\n",
       "    }\n",
       "</style>\n",
       "<table border=\"1\" class=\"dataframe\">\n",
       "  <thead>\n",
       "    <tr style=\"text-align: right;\">\n",
       "      <th></th>\n",
       "      <th>Adj Close</th>\n",
       "      <th>center</th>\n",
       "    </tr>\n",
       "    <tr>\n",
       "      <th>Date</th>\n",
       "      <th></th>\n",
       "      <th></th>\n",
       "    </tr>\n",
       "  </thead>\n",
       "  <tbody>\n",
       "    <tr>\n",
       "      <th>1980-12-12</th>\n",
       "      <td>0.410525</td>\n",
       "      <td>NaN</td>\n",
       "    </tr>\n",
       "    <tr>\n",
       "      <th>1980-12-15</th>\n",
       "      <td>0.389106</td>\n",
       "      <td>NaN</td>\n",
       "    </tr>\n",
       "    <tr>\n",
       "      <th>1980-12-16</th>\n",
       "      <td>0.360548</td>\n",
       "      <td>NaN</td>\n",
       "    </tr>\n",
       "  </tbody>\n",
       "</table>\n",
       "</div>"
      ],
      "text/plain": [
       "            Adj Close  center\n",
       "Date                         \n",
       "1980-12-12   0.410525     NaN\n",
       "1980-12-15   0.389106     NaN\n",
       "1980-12-16   0.360548     NaN"
      ]
     },
     "execution_count": 8,
     "metadata": {},
     "output_type": "execute_result"
    }
   ],
   "source": [
    "df.head(3)"
   ]
  },
  {
   "cell_type": "code",
   "execution_count": 9,
   "metadata": {},
   "outputs": [],
   "source": [
    "for i in range(20,len(df)+1):\n",
    "    mean_data = df.iloc[i-20:i,0].mean()\n",
    "    df.iloc[i-1, 1] = mean_data # i = 20이니까, -1을 해준거고 두번째 컬럼 = 1 "
   ]
  },
  {
   "cell_type": "code",
   "execution_count": 10,
   "metadata": {},
   "outputs": [
    {
     "data": {
      "text/html": [
       "<div>\n",
       "<style scoped>\n",
       "    .dataframe tbody tr th:only-of-type {\n",
       "        vertical-align: middle;\n",
       "    }\n",
       "\n",
       "    .dataframe tbody tr th {\n",
       "        vertical-align: top;\n",
       "    }\n",
       "\n",
       "    .dataframe thead th {\n",
       "        text-align: right;\n",
       "    }\n",
       "</style>\n",
       "<table border=\"1\" class=\"dataframe\">\n",
       "  <thead>\n",
       "    <tr style=\"text-align: right;\">\n",
       "      <th></th>\n",
       "      <th>Adj Close</th>\n",
       "      <th>center</th>\n",
       "    </tr>\n",
       "    <tr>\n",
       "      <th>Date</th>\n",
       "      <th></th>\n",
       "      <th></th>\n",
       "    </tr>\n",
       "  </thead>\n",
       "  <tbody>\n",
       "    <tr>\n",
       "      <th>1981-01-09</th>\n",
       "      <td>0.455147</td>\n",
       "      <td>NaN</td>\n",
       "    </tr>\n",
       "    <tr>\n",
       "      <th>1981-01-12</th>\n",
       "      <td>0.451577</td>\n",
       "      <td>0.443278</td>\n",
       "    </tr>\n",
       "    <tr>\n",
       "      <th>1981-01-13</th>\n",
       "      <td>0.435513</td>\n",
       "      <td>0.444527</td>\n",
       "    </tr>\n",
       "    <tr>\n",
       "      <th>1981-01-14</th>\n",
       "      <td>0.437298</td>\n",
       "      <td>0.446937</td>\n",
       "    </tr>\n",
       "    <tr>\n",
       "      <th>1981-01-15</th>\n",
       "      <td>0.446223</td>\n",
       "      <td>0.451220</td>\n",
       "    </tr>\n",
       "  </tbody>\n",
       "</table>\n",
       "</div>"
      ],
      "text/plain": [
       "            Adj Close    center\n",
       "Date                           \n",
       "1981-01-09   0.455147       NaN\n",
       "1981-01-12   0.451577  0.443278\n",
       "1981-01-13   0.435513  0.444527\n",
       "1981-01-14   0.437298  0.446937\n",
       "1981-01-15   0.446223  0.451220"
      ]
     },
     "execution_count": 10,
     "metadata": {},
     "output_type": "execute_result"
    }
   ],
   "source": [
    "df.iloc[18:23, ]"
   ]
  },
  {
   "cell_type": "code",
   "execution_count": 11,
   "metadata": {},
   "outputs": [],
   "source": [
    "# 위 방법말고 그룹 연산을 해서 계산하는 방식이 있음.\n",
    "# rolling(n) : n만큼 데이터의 개수를 그룹\n",
    "df['center2'] = df['Adj Close'].rolling(20).mean()"
   ]
  },
  {
   "cell_type": "code",
   "execution_count": 12,
   "metadata": {},
   "outputs": [
    {
     "data": {
      "text/html": [
       "<div>\n",
       "<style scoped>\n",
       "    .dataframe tbody tr th:only-of-type {\n",
       "        vertical-align: middle;\n",
       "    }\n",
       "\n",
       "    .dataframe tbody tr th {\n",
       "        vertical-align: top;\n",
       "    }\n",
       "\n",
       "    .dataframe thead th {\n",
       "        text-align: right;\n",
       "    }\n",
       "</style>\n",
       "<table border=\"1\" class=\"dataframe\">\n",
       "  <thead>\n",
       "    <tr style=\"text-align: right;\">\n",
       "      <th></th>\n",
       "      <th>Adj Close</th>\n",
       "      <th>center</th>\n",
       "      <th>center2</th>\n",
       "    </tr>\n",
       "    <tr>\n",
       "      <th>Date</th>\n",
       "      <th></th>\n",
       "      <th></th>\n",
       "      <th></th>\n",
       "    </tr>\n",
       "  </thead>\n",
       "  <tbody>\n",
       "    <tr>\n",
       "      <th>1981-01-09</th>\n",
       "      <td>0.455147</td>\n",
       "      <td>NaN</td>\n",
       "      <td>NaN</td>\n",
       "    </tr>\n",
       "    <tr>\n",
       "      <th>1981-01-12</th>\n",
       "      <td>0.451577</td>\n",
       "      <td>0.443278</td>\n",
       "      <td>0.443278</td>\n",
       "    </tr>\n",
       "    <tr>\n",
       "      <th>1981-01-13</th>\n",
       "      <td>0.435513</td>\n",
       "      <td>0.444527</td>\n",
       "      <td>0.444527</td>\n",
       "    </tr>\n",
       "    <tr>\n",
       "      <th>1981-01-14</th>\n",
       "      <td>0.437298</td>\n",
       "      <td>0.446937</td>\n",
       "      <td>0.446937</td>\n",
       "    </tr>\n",
       "    <tr>\n",
       "      <th>1981-01-15</th>\n",
       "      <td>0.446223</td>\n",
       "      <td>0.451220</td>\n",
       "      <td>0.451220</td>\n",
       "    </tr>\n",
       "    <tr>\n",
       "      <th>1981-01-16</th>\n",
       "      <td>0.442653</td>\n",
       "      <td>0.454879</td>\n",
       "      <td>0.454879</td>\n",
       "    </tr>\n",
       "  </tbody>\n",
       "</table>\n",
       "</div>"
      ],
      "text/plain": [
       "            Adj Close    center   center2\n",
       "Date                                     \n",
       "1981-01-09   0.455147       NaN       NaN\n",
       "1981-01-12   0.451577  0.443278  0.443278\n",
       "1981-01-13   0.435513  0.444527  0.444527\n",
       "1981-01-14   0.437298  0.446937  0.446937\n",
       "1981-01-15   0.446223  0.451220  0.451220\n",
       "1981-01-16   0.442653  0.454879  0.454879"
      ]
     },
     "execution_count": 12,
     "metadata": {},
     "output_type": "execute_result"
    }
   ],
   "source": [
    "df.iloc[18:24]"
   ]
  },
  {
   "cell_type": "code",
   "execution_count": 13,
   "metadata": {},
   "outputs": [],
   "source": [
    "# 상단 밴드, 하단 밴드 생성\n",
    "# 상단 밴드 = 이동 평균선 + (2 * 20개 데이터의 표준편차 )\n",
    "df['ub'] = df['center'] + (2 * df['Adj Close'].rolling(20).std())\n",
    "\n",
    "# 하단 밴드 = 이동 평균선 - (2 * 20개의 데이터의 표준편차)\n",
    "df['lb'] = df['center'] - (2 * df['Adj Close'].rolling(20).std())"
   ]
  },
  {
   "cell_type": "code",
   "execution_count": 14,
   "metadata": {},
   "outputs": [
    {
     "data": {
      "text/html": [
       "<div>\n",
       "<style scoped>\n",
       "    .dataframe tbody tr th:only-of-type {\n",
       "        vertical-align: middle;\n",
       "    }\n",
       "\n",
       "    .dataframe tbody tr th {\n",
       "        vertical-align: top;\n",
       "    }\n",
       "\n",
       "    .dataframe thead th {\n",
       "        text-align: right;\n",
       "    }\n",
       "</style>\n",
       "<table border=\"1\" class=\"dataframe\">\n",
       "  <thead>\n",
       "    <tr style=\"text-align: right;\">\n",
       "      <th></th>\n",
       "      <th>Adj Close</th>\n",
       "      <th>center</th>\n",
       "      <th>center2</th>\n",
       "      <th>ub</th>\n",
       "      <th>lb</th>\n",
       "    </tr>\n",
       "    <tr>\n",
       "      <th>Date</th>\n",
       "      <th></th>\n",
       "      <th></th>\n",
       "      <th></th>\n",
       "      <th></th>\n",
       "      <th></th>\n",
       "    </tr>\n",
       "  </thead>\n",
       "  <tbody>\n",
       "    <tr>\n",
       "      <th>1981-01-09</th>\n",
       "      <td>0.455147</td>\n",
       "      <td>NaN</td>\n",
       "      <td>NaN</td>\n",
       "      <td>NaN</td>\n",
       "      <td>NaN</td>\n",
       "    </tr>\n",
       "    <tr>\n",
       "      <th>1981-01-12</th>\n",
       "      <td>0.451577</td>\n",
       "      <td>0.443278</td>\n",
       "      <td>0.443278</td>\n",
       "      <td>0.536950</td>\n",
       "      <td>0.349605</td>\n",
       "    </tr>\n",
       "    <tr>\n",
       "      <th>1981-01-13</th>\n",
       "      <td>0.435513</td>\n",
       "      <td>0.444527</td>\n",
       "      <td>0.444527</td>\n",
       "      <td>0.537019</td>\n",
       "      <td>0.352035</td>\n",
       "    </tr>\n",
       "    <tr>\n",
       "      <th>1981-01-14</th>\n",
       "      <td>0.437298</td>\n",
       "      <td>0.446937</td>\n",
       "      <td>0.446937</td>\n",
       "      <td>0.535789</td>\n",
       "      <td>0.358084</td>\n",
       "    </tr>\n",
       "    <tr>\n",
       "      <th>1981-01-15</th>\n",
       "      <td>0.446223</td>\n",
       "      <td>0.451220</td>\n",
       "      <td>0.451220</td>\n",
       "      <td>0.530255</td>\n",
       "      <td>0.372186</td>\n",
       "    </tr>\n",
       "  </tbody>\n",
       "</table>\n",
       "</div>"
      ],
      "text/plain": [
       "            Adj Close    center   center2        ub        lb\n",
       "Date                                                         \n",
       "1981-01-09   0.455147       NaN       NaN       NaN       NaN\n",
       "1981-01-12   0.451577  0.443278  0.443278  0.536950  0.349605\n",
       "1981-01-13   0.435513  0.444527  0.444527  0.537019  0.352035\n",
       "1981-01-14   0.437298  0.446937  0.446937  0.535789  0.358084\n",
       "1981-01-15   0.446223  0.451220  0.451220  0.530255  0.372186"
      ]
     },
     "execution_count": 14,
     "metadata": {},
     "output_type": "execute_result"
    }
   ],
   "source": [
    "df.iloc[18:23, ]"
   ]
  },
  {
   "cell_type": "code",
   "execution_count": 15,
   "metadata": {},
   "outputs": [],
   "source": [
    "# index를 시계열로 변경\n",
    "df.index = pd.to_datetime(df.index, format='%Y-%m-%d')"
   ]
  },
  {
   "cell_type": "code",
   "execution_count": 16,
   "metadata": {},
   "outputs": [
    {
     "data": {
      "image/png": "[encoded data removed]",
      "text/plain": [
       "<Figure size 1200x800 with 1 Axes>"
      ]
     },
     "metadata": {},
     "output_type": "display_data"
    }
   ],
   "source": [
    "x = df.tail(100).index\n",
    "price_y = df.tail(100)['Adj Close']\n",
    "ub_y = df.tail(100)['ub']\n",
    "lb_y = df.tail(100)['lb']\n",
    "\n",
    "plt.figure(figsize=(12, 8))\n",
    "plt.plot(x, price_y)\n",
    "plt.plot(x, ub_y)\n",
    "plt.plot(x, lb_y)\n",
    "plt.show()"
   ]
  },
  {
   "cell_type": "code",
   "execution_count": 17,
   "metadata": {},
   "outputs": [
    {
     "data": {
      "text/plain": [
       "<Axes: xlabel='Date'>"
      ]
     },
     "execution_count": 17,
     "metadata": {},
     "output_type": "execute_result"
    },
    {
     "data": {
      "image/png": "[encoded data removed]",
      "text/plain": [
       "<Figure size 640x480 with 1 Axes>"
      ]
     },
     "metadata": {},
     "output_type": "display_data"
    }
   ],
   "source": [
    "df[['Adj Close', 'ub', 'lb']].plot()"
   ]
  },
  {
   "cell_type": "code",
   "execution_count": 18,
   "metadata": {},
   "outputs": [],
   "source": [
    "# 투자 기간 선택\n",
    "start = '2010-01-01'"
   ]
  },
  {
   "cell_type": "code",
   "execution_count": 19,
   "metadata": {},
   "outputs": [],
   "source": [
    "# start는 시계열로 변경\n",
    "start = datetime.strptime(start, '%Y-%m-%d')"
   ]
  },
  {
   "cell_type": "code",
   "execution_count": 2,
   "metadata": {},
   "outputs": [
    {
     "ename": "NameError",
     "evalue": "name 'df' is not defined",
     "output_type": "error",
     "traceback": [
      "\u001b[1;31m---------------------------------------------------------------------------\u001b[0m",
      "\u001b[1;31mNameError\u001b[0m                                 Traceback (most recent call last)",
      "Cell \u001b[1;32mIn[2], line 1\u001b[0m\n\u001b[1;32m----> 1\u001b[0m test_df \u001b[38;5;241m=\u001b[39m \u001b[43mdf\u001b[49m\u001b[38;5;241m.\u001b[39mloc[start: , ]\n",
      "\u001b[1;31mNameError\u001b[0m: name 'df' is not defined"
     ]
    }
   ],
   "source": [
    "test_df = df.loc[start: , ]"
   ]
  },
  {
   "cell_type": "code",
   "execution_count": 21,
   "metadata": {},
   "outputs": [
    {
     "data": {
      "text/html": [
       "<div>\n",
       "<style scoped>\n",
       "    .dataframe tbody tr th:only-of-type {\n",
       "        vertical-align: middle;\n",
       "    }\n",
       "\n",
       "    .dataframe tbody tr th {\n",
       "        vertical-align: top;\n",
       "    }\n",
       "\n",
       "    .dataframe thead th {\n",
       "        text-align: right;\n",
       "    }\n",
       "</style>\n",
       "<table border=\"1\" class=\"dataframe\">\n",
       "  <thead>\n",
       "    <tr style=\"text-align: right;\">\n",
       "      <th></th>\n",
       "      <th>Adj Close</th>\n",
       "      <th>center</th>\n",
       "      <th>center2</th>\n",
       "      <th>ub</th>\n",
       "      <th>lb</th>\n",
       "    </tr>\n",
       "    <tr>\n",
       "      <th>Date</th>\n",
       "      <th></th>\n",
       "      <th></th>\n",
       "      <th></th>\n",
       "      <th></th>\n",
       "      <th></th>\n",
       "    </tr>\n",
       "  </thead>\n",
       "  <tbody>\n",
       "    <tr>\n",
       "      <th>2019-06-18</th>\n",
       "      <td>198.449997</td>\n",
       "      <td>185.4325</td>\n",
       "      <td>185.4325</td>\n",
       "      <td>201.032574</td>\n",
       "      <td>169.832427</td>\n",
       "    </tr>\n",
       "    <tr>\n",
       "      <th>2019-06-19</th>\n",
       "      <td>197.869995</td>\n",
       "      <td>185.9960</td>\n",
       "      <td>185.9960</td>\n",
       "      <td>202.558154</td>\n",
       "      <td>169.433846</td>\n",
       "    </tr>\n",
       "    <tr>\n",
       "      <th>2019-06-20</th>\n",
       "      <td>199.460007</td>\n",
       "      <td>186.8300</td>\n",
       "      <td>186.8300</td>\n",
       "      <td>204.361771</td>\n",
       "      <td>169.298229</td>\n",
       "    </tr>\n",
       "    <tr>\n",
       "      <th>2019-06-21</th>\n",
       "      <td>198.779999</td>\n",
       "      <td>187.7860</td>\n",
       "      <td>187.7860</td>\n",
       "      <td>205.751400</td>\n",
       "      <td>169.820600</td>\n",
       "    </tr>\n",
       "    <tr>\n",
       "      <th>2019-06-24</th>\n",
       "      <td>199.169998</td>\n",
       "      <td>188.7960</td>\n",
       "      <td>188.7960</td>\n",
       "      <td>206.944862</td>\n",
       "      <td>170.647138</td>\n",
       "    </tr>\n",
       "  </tbody>\n",
       "</table>\n",
       "</div>"
      ],
      "text/plain": [
       "             Adj Close    center   center2          ub          lb\n",
       "Date                                                              \n",
       "2019-06-18  198.449997  185.4325  185.4325  201.032574  169.832427\n",
       "2019-06-19  197.869995  185.9960  185.9960  202.558154  169.433846\n",
       "2019-06-20  199.460007  186.8300  186.8300  204.361771  169.298229\n",
       "2019-06-21  198.779999  187.7860  187.7860  205.751400  169.820600\n",
       "2019-06-24  199.169998  188.7960  188.7960  206.944862  170.647138"
      ]
     },
     "execution_count": 21,
     "metadata": {},
     "output_type": "execute_result"
    }
   ],
   "source": [
    "test_df.tail()"
   ]
  },
  {
   "cell_type": "code",
   "execution_count": 11,
   "metadata": {},
   "outputs": [
    {
     "ename": "NameError",
     "evalue": "name 'test_df' is not defined",
     "output_type": "error",
     "traceback": [
      "\u001b[1;31m---------------------------------------------------------------------------\u001b[0m",
      "\u001b[1;31mNameError\u001b[0m                                 Traceback (most recent call last)",
      "Cell \u001b[1;32mIn[11], line 1\u001b[0m\n\u001b[1;32m----> 1\u001b[0m \u001b[43mtest_df\u001b[49m[\u001b[38;5;124m'\u001b[39m\u001b[38;5;124mtrade\u001b[39m\u001b[38;5;124m'\u001b[39m] \u001b[38;5;241m=\u001b[39m \u001b[38;5;124m\"\u001b[39m\u001b[38;5;124m\"\u001b[39m\n",
      "\u001b[1;31mNameError\u001b[0m: name 'test_df' is not defined"
     ]
    }
   ],
   "source": [
    "test_df['trade'] = \"\""
   ]
  },
  {
   "cell_type": "markdown",
   "metadata": {},
   "source": [
    "## 보유 내역 추가\n",
    "- 조건식\n",
    "    - 상단밴드보다 수정 주가가 높거나 같은 경우\n",
    "        - 현재 보유상태라면\n",
    "            - 매도 (trade = \"\")\n",
    "        - 보유 상태가 아니라면\n",
    "            - 유지 (trade = \"')\n",
    "    - 상단밴드보다 낮고 하단밴드보다 높은 경우\n",
    "        - 현재 보유 상태 \n",
    "            - 유지 (trade = \"buy\")\n",
    "        - 보유 상태가 아니라면\n",
    "            - 유지 (trade = \"\")\n",
    "    - 하단밴드보다 낮거나 같은 경우\n",
    "        - 현재 보유 상태라면\n",
    "            - 유지 (trade = \"buy\")\n",
    "        - 보유 상태가 아니라면\n",
    "            - 매수 (trade = \"buy\")\n",
    "\n",
    "    "
   ]
  },
  {
   "cell_type": "code",
   "execution_count": 3,
   "metadata": {},
   "outputs": [
    {
     "ename": "NameError",
     "evalue": "name 'test_df' is not defined",
     "output_type": "error",
     "traceback": [
      "\u001b[1;31m---------------------------------------------------------------------------\u001b[0m",
      "\u001b[1;31mNameError\u001b[0m                                 Traceback (most recent call last)",
      "Cell \u001b[1;32mIn[3], line 1\u001b[0m\n\u001b[1;32m----> 1\u001b[0m \u001b[38;5;28;01mfor\u001b[39;00m i \u001b[38;5;129;01min\u001b[39;00m \u001b[43mtest_df\u001b[49m\u001b[38;5;241m.\u001b[39mindex:\n\u001b[0;32m      2\u001b[0m     \u001b[38;5;66;03m# i가 의미하는것은?  test_df의 index 값\u001b[39;00m\n\u001b[0;32m      3\u001b[0m     \u001b[38;5;66;03m# print(i)\u001b[39;00m\n\u001b[0;32m      4\u001b[0m     \u001b[38;5;66;03m# 수정 주가가 상단밴드보다 높거나 같은 경우\u001b[39;00m\n\u001b[0;32m      5\u001b[0m     \u001b[38;5;28;01mif\u001b[39;00m test_df\u001b[38;5;241m.\u001b[39mloc[i,\u001b[38;5;124m'\u001b[39m\u001b[38;5;124mAdj Close\u001b[39m\u001b[38;5;124m'\u001b[39m] \u001b[38;5;241m>\u001b[39m\u001b[38;5;241m=\u001b[39m test_df\u001b[38;5;241m.\u001b[39mloc[i,\u001b[38;5;124m'\u001b[39m\u001b[38;5;124mub\u001b[39m\u001b[38;5;124m'\u001b[39m]:\n\u001b[0;32m      6\u001b[0m         \u001b[38;5;66;03m# 현재 보유중이라면 -> trade를 buy로 변경\u001b[39;00m\n\u001b[0;32m      7\u001b[0m         \u001b[38;5;66;03m# 전날의 trade가 buy라면\u001b[39;00m\n\u001b[0;32m      8\u001b[0m         \u001b[38;5;28;01mif\u001b[39;00m test_df\u001b[38;5;241m.\u001b[39mshift()\u001b[38;5;241m.\u001b[39mloc[i,\u001b[38;5;124m'\u001b[39m\u001b[38;5;124mtrade\u001b[39m\u001b[38;5;124m'\u001b[39m] \u001b[38;5;241m==\u001b[39m \u001b[38;5;124m'\u001b[39m\u001b[38;5;124mbuy\u001b[39m\u001b[38;5;124m'\u001b[39m:\n",
      "\u001b[1;31mNameError\u001b[0m: name 'test_df' is not defined"
     ]
    }
   ],
   "source": [
    "for i in test_df.index:\n",
    "    # i가 의미하는것은?  test_df의 index 값\n",
    "    # print(i)\n",
    "    # 수정 주가가 상단밴드보다 높거나 같은 경우\n",
    "    if test_df.loc[i,'Adj Close'] >= test_df.loc[i,'ub']:\n",
    "        # 현재 보유중이라면 -> trade를 buy로 변경\n",
    "        # 전날의 trade가 buy라면\n",
    "        if test_df.shift().loc[i,'trade'] == 'buy':\n",
    "            test_df.loc[i,'trade'] = \"\"\n",
    "        # 보유중이 아니라면\n",
    "        else:\n",
    "            test_df.loc[i,'trade'] = \"\"\n",
    "    # 한단밴드보다 수정 주가가 낮거나 같은 경우\n",
    "    elif test_df.loc[i,'Adj Close'] <= test_df.loc[i,'lb']:\n",
    "        #현재 보유중이라면 -> trade를 \"buy\"로 변경\n",
    "        if test_df.shift().loc[i,'trade'] == 'buy':\n",
    "            test_df.loc[i,'trade'] = 'buy'\n",
    "        #현재 보유중이 아니라면 -> 매수\n",
    "        else :\n",
    "            test_df.loc[i,'trade'] = 'buy'\n",
    "    # 수정 주가가 밴드 사이에 있을떄\n",
    "    else :\n",
    "        #현재 보유 상태라면 -> 유지 trade를 \"buy\"\n",
    "        if test_df.shift().loc[i,'trade'] == 'buy':\n",
    "            test_df.loc[i,'trade'] = 'buy'\n",
    "        #보유 상태가 아니라면 -> 유지 trade를 \"\"\n",
    "        else:\n",
    "            test_df.loc[i,'trade'] = \"\""
   ]
  },
  {
   "cell_type": "code",
   "execution_count": 5,
   "metadata": {},
   "outputs": [
    {
     "ename": "NameError",
     "evalue": "name 'test_df' is not defined",
     "output_type": "error",
     "traceback": [
      "\u001b[1;31m---------------------------------------------------------------------------\u001b[0m",
      "\u001b[1;31mNameError\u001b[0m                                 Traceback (most recent call last)",
      "Cell \u001b[1;32mIn[5], line 1\u001b[0m\n\u001b[1;32m----> 1\u001b[0m \u001b[43mtest_df\u001b[49m[\u001b[38;5;124m'\u001b[39m\u001b[38;5;124mtrade\u001b[39m\u001b[38;5;124m'\u001b[39m]\u001b[38;5;241m.\u001b[39mvalue_counts()\n",
      "\u001b[1;31mNameError\u001b[0m: name 'test_df' is not defined"
     ]
    }
   ],
   "source": [
    "test_df['trade'].value_counts()"
   ]
  },
  {
   "cell_type": "markdown",
   "metadata": {},
   "source": [
    "## 수익율 계산\n",
    "- 구매한 날의 수정 주가\n",
    "    - 전날의 trade = \"\" 오늘의 trade = \"buy\"인 날의 수정 주가 \n",
    "- 판매한 날의 수정 주가\n",
    "    - 전날의 trade = \"buy\" 오늘의 trade = \"\"인 날의 수정 주가\n",
    "- 수익율\n",
    "    - 판매한 날의 수정주가/구매한 날의 수정주가"
   ]
  },
  {
   "cell_type": "code",
   "execution_count": 6,
   "metadata": {},
   "outputs": [
    {
     "ename": "NameError",
     "evalue": "name 'test_df' is not defined",
     "output_type": "error",
     "traceback": [
      "\u001b[1;31m---------------------------------------------------------------------------\u001b[0m",
      "\u001b[1;31mNameError\u001b[0m                                 Traceback (most recent call last)",
      "Cell \u001b[1;32mIn[6], line 2\u001b[0m\n\u001b[0;32m      1\u001b[0m \u001b[38;5;66;03m# 수익률 파생 변수를 생성\u001b[39;00m\n\u001b[1;32m----> 2\u001b[0m \u001b[43mtest_df\u001b[49m[\u001b[38;5;124m'\u001b[39m\u001b[38;5;124mrtn\u001b[39m\u001b[38;5;124m'\u001b[39m] \u001b[38;5;241m=\u001b[39m \u001b[38;5;241m1\u001b[39m\n",
      "\u001b[1;31mNameError\u001b[0m: name 'test_df' is not defined"
     ]
    }
   ],
   "source": [
    "# 수익률 파생 변수를 생성\n",
    "test_df['rtn'] = 1"
   ]
  },
  {
   "cell_type": "code",
   "execution_count": null,
   "metadata": {},
   "outputs": [],
   "source": [
    "acc_rtn = 1\n",
    "for i in test_df.index:\n",
    "    # 구매가 생성\n",
    "    if (test_df.shift().loc[i,'trade'] == \"\") & (test_df.loc[i,'trade'] == 'buy'):\n",
    "        buy = test_df.loc[i,'Adj Close']\n",
    "        print(f\"매수일: {i}, 매수가: {buy}\")\n",
    "    #팬매가 생성\n",
    "    elif (test_df.shift().loc[i,'trade'] == 'buy') & (test_df.loc[i,'trade'] == ''):\n",
    "        sell = test_df.loc[i,'Adj Close']\n",
    "        #수익을 계산\n",
    "        rtn = sell/buy\n",
    "        #계싼 된 수익율을 test_df에 rtn 컬럼에 대입\n",
    "        test_df.loc[i,'rtn'] = rtn\n",
    "        acc_rtn *= rtn\n",
    "        print(f\"매도일: {i}, 매도가: {sell}, 수익율: {rtn},누적 수익율: {acc_rtn}\")\n",
    "        "
   ]
  },
  {
   "cell_type": "code",
   "execution_count": null,
   "metadata": {},
   "outputs": [],
   "source": [
    "acc_rtn"
   ]
  },
  {
   "cell_type": "code",
   "execution_count": null,
   "metadata": {},
   "outputs": [],
   "source": [
    "test_df['acc_rtn'] = test_df['rtn'].cumprod()"
   ]
  },
  {
   "cell_type": "code",
   "execution_count": 7,
   "metadata": {},
   "outputs": [
    {
     "ename": "NameError",
     "evalue": "name 'test_df' is not defined",
     "output_type": "error",
     "traceback": [
      "\u001b[1;31m---------------------------------------------------------------------------\u001b[0m",
      "\u001b[1;31mNameError\u001b[0m                                 Traceback (most recent call last)",
      "Cell \u001b[1;32mIn[7], line 1\u001b[0m\n\u001b[1;32m----> 1\u001b[0m \u001b[43mtest_df\u001b[49m\u001b[38;5;241m.\u001b[39miloc[\u001b[38;5;241m-\u001b[39m\u001b[38;5;241m1\u001b[39m,][\u001b[38;5;124m'\u001b[39m\u001b[38;5;124macc_rtn\u001b[39m\u001b[38;5;124m'\u001b[39m]\n",
      "\u001b[1;31mNameError\u001b[0m: name 'test_df' is not defined"
     ]
    }
   ],
   "source": [
    "test_df.iloc[-1,]['acc_rtn']"
   ]
  },
  {
   "cell_type": "markdown",
   "metadata": {},
   "source": [
    "### 볼린저 밴드의 함수화\n",
    "1. 밴드를 생성하는 함수\n",
    "    - 매개변수 4개 (데이터프레임, 기준되는 컬럼명, 시작시간, 종료시간, 데이터의 개수)\n",
    "    - 기준이 되는 컬럼은 기본값을 Adj Close\n",
    "    - 시작시간은 기본값 2010-01-01\n",
    "    - 종료시간은 기본값 \"\"\n",
    "    - 데이터의 개수는 기본값은 20\n",
    "    - 인덱스가 Date인지 확인하여 아니라면 Date를 인덱스로 변경\n",
    "    - 인덱스를 시계열 데이터로 변경\n",
    "    - 시작시간, 종료시간을 시계열 데이터로 변경\n",
    "    - 결측치, 무한대 값을 제외\n",
    "    - 기준이 되는 컬럼을 제외하고 모두 삭제\n",
    "    - 이동 평균선, 상단밴드, 하단밴드 생성\n",
    "    - 시작시간, 종료시간으로 데이터 필터\n",
    "    - 위의 과정에서 나온 데이터프레임을 리턴"
   ]
  },
  {
   "cell_type": "markdown",
   "metadata": {},
   "source": []
  },
  {
   "cell_type": "code",
   "execution_count": 8,
   "metadata": {},
   "outputs": [],
   "source": [
    "def create_band(\n",
    "    _df,\n",
    "    _col = 'Adj Close',\n",
    "    _start = \"2010-01-01\",\n",
    "    _end = datetime.now(),\n",
    "    _cnt = 20):\n",
    "\n",
    "     #복사본 생성\n",
    "    df = _df.copy()\n",
    "    # 인덱스가 Date 인가?\n",
    "    if 'Date' in df.columns:\n",
    "        df.set_index('Date', inplace=True)\n",
    "\n",
    "    # index를 시계열 데이터로 변경\n",
    "    df.index = pd.to_datetime(df.index, format='%Y-%m-%d')\n",
    "\n",
    "    # 시작시간과 종료 시간은 시계열로 변경\n",
    "    try:\n",
    "            start = datetime.strptime(_start, '%Y-%m-%d')\n",
    "            if type(_end) == \"str\":\n",
    "                end = datetime.strptime(_end, '%Y-%m-%d')\n",
    "            else:\n",
    "                end = _end\n",
    "    except:\n",
    "            return \"인자갑의 타입이 잘못되었습니다.(예 : YYYY-mm-dd)\"\n",
    "    \n",
    "    # 결측치와 무한대 값을 제외\n",
    "    flag = df.isin([np.nan, np.inf, np.inf]).any(axis=1)\n",
    "    df = df.loc[~flag, ]\n",
    "\n",
    "    # 기준이 되는 컬럼을 제외하고 모두 삭제\n",
    "    result = df[[_col]]\n",
    "\n",
    "    # 이동 평균선, 상단밴드, 하단밴드 생성\n",
    "    result ['center'] = result[_col].rolling(_cnt).mean()\n",
    "    result['ub'] = result['center'] + (2 * result[_col].rolling(_cnt).std())\n",
    "    result['lb'] = result['center'] - (2 * result[_col].rolling(_cnt).std())\n",
    "\n",
    "    # 시작 시간과 종료시간으로 필터링\n",
    "    result = result.loc[start:end, ]\n",
    "\n",
    "    return result\n",
    "    "
   ]
  },
  {
   "cell_type": "code",
   "execution_count": 5,
   "metadata": {},
   "outputs": [],
   "source": [
    "df = pd.read_csv(\"../../../csv/AMZN.csv\")"
   ]
  },
  {
   "cell_type": "code",
   "execution_count": 9,
   "metadata": {},
   "outputs": [
    {
     "name": "stderr",
     "output_type": "stream",
     "text": [
      "C:\\Users\\User\\AppData\\Local\\Temp\\ipykernel_19444\\2850345257.py:35: SettingWithCopyWarning: \n",
      "A value is trying to be set on a copy of a slice from a DataFrame.\n",
      "Try using .loc[row_indexer,col_indexer] = value instead\n",
      "\n",
      "See the caveats in the documentation: https://pandas.pydata.org/pandas-docs/stable/user_guide/indexing.html#returning-a-view-versus-a-copy\n",
      "  result ['center'] = result[_col].rolling(_cnt).mean()\n",
      "C:\\Users\\User\\AppData\\Local\\Temp\\ipykernel_19444\\2850345257.py:36: SettingWithCopyWarning: \n",
      "A value is trying to be set on a copy of a slice from a DataFrame.\n",
      "Try using .loc[row_indexer,col_indexer] = value instead\n",
      "\n",
      "See the caveats in the documentation: https://pandas.pydata.org/pandas-docs/stable/user_guide/indexing.html#returning-a-view-versus-a-copy\n",
      "  result['ub'] = result['center'] + (2 * result[_col].rolling(_cnt).std())\n",
      "C:\\Users\\User\\AppData\\Local\\Temp\\ipykernel_19444\\2850345257.py:37: SettingWithCopyWarning: \n",
      "A value is trying to be set on a copy of a slice from a DataFrame.\n",
      "Try using .loc[row_indexer,col_indexer] = value instead\n",
      "\n",
      "See the caveats in the documentation: https://pandas.pydata.org/pandas-docs/stable/user_guide/indexing.html#returning-a-view-versus-a-copy\n",
      "  result['lb'] = result['center'] - (2 * result[_col].rolling(_cnt).std())\n"
     ]
    }
   ],
   "source": [
    "band_df = create_band(df)"
   ]
  },
  {
   "cell_type": "code",
   "execution_count": 14,
   "metadata": {},
   "outputs": [
    {
     "data": {
      "text/html": [
       "<div>\n",
       "<style scoped>\n",
       "    .dataframe tbody tr th:only-of-type {\n",
       "        vertical-align: middle;\n",
       "    }\n",
       "\n",
       "    .dataframe tbody tr th {\n",
       "        vertical-align: top;\n",
       "    }\n",
       "\n",
       "    .dataframe thead th {\n",
       "        text-align: right;\n",
       "    }\n",
       "</style>\n",
       "<table border=\"1\" class=\"dataframe\">\n",
       "  <thead>\n",
       "    <tr style=\"text-align: right;\">\n",
       "      <th></th>\n",
       "      <th>Adj Close</th>\n",
       "      <th>center</th>\n",
       "      <th>ub</th>\n",
       "      <th>lb</th>\n",
       "    </tr>\n",
       "    <tr>\n",
       "      <th>Date</th>\n",
       "      <th></th>\n",
       "      <th></th>\n",
       "      <th></th>\n",
       "      <th></th>\n",
       "    </tr>\n",
       "  </thead>\n",
       "  <tbody>\n",
       "    <tr>\n",
       "      <th>2010-01-04</th>\n",
       "      <td>133.899994</td>\n",
       "      <td>133.984001</td>\n",
       "      <td>141.460445</td>\n",
       "      <td>126.507556</td>\n",
       "    </tr>\n",
       "    <tr>\n",
       "      <th>2010-01-05</th>\n",
       "      <td>134.690002</td>\n",
       "      <td>133.839500</td>\n",
       "      <td>141.132776</td>\n",
       "      <td>126.546225</td>\n",
       "    </tr>\n",
       "    <tr>\n",
       "      <th>2010-01-06</th>\n",
       "      <td>132.250000</td>\n",
       "      <td>133.741500</td>\n",
       "      <td>141.066419</td>\n",
       "      <td>126.416581</td>\n",
       "    </tr>\n",
       "    <tr>\n",
       "      <th>2010-01-07</th>\n",
       "      <td>130.000000</td>\n",
       "      <td>133.536000</td>\n",
       "      <td>141.045671</td>\n",
       "      <td>126.026329</td>\n",
       "    </tr>\n",
       "    <tr>\n",
       "      <th>2010-01-08</th>\n",
       "      <td>133.520004</td>\n",
       "      <td>133.646500</td>\n",
       "      <td>141.082939</td>\n",
       "      <td>126.210062</td>\n",
       "    </tr>\n",
       "  </tbody>\n",
       "</table>\n",
       "</div>"
      ],
      "text/plain": [
       "             Adj Close      center          ub          lb\n",
       "Date                                                      \n",
       "2010-01-04  133.899994  133.984001  141.460445  126.507556\n",
       "2010-01-05  134.690002  133.839500  141.132776  126.546225\n",
       "2010-01-06  132.250000  133.741500  141.066419  126.416581\n",
       "2010-01-07  130.000000  133.536000  141.045671  126.026329\n",
       "2010-01-08  133.520004  133.646500  141.082939  126.210062"
      ]
     },
     "execution_count": 14,
     "metadata": {},
     "output_type": "execute_result"
    }
   ],
   "source": [
    "band_df.head()"
   ]
  },
  {
   "cell_type": "markdown",
   "metadata": {},
   "source": [
    "- 트레이드 컬럼을 생성하는 함수\n",
    "    - 매개변수 1개 -> 1번 함수에서 생성된 데이터프레임 인자 값으로 받아온다.\n",
    "    - trade 컬럼을 생성하여 값들은 \"\"대입\n",
    "    - 밴드들을 이용하여 보유 상태를 대입\n",
    "    - 결과값을 리턴\n",
    "    "
   ]
  },
  {
   "cell_type": "code",
   "execution_count": 15,
   "metadata": {},
   "outputs": [],
   "source": [
    "def create_trade(_df):\n",
    "    # 기준이 되는 컬럼의 이름을 변수에 저장\n",
    "    col = _df.columns[0]\n",
    "\n",
    "    df = _df.copy()\n",
    "\n",
    "    # 거래 내역이라는 컬럼을 생성\n",
    "    df['trade'] = \"\"\n",
    "\n",
    "    # 거래 내역 추가\n",
    "    for i in df.index:\n",
    "        # 상단밴드보다 기준이 되는 컬럼의 값이 높거나 같은 경우\n",
    "        if df.loc[i, col] >= df.loc[i, 'ub']:\n",
    "            df.loc[i, 'trade'] = \"\"\n",
    "        # 하단밴드보다 col의 값이 작거나 같은 경우\n",
    "        elif df.loc[i, col] <= df.loc[i, 'lb']:\n",
    "            df.loc[i, 'trade'] = \"buy\"\n",
    "        # 밴드 사이에 col의 값이 존재한다면\n",
    "        else: \n",
    "            df.loc[i, 'trade'] = df.shift().loc[i, 'trade']\n",
    "    return df\n"
   ]
  },
  {
   "cell_type": "code",
   "execution_count": 16,
   "metadata": {},
   "outputs": [],
   "source": [
    "trade_df = create_trade(band_df)"
   ]
  },
  {
   "cell_type": "code",
   "execution_count": 17,
   "metadata": {},
   "outputs": [
    {
     "data": {
      "text/plain": [
       "trade\n",
       "       1483\n",
       "buy     863\n",
       "Name: count, dtype: int64"
      ]
     },
     "execution_count": 17,
     "metadata": {},
     "output_type": "execute_result"
    }
   ],
   "source": [
    "trade_df['trade'].value_counts()"
   ]
  },
  {
   "cell_type": "markdown",
   "metadata": {},
   "source": [
    "- 수익률을 계산하는 함수\n",
    "    - 매개변수 1개 -> 2번 함수에서 나온 결과를 인자값으로 받아온다.\n",
    "    - 수익률('rtn') 컬럼을 생성하여 데이터는 1 대입\n",
    "    - 구매한 날의 데이터와 판매한 날의 데이터를 기준으로 수익률을 계산하여 rtn에 대입\n",
    "    - 누적수익률('acc_rtn') 컬럼을 생성하여 수익률의 누적곱을 대입\n",
    "    - 결과는 데이터프레임과 총 누적수익률을 리턴"
   ]
  },
  {
   "cell_type": "code",
   "execution_count": 1,
   "metadata": {},
   "outputs": [],
   "source": [
    "def create_rtn(_df):\n",
    "    # 기준이 되는 컬럼을 변수에 저장\n",
    "    col = _df.columns[0]\n",
    "    # 복사본 생성\n",
    "    df = _df.copy()\n",
    "    # 수익률 파생변수 생성\n",
    "    df['rtn'] = 1\n",
    "\n",
    "    # 수익률 계산하는 반복문\n",
    "    for i in df.index:\n",
    "        # 구매한 날\n",
    "        if (df.shift().loc[i, 'trade'] == '') & (df.loc[i, 'trade'] == 'buy'):\n",
    "            buy = df.loc[i, col]\n",
    "            print(f\"매수 일 : {i}, 매수가 : {buy}\")\n",
    "        # 판매한 날\n",
    "        elif (df.shift().loc[i, 'trade'] == 'buy') & (df.loc[i, 'trade'] == \"\"):\n",
    "            sell = df.loc[i, col]\n",
    "            rtn = sell / buy\n",
    "            print(f\"매도 일 : {i}, 매도가 : {sell}, 수익률 : {rtn}\")\n",
    "            df.loc[i, 'rtn'] = rtn\n",
    "    # 누적 수익률 계산\n",
    "    df['acc_rtn'] = df['rtn'].cumprod()\n",
    "    acc_rtn = df.iloc[-1, ]['acc_rtn']\n",
    "    return df, acc_rtn"
   ]
  },
  {
   "cell_type": "code",
   "execution_count": null,
   "metadata": {},
   "outputs": [],
   "source": []
  }
 ],
 "metadata": {
  "kernelspec": {
   "display_name": "Python 3",
   "language": "python",
   "name": "python3"
  },
  "language_info": {
   "codemirror_mode": {
    "name": "ipython",
    "version": 3
   },
   "file_extension": ".py",
   "mimetype": "text/x-python",
   "name": "python",
   "nbconvert_exporter": "python",
   "pygments_lexer": "ipython3",
   "version": "3.12.1"
  }
 },
 "nbformat": 4,
 "nbformat_minor": 2
}
