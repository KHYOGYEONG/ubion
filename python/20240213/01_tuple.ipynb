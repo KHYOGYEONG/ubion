{
 "cells": [
  {
   "cell_type": "markdown",
   "metadata": {},
   "source": [
    "### 자료형 구조 데이터\n",
    "1. tuple\n",
    "    - 자료형 데이터에서 가장 기본적인 데이터의 형태\n",
    "    - ()로 묶어서 데이터의 형태를 생성\n",
    "    - 각 원소들을 수정, 추가, 삭제가 불가능\n",
    "    \n",
    "2. list\n",
    "    - tuple과 달리 각 원소들을 수정, 추가, 삭제가 가능한 데이터의 형태\n",
    "    - []로 묶어서 데이터의 형태를 생성\n",
    "    - 원소의 개수가 0개인 리스트부터 생성이 가능\n",
    "\n",
    "3. dict\n",
    "    - 사전형 데이터의 구조\n",
    "    - R에서는 리스트의 형태와 흡사\n",
    "    - {}로 묶어서 데이터의 형태를 생성\n",
    "    - key : value의 형태로 데이터가 구성"
   ]
  },
  {
   "cell_type": "code",
   "execution_count": 1,
   "metadata": {},
   "outputs": [
    {
     "name": "stdout",
     "output_type": "stream",
     "text": [
      "(1, 'hello')\n",
      "<class 'tuple'>\n",
      "(3, 3.14)\n",
      "<class 'tuple'>\n"
     ]
    }
   ],
   "source": [
    "## tuple 데이터\n",
    "a = (1, 'hello')\n",
    "b = (3, 3.14)\n",
    "print(a)\n",
    "print(type(a))\n",
    "print(b)\n",
    "print(type(b))"
   ]
  },
  {
   "cell_type": "code",
   "execution_count": 5,
   "metadata": {},
   "outputs": [
    {
     "name": "stdout",
     "output_type": "stream",
     "text": [
      "(1, 'hello', 3, 3.14)\n"
     ]
    }
   ],
   "source": [
    "# tuple의 합 -> 실제 더하기가 아니라 연결됨\n",
    "c = a + b  #튜플끼리 더함\n",
    "print(c)"
   ]
  },
  {
   "cell_type": "code",
   "execution_count": 7,
   "metadata": {},
   "outputs": [
    {
     "name": "stdout",
     "output_type": "stream",
     "text": [
      "(1, 'hello', 1, 'hello', 1, 'hello')\n"
     ]
    }
   ],
   "source": [
    "# tuple의 곱 -> 튜플이 연결됨.\n",
    "d = a * 3\n",
    "print(d)"
   ]
  },
  {
   "cell_type": "code",
   "execution_count": 8,
   "metadata": {},
   "outputs": [
    {
     "name": "stdout",
     "output_type": "stream",
     "text": [
      "1\n",
      "3.14\n"
     ]
    }
   ],
   "source": [
    "# 특정 위치의 데이터를 추출\n",
    "print(a[0])\n",
    "print(b[1])"
   ]
  },
  {
   "cell_type": "code",
   "execution_count": 38,
   "metadata": {},
   "outputs": [],
   "source": [
    "## list 데이터\n",
    "a = [10, 20, 40, 30]\n",
    "b = [20, 10, 30, 40]"
   ]
  },
  {
   "cell_type": "code",
   "execution_count": 13,
   "metadata": {},
   "outputs": [
    {
     "name": "stdout",
     "output_type": "stream",
     "text": [
      "<class 'list'>\n"
     ]
    }
   ],
   "source": [
    "print(type(a))"
   ]
  },
  {
   "cell_type": "code",
   "execution_count": 39,
   "metadata": {},
   "outputs": [
    {
     "name": "stdout",
     "output_type": "stream",
     "text": [
      "[10, 20, 30, 40]\n"
     ]
    }
   ],
   "source": [
    "## 리스트의 순서를 변경하는 함수\n",
    "\n",
    "## 오름차순 정렬\n",
    "a.sort() \n",
    "print(a)"
   ]
  },
  {
   "cell_type": "code",
   "execution_count": 22,
   "metadata": {},
   "outputs": [
    {
     "name": "stdout",
     "output_type": "stream",
     "text": [
      "[40, 30, 10, 20]\n"
     ]
    }
   ],
   "source": [
    "## 역순으로 정렬을 변경\n",
    "b.reverse()\n",
    "print(b)"
   ]
  },
  {
   "cell_type": "code",
   "execution_count": 31,
   "metadata": {},
   "outputs": [],
   "source": [
    "c = [4, 7, 2, 3, 9, 1]"
   ]
  },
  {
   "cell_type": "code",
   "execution_count": 27,
   "metadata": {},
   "outputs": [
    {
     "name": "stdout",
     "output_type": "stream",
     "text": [
      "[9, 7, 4, 3, 2, 1]\n"
     ]
    }
   ],
   "source": [
    "## 오름차순 정렬 후 역순으로 변경 = 내림차순 정렬\n",
    "c.sort()\n",
    "c.reverse()\n",
    "print(c)"
   ]
  },
  {
   "cell_type": "code",
   "execution_count": 34,
   "metadata": {},
   "outputs": [
    {
     "name": "stdout",
     "output_type": "stream",
     "text": [
      "[9, 7, 4, 3, 2, 1]\n"
     ]
    }
   ],
   "source": [
    "c.sort(reverse=True)\n",
    "print(c)"
   ]
  },
  {
   "cell_type": "code",
   "execution_count": 40,
   "metadata": {},
   "outputs": [
    {
     "name": "stdout",
     "output_type": "stream",
     "text": [
      "[10, 20, 30]\n"
     ]
    }
   ],
   "source": [
    "## 리스트의 마지막 원소를 제거\n",
    "## pop()\n",
    "a.pop() # 40이 제거\n",
    "print(a)"
   ]
  },
  {
   "cell_type": "code",
   "execution_count": 41,
   "metadata": {},
   "outputs": [
    {
     "name": "stdout",
     "output_type": "stream",
     "text": [
      "[20, 10, 30, 40, 22]\n"
     ]
    }
   ],
   "source": [
    "## 리스트의 가장 마지막에 데이터를 추가\n",
    "## append({값})\n",
    "b.append(22)\n",
    "print(b)"
   ]
  },
  {
   "cell_type": "code",
   "execution_count": 47,
   "metadata": {},
   "outputs": [
    {
     "name": "stdout",
     "output_type": "stream",
     "text": [
      "[10, 20, 30, 50, 70]\n"
     ]
    }
   ],
   "source": [
    "## 반복문을 이용해서 리스트의 중복 데이터를 제거\n",
    "\n",
    "_list = [10, 20, 30, 20, 10, 50, 70]\n",
    "result = [] #비어있는 공간 만들어주기\n",
    "\n",
    "for i in _list:\n",
    "    if result.count(i) == 0: #넣을 곳에 i가 존재하는지 확인하는 과정\n",
    "        result.append(i) #추가해주기\n",
    "print(result)\n",
    "\n",
    "    # print(i)\n",
    "    # result에 i가 존재하는가?\n",
    "    # 존재하지 않는다면 result에 i를 추가\n",
    "    # 존재한다면 아무 행동도 하지 않는다."
   ]
  },
  {
   "cell_type": "code",
   "execution_count": 46,
   "metadata": {},
   "outputs": [
    {
     "name": "stdout",
     "output_type": "stream",
     "text": [
      "0\n",
      "2\n"
     ]
    }
   ],
   "source": [
    "## index()\n",
    "#print(_list.index(22)) -> 에러가 나니까 조건식에 사용할 수 없음.\n",
    "\n",
    "## count()\n",
    "# 데이터가 존재하지 않는 경우\n",
    "print(_list.count(22)) # -> 없을때는 0으로 출력됨, 조건식 사용 가능!!\n",
    "# 데이터가 존재하지 않는 경우\n",
    "print(_list.count(20))"
   ]
  },
  {
   "cell_type": "code",
   "execution_count": 49,
   "metadata": {},
   "outputs": [
    {
     "name": "stdout",
     "output_type": "stream",
     "text": [
      "{'name': 'test', 'age': 20, 'phone': '01012345678'}\n"
     ]
    }
   ],
   "source": [
    "# dict 데이터\n",
    "_dict = {\n",
    "    'name' : 'test',\n",
    "    'age' : 20,\n",
    "    'phone' : '01012345678'\n",
    "}\n",
    "\n",
    "print(_dict)"
   ]
  },
  {
   "cell_type": "code",
   "execution_count": 53,
   "metadata": {},
   "outputs": [],
   "source": [
    "# 새로운 키 : 벨류 추가\n",
    "#_dict['loc'] #에러남. loc라는 키가 존재하지 않아서~\n",
    "\n",
    "_dict['loc'] = 'seoul'"
   ]
  },
  {
   "cell_type": "code",
   "execution_count": 56,
   "metadata": {},
   "outputs": [
    {
     "name": "stdout",
     "output_type": "stream",
     "text": [
      "{'name': 'test', 'age': 20, 'phone': '01012345678', 'loc': 'seoul'}\n"
     ]
    }
   ],
   "source": [
    "print(_dict)"
   ]
  },
  {
   "cell_type": "code",
   "execution_count": 60,
   "metadata": {},
   "outputs": [
    {
     "name": "stdout",
     "output_type": "stream",
     "text": [
      "{'name': 'kim', 'age': 20, 'phone': '01012345678', 'loc': 'seoul'}\n"
     ]
    }
   ],
   "source": [
    "# 기존 키값의 벨류를 수정하려면\n",
    "_dict['name'] = 'kim' #기존 키를 선택하고 = 'kim으로 변경\n",
    "print(_dict)"
   ]
  },
  {
   "cell_type": "code",
   "execution_count": 65,
   "metadata": {},
   "outputs": [
    {
     "name": "stdout",
     "output_type": "stream",
     "text": [
      "[10, 50, 30, 20, 10, 50, 70]\n"
     ]
    }
   ],
   "source": [
    "_list[1] = 50 #바꾸려면 무조건 지정 후 할당해주면 됨\n",
    "print(_list)"
   ]
  },
  {
   "cell_type": "code",
   "execution_count": 67,
   "metadata": {},
   "outputs": [],
   "source": [
    "#_list[7] = 11 -> list는 기존값을 새로운 값으로만 변경 가능, 새롭게 추가 불가, dict는 가능  "
   ]
  },
  {
   "cell_type": "code",
   "execution_count": 71,
   "metadata": {},
   "outputs": [
    {
     "name": "stdout",
     "output_type": "stream",
     "text": [
      "name\n",
      "age\n",
      "phone\n",
      "loc\n",
      "kim\n",
      "20\n",
      "01012345678\n",
      "seoul\n"
     ]
    }
   ],
   "source": [
    "# 딕셔너리 데이터에서 키값을 보는법\n",
    "for i in _dict:\n",
    "    print(i)\n",
    "# 딕셔너리에서 벨류값을 보는 법\n",
    "for i in _dict:\n",
    "    print(_dict[i])\n"
   ]
  },
  {
   "cell_type": "code",
   "execution_count": 74,
   "metadata": {},
   "outputs": [
    {
     "data": {
      "text/plain": [
       "dict_keys(['name', 'age', 'phone', 'loc'])"
      ]
     },
     "execution_count": 74,
     "metadata": {},
     "output_type": "execute_result"
    }
   ],
   "source": [
    "# 함수로 딕셔녀리 키값을 보는 방법 2\n",
    "_dict.keys()"
   ]
  },
  {
   "cell_type": "code",
   "execution_count": 75,
   "metadata": {},
   "outputs": [
    {
     "data": {
      "text/plain": [
       "dict_values(['kim', 20, '01012345678', 'seoul'])"
      ]
     },
     "execution_count": 75,
     "metadata": {},
     "output_type": "execute_result"
    }
   ],
   "source": [
    "# 함수로 딕셔너리 벨류값을 보는 방법2\n",
    "_dict.values()"
   ]
  },
  {
   "cell_type": "code",
   "execution_count": 77,
   "metadata": {},
   "outputs": [
    {
     "name": "stdout",
     "output_type": "stream",
     "text": [
      "kim\n",
      "20\n",
      "01012345678\n",
      "seoul\n"
     ]
    }
   ],
   "source": [
    "for i in _dict.values():\n",
    "    print(i)"
   ]
  },
  {
   "cell_type": "code",
   "execution_count": 90,
   "metadata": {},
   "outputs": [],
   "source": [
    "## openapi, DB 에서 데이터를 가지고오는 경우 데이터의 형태\n",
    "# 2차원 데이터에서 test를 가지고 오는 방법\n",
    "\n",
    "test_data = [\n",
    "    {\n",
    "        'name' : 'test',\n",
    "        'age' : 20 \n",
    "    },\n",
    "    {\n",
    "        'name' : 'test2',\n",
    "        'age' : 30\n",
    "    },\n",
    "    {\n",
    "        'name' : 'test3',\n",
    "        'age' : 40\n",
    "    }\n",
    "]"
   ]
  },
  {
   "cell_type": "code",
   "execution_count": 85,
   "metadata": {},
   "outputs": [
    {
     "name": "stdout",
     "output_type": "stream",
     "text": [
      "[{'name': 'test', 'age': 20}, {'name': 'test2', 'age': 30}, {'name': 'test3', 'age': 40}]\n",
      "{'name': 'test', 'age': 20}\n",
      "test\n"
     ]
    }
   ],
   "source": [
    "# test_data에서 'test'라는 문자열을 출력하려면\n",
    "print(test_data)\n",
    "# 'test'문자열은 리스트에서 첫번째 원소에 존재\n",
    "print(test_data[0])\n",
    "# 키값('name')의 데이터를 출력\n",
    "print(test_data[0]['name'])"
   ]
  },
  {
   "cell_type": "code",
   "execution_count": 105,
   "metadata": {},
   "outputs": [
    {
     "name": "stdout",
     "output_type": "stream",
     "text": [
      "['test', 'test2', 'test3']\n"
     ]
    }
   ],
   "source": [
    "## test_data에서 'name'의 value들만 추출하여 새로운 리스트로 출력\n",
    "\n",
    "# 첫번째 방법 \n",
    "result = []\n",
    "result.append(test_data[0]['name'])\n",
    "result.append(test_data[1]['name'])\n",
    "result.append(test_data[2]['name'])\n",
    "\n",
    "print(result)\n"
   ]
  },
  {
   "cell_type": "code",
   "execution_count": 110,
   "metadata": {},
   "outputs": [
    {
     "name": "stdout",
     "output_type": "stream",
     "text": [
      "['test', 'test2', 'test3']\n"
     ]
    }
   ],
   "source": [
    "# 두번째 방법\n",
    "# 리스트의 길이를 이용하여 반복문을 생성\n",
    "#print(len(test_data))\n",
    "result = []\n",
    "\n",
    "for i in range(0, len(test_data), 1): # 몇번 반복할건지\n",
    "    result.append(test_data[i]['name'])\n",
    "\n",
    "print(result)\n"
   ]
  },
  {
   "cell_type": "code",
   "execution_count": 115,
   "metadata": {},
   "outputs": [
    {
     "name": "stdout",
     "output_type": "stream",
     "text": [
      "['test', 'test2', 'test3']\n"
     ]
    }
   ],
   "source": [
    "result = []\n",
    "\n",
    "for i in test_data:\n",
    "    #print(i['name'])\n",
    "\n",
    "    result.append(i['name'])\n",
    "\n",
    "print(result)"
   ]
  },
  {
   "cell_type": "code",
   "execution_count": 129,
   "metadata": {},
   "outputs": [
    {
     "name": "stdout",
     "output_type": "stream",
     "text": [
      "['test', 'test2', 'test3']\n"
     ]
    }
   ],
   "source": [
    "# while문 사용하기\n",
    "i = 0\n",
    "result = []\n",
    "\n",
    "while  i < len(test_data):\n",
    "    result.append(test_data[i]['name'])\n",
    "    i += 1 # 반복을 할 때마다 i를 증가시켜줘야한다.\n",
    "\n",
    "print(result)"
   ]
  },
  {
   "cell_type": "code",
   "execution_count": 135,
   "metadata": {},
   "outputs": [
    {
     "name": "stdout",
     "output_type": "stream",
     "text": [
      "['test', 'test2', 'test3']\n"
     ]
    }
   ],
   "source": [
    "## try ... except 구문\n",
    "## try:\n",
    "## 시도할 코드 작성\n",
    "## except :\n",
    "## 에러가 발생시 실행할 코드\n",
    "result = []\n",
    "i = 0\n",
    "\n",
    "while True:\n",
    "    try:\n",
    "        result.append(test_data[i]['name'])\n",
    "    except:\n",
    "        break\n",
    "    i += 1\n",
    "    \n",
    "print(result)"
   ]
  }
 ],
 "metadata": {
  "kernelspec": {
   "display_name": "Python 3",
   "language": "python",
   "name": "python3"
  },
  "language_info": {
   "codemirror_mode": {
    "name": "ipython",
    "version": 3
   },
   "file_extension": ".py",
   "mimetype": "text/x-python",
   "name": "python",
   "nbconvert_exporter": "python",
   "pygments_lexer": "ipython3",
   "version": "3.12.1"
  }
 },
 "nbformat": 4,
 "nbformat_minor": 2
}
