{
 "cells": [
  {
   "cell_type": "markdown",
   "metadata": {},
   "source": [
    "Python에서 제공하는 문자열 내장함수"
   ]
  },
  {
   "cell_type": "code",
   "execution_count": 1,
   "metadata": {},
   "outputs": [],
   "source": [
    "# 문자열의 길이를 출력\n",
    "a = 'Hello'\n",
    "b = ' Hello '"
   ]
  },
  {
   "cell_type": "code",
   "execution_count": 4,
   "metadata": {},
   "outputs": [
    {
     "name": "stdout",
     "output_type": "stream",
     "text": [
      "5\n",
      "7\n"
     ]
    }
   ],
   "source": [
    "print(len(a))\n",
    "print(len(b)) #공백도 포함해서 카운트함."
   ]
  },
  {
   "cell_type": "code",
   "execution_count": 6,
   "metadata": {},
   "outputs": [
    {
     "name": "stdout",
     "output_type": "stream",
     "text": [
      "HELLO WORLD\n",
      "hello world\n",
      "hELLO WORLD\n",
      "Hello World\n"
     ]
    }
   ],
   "source": [
    "## 문자의 형태를 변환 (대, 소문자 변환)\n",
    "a = \"Hello world\"\n",
    "\n",
    "# 문자를 모두 대문자로 변환\n",
    "print(a.upper())\n",
    "# 문자를 모두 소문자로 변환\n",
    "print(a.lower())\n",
    "# 문자의 대문자를 소문자로, 소문자를 대문자로 변환\n",
    "print(a.swapcase())\n",
    "# 단어의 첫글자를 대문자로 변환\n",
    "print(a.title())"
   ]
  },
  {
   "cell_type": "code",
   "execution_count": 8,
   "metadata": {},
   "outputs": [
    {
     "name": "stdout",
     "output_type": "stream",
     "text": [
      "None\n"
     ]
    }
   ],
   "source": [
    "_list = [4, 3, 2, 6]\n",
    "print(_list.sort())"
   ]
  },
  {
   "cell_type": "code",
   "execution_count": 11,
   "metadata": {},
   "outputs": [
    {
     "name": "stdout",
     "output_type": "stream",
     "text": [
      "Hello world\n"
     ]
    }
   ],
   "source": [
    "print(a)"
   ]
  },
  {
   "cell_type": "code",
   "execution_count": 13,
   "metadata": {},
   "outputs": [
    {
     "name": "stdout",
     "output_type": "stream",
     "text": [
      "HELLO WORLD\n"
     ]
    }
   ],
   "source": [
    "a = a.upper() #a에 적용해주기\n",
    "print(a)"
   ]
  },
  {
   "cell_type": "code",
   "execution_count": 16,
   "metadata": {},
   "outputs": [
    {
     "data": {
      "text/plain": [
       "'   Hello  World   '"
      ]
     },
     "execution_count": 16,
     "metadata": {},
     "output_type": "execute_result"
    }
   ],
   "source": [
    "## 문자열의 좌우 공백을 제거하는 함수\n",
    "test_text = \"   Hello  World   \"\n",
    "#print(test_text) #print를 사용하면 공백을 확인할 수 없다.\n",
    "test_text #그냥 출력해야지 공백이 보임"
   ]
  },
  {
   "cell_type": "code",
   "execution_count": 18,
   "metadata": {},
   "outputs": [
    {
     "data": {
      "text/plain": [
       "'Hello  World'"
      ]
     },
     "execution_count": 18,
     "metadata": {},
     "output_type": "execute_result"
    }
   ],
   "source": [
    "## 양쪽 공백 모두 제거 : strip()\n",
    "test_text.strip()"
   ]
  },
  {
   "cell_type": "code",
   "execution_count": 20,
   "metadata": {},
   "outputs": [
    {
     "data": {
      "text/plain": [
       "'Hello  World   '"
      ]
     },
     "execution_count": 20,
     "metadata": {},
     "output_type": "execute_result"
    }
   ],
   "source": [
    "## 좌측의 공백을 제거 : lstrip()\n",
    "test_text.lstrip()"
   ]
  },
  {
   "cell_type": "code",
   "execution_count": 22,
   "metadata": {},
   "outputs": [
    {
     "data": {
      "text/plain": [
       "'   Hello  World'"
      ]
     },
     "execution_count": 22,
     "metadata": {},
     "output_type": "execute_result"
    }
   ],
   "source": [
    "## 우측의 공백을 제거 : rstrip()\n",
    "test_text.rstrip()"
   ]
  },
  {
   "cell_type": "code",
   "execution_count": 25,
   "metadata": {},
   "outputs": [
    {
     "name": "stdout",
     "output_type": "stream",
     "text": [
      "<class 'str'>\n"
     ]
    }
   ],
   "source": [
    "test = '$100'\n",
    "print(type(test))"
   ]
  },
  {
   "cell_type": "code",
   "execution_count": 57,
   "metadata": {},
   "outputs": [
    {
     "ename": "AttributeError",
     "evalue": "'int' object has no attribute 'lstrip'",
     "output_type": "error",
     "traceback": [
      "\u001b[1;31m---------------------------------------------------------------------------\u001b[0m",
      "\u001b[1;31mAttributeError\u001b[0m                            Traceback (most recent call last)",
      "Cell \u001b[1;32mIn[57], line 2\u001b[0m\n\u001b[0;32m      1\u001b[0m \u001b[38;5;66;03m#int(test) # 특수문자가 포함되어 있어서 숫자로 바꿀 수 없다. $를 제거해야함.\u001b[39;00m\n\u001b[1;32m----> 2\u001b[0m \u001b[38;5;28mint\u001b[39m(\u001b[43mtest\u001b[49m\u001b[38;5;241;43m.\u001b[39;49m\u001b[43mlstrip\u001b[49m(\u001b[38;5;124m'\u001b[39m\u001b[38;5;124m$\u001b[39m\u001b[38;5;124m'\u001b[39m))\n\u001b[0;32m      3\u001b[0m \u001b[38;5;28mprint\u001b[39m(test)\n\u001b[0;32m      4\u001b[0m \u001b[38;5;66;03m#print(test)\u001b[39;00m\n\u001b[0;32m      5\u001b[0m \u001b[38;5;66;03m#print(type(test))\u001b[39;00m\n\u001b[0;32m      6\u001b[0m \n\u001b[0;32m      7\u001b[0m \u001b[38;5;66;03m#test = int(test)\u001b[39;00m\n\u001b[0;32m      8\u001b[0m \u001b[38;5;66;03m#print(test)\u001b[39;00m\n\u001b[0;32m      9\u001b[0m \u001b[38;5;66;03m#print(type(test))\u001b[39;00m\n",
      "\u001b[1;31mAttributeError\u001b[0m: 'int' object has no attribute 'lstrip'"
     ]
    }
   ],
   "source": [
    "#int(test) # 특수문자가 포함되어 있어서 숫자로 바꿀 수 없다. $를 제거해야함.\n",
    "int(test.lstrip('$'))\n",
    "print(test)\n",
    "#print(test)\n",
    "#print(type(test))\n",
    "\n",
    "#test = int(test)\n",
    "#print(test)\n",
    "#print(type(test))"
   ]
  },
  {
   "cell_type": "code",
   "execution_count": 55,
   "metadata": {},
   "outputs": [],
   "source": [
    "a = 'Hello world'\n",
    "b = ' Hello World'"
   ]
  },
  {
   "cell_type": "code",
   "execution_count": 58,
   "metadata": {},
   "outputs": [
    {
     "name": "stdout",
     "output_type": "stream",
     "text": [
      "HELLO WORLD\n",
      "HELLO WORLD\n"
     ]
    },
    {
     "data": {
      "text/plain": [
       "True"
      ]
     },
     "execution_count": 58,
     "metadata": {},
     "output_type": "execute_result"
    }
   ],
   "source": [
    "a = a.upper()\n",
    "b = b.upper() \n",
    "\n",
    "b = b.strip()\n",
    "\n",
    "print(a)\n",
    "print(b)\n",
    "a == b"
   ]
  },
  {
   "cell_type": "code",
   "execution_count": 59,
   "metadata": {},
   "outputs": [
    {
     "data": {
      "text/plain": [
       "'HI WORLD'"
      ]
     },
     "execution_count": 59,
     "metadata": {},
     "output_type": "execute_result"
    }
   ],
   "source": [
    "## 특정 문자를 다른 문자로 치환하는 함수\n",
    "## replace({특정문자}, {치환할 문자})\n",
    "a.replace('HELLO','HI')"
   ]
  },
  {
   "cell_type": "code",
   "execution_count": 61,
   "metadata": {},
   "outputs": [],
   "source": [
    "a = '상 품 A'\n",
    "b = '상품a'"
   ]
  },
  {
   "cell_type": "code",
   "execution_count": 68,
   "metadata": {},
   "outputs": [
    {
     "name": "stdout",
     "output_type": "stream",
     "text": [
      "상품A\n"
     ]
    }
   ],
   "source": [
    "# a변수 데이터의 문자열 사이의 공백을 제거\n",
    "a = a.replace(\" \",\"\")\n",
    "print(a)"
   ]
  },
  {
   "cell_type": "code",
   "execution_count": 69,
   "metadata": {},
   "outputs": [
    {
     "name": "stdout",
     "output_type": "stream",
     "text": [
      "상품A\n"
     ]
    }
   ],
   "source": [
    "# b변수의 데이터는 모두 대문자로 변환\n",
    "b = b.upper()\n",
    "print(b)"
   ]
  },
  {
   "cell_type": "code",
   "execution_count": 71,
   "metadata": {},
   "outputs": [
    {
     "data": {
      "text/plain": [
       "True"
      ]
     },
     "execution_count": 71,
     "metadata": {},
     "output_type": "execute_result"
    }
   ],
   "source": [
    "a == b"
   ]
  },
  {
   "cell_type": "code",
   "execution_count": 75,
   "metadata": {},
   "outputs": [
    {
     "name": "stdout",
     "output_type": "stream",
     "text": [
      "a b c d\n",
      "['a', 'b', 'c', 'd']\n"
     ]
    }
   ],
   "source": [
    "# 특정 문자열을 기준으로 문자열을 나눠주는 함수\n",
    "# split() -> 인자 값은 기본 값으로 공백\n",
    "a = 'a b c d'\n",
    "print(a)\n",
    "print(a.split()) #공백을 기준으로 잘라서 리스트 형태로 만들어줌."
   ]
  },
  {
   "cell_type": "code",
   "execution_count": 78,
   "metadata": {},
   "outputs": [
    {
     "name": "stdout",
     "output_type": "stream",
     "text": [
      "['1', '2', '3', '4', '5', '6']\n"
     ]
    }
   ],
   "source": [
    "b = '1/2/3/4/5/6'\n",
    "print(b.split('/')) #특정 문자('/')를 기준으로 잘라줌"
   ]
  },
  {
   "cell_type": "code",
   "execution_count": 79,
   "metadata": {},
   "outputs": [],
   "source": [
    "# C(insert), R(select), U(update), D(delete)\n",
    "# R(select)만 데이터 변경이 없음.\n",
    "# 아래에서 sQL문을 만들어주고 select문인지 아닌지 판단할 것임.\n",
    "\n",
    "# 쿼리문에서 시작과 끝에 \"\"\"은 하나의 문자열로 보겠다는 것임\n",
    "sql_data = \"\"\"\n",
    "    select\n",
    "    *\n",
    "    from\n",
    "    user\n",
    "\"\"\"\n",
    "sql_data2 = \"\"\"\n",
    "    insert\n",
    "    into\n",
    "    user\n",
    "    values\n",
    "    ('test','1234')\n",
    "\"\"\""
   ]
  },
  {
   "cell_type": "code",
   "execution_count": 90,
   "metadata": {},
   "outputs": [
    {
     "data": {
      "text/plain": [
       "True"
      ]
     },
     "execution_count": 90,
     "metadata": {},
     "output_type": "execute_result"
    }
   ],
   "source": [
    "# 첫번째로 공백을 제거해줌.(strip)\n",
    "# 두번째로 나눠줌(split)\n",
    "# 첫번쨰 항목[0]이 select와 같은지(==) 확인한다.\n",
    "\n",
    "sql_data.strip().split()[0] == 'select'\n"
   ]
  },
  {
   "cell_type": "code",
   "execution_count": 91,
   "metadata": {},
   "outputs": [
    {
     "data": {
      "text/plain": [
       "False"
      ]
     },
     "execution_count": 91,
     "metadata": {},
     "output_type": "execute_result"
    }
   ],
   "source": [
    "sql_data2.strip().split()[0] == 'select'"
   ]
  },
  {
   "cell_type": "code",
   "execution_count": 94,
   "metadata": {},
   "outputs": [],
   "source": [
    "# 대문자로 구성이된 경우\n",
    "# 대/소문자로 변경한 후에 위 순서대로 진행\n",
    "sql_data3 = \"\"\"\n",
    "    SELECT\n",
    "    *\n",
    "    FROM\n",
    "    user\n",
    "\"\"\"\n",
    "\n",
    "sql_data3.lower().strip().split()[0] = 'select'"
   ]
  },
  {
   "cell_type": "code",
   "execution_count": 100,
   "metadata": {},
   "outputs": [
    {
     "data": {
      "text/plain": [
       "True"
      ]
     },
     "execution_count": 100,
     "metadata": {},
     "output_type": "execute_result"
    }
   ],
   "source": [
    "#위 과정을 startswith('시작하는 문자')를 사용해서 풀기\n",
    "sql_data3.lower().strip().startswith('select')"
   ]
  },
  {
   "cell_type": "code",
   "execution_count": 99,
   "metadata": {},
   "outputs": [],
   "source": [
    "# 맨 마지막 문자를 출력하는 방법, -1 or len()-1"
   ]
  },
  {
   "cell_type": "markdown",
   "metadata": {},
   "source": [
    "### 일반 함수\n",
    "    - 어떠한 입력값을 가지고 작업을 실행하고 결과물을 되돌려주는 기능 (return & print)\n",
    "     * return\n",
    "        함수 호출 후 결과값을 되돌려받아서 출력물이 만들어지는 것\n",
    "     * print\n",
    "        되돌려받는 값이 없어서 변수에 대입되지 않음. 보여주기만 하는 것"
   ]
  },
  {
   "cell_type": "code",
   "execution_count": 103,
   "metadata": {},
   "outputs": [],
   "source": [
    "def func_1(a, b):\n",
    "    result = a + b\n",
    "    return result\n",
    "\n",
    "def func_2(a, b):\n",
    "    result = a + b\n",
    "    print(result)"
   ]
  },
  {
   "cell_type": "code",
   "execution_count": 108,
   "metadata": {},
   "outputs": [],
   "source": [
    "test = func_1(3,6) #결과값이 안나옴, 변수에 반영된 것임."
   ]
  },
  {
   "cell_type": "code",
   "execution_count": 110,
   "metadata": {},
   "outputs": [
    {
     "name": "stdout",
     "output_type": "stream",
     "text": [
      "9\n"
     ]
    }
   ],
   "source": [
    "test2 = func_2(3,6) #결과값 나옴"
   ]
  },
  {
   "cell_type": "code",
   "execution_count": 112,
   "metadata": {},
   "outputs": [
    {
     "name": "stdout",
     "output_type": "stream",
     "text": [
      "9\n",
      "None\n"
     ]
    }
   ],
   "source": [
    "print(test)\n",
    "print(test2)"
   ]
  },
  {
   "cell_type": "code",
   "execution_count": 114,
   "metadata": {},
   "outputs": [],
   "source": [
    "## 인자의 개수가 가변인 경우 함수 생성\n",
    "def func_3(*args):\n",
    "    print(type(args))\n",
    "    print(args)\n",
    "    print(len(args))"
   ]
  },
  {
   "cell_type": "code",
   "execution_count": 117,
   "metadata": {},
   "outputs": [
    {
     "name": "stdout",
     "output_type": "stream",
     "text": [
      "<class 'tuple'>\n",
      "(1, 2, 3, 4, 5)\n",
      "5\n",
      "<class 'tuple'>\n",
      "(6, 10, 'test')\n",
      "3\n"
     ]
    }
   ],
   "source": [
    "func_3(1,2,3,4,5)\n",
    "func_3(6, 10, 'test')"
   ]
  },
  {
   "cell_type": "code",
   "execution_count": 119,
   "metadata": {},
   "outputs": [],
   "source": [
    "## 매개변수 2개\n",
    "## 두개의 매개변수 중 작은 값을 되돌려주는 함수\n",
    "def func_4(a,b):\n",
    "    if a < b:\n",
    "        return a\n",
    "    else:\n",
    "        return b"
   ]
  },
  {
   "cell_type": "code",
   "execution_count": 121,
   "metadata": {},
   "outputs": [
    {
     "data": {
      "text/plain": [
       "4"
      ]
     },
     "execution_count": 121,
     "metadata": {},
     "output_type": "execute_result"
    }
   ],
   "source": [
    "func_4(10, 4)"
   ]
  },
  {
   "cell_type": "code",
   "execution_count": 122,
   "metadata": {},
   "outputs": [
    {
     "data": {
      "text/plain": [
       "5"
      ]
     },
     "execution_count": 122,
     "metadata": {},
     "output_type": "execute_result"
    }
   ],
   "source": [
    "func_4(5, 7)"
   ]
  },
  {
   "cell_type": "code",
   "execution_count": 125,
   "metadata": {},
   "outputs": [
    {
     "data": {
      "text/plain": [
       "4"
      ]
     },
     "execution_count": 125,
     "metadata": {},
     "output_type": "execute_result"
    }
   ],
   "source": [
    "# 위 문제를 min()함수를 사용\n",
    "min(10, 4, 5)"
   ]
  },
  {
   "cell_type": "markdown",
   "metadata": {},
   "source": [
    "### 함수 문제\n",
    "- min() 함수를 똑같이 만들어보자\n",
    "    - 인자의 개수는 가변\n",
    "    - 지역변수 result를 생성하여 인자의 첫번째 값을 대입\n",
    "    - 각 인자의 값들을 비교하여 가장 작은 값을 지역 변수(result)에 대입\n",
    "    - result를 되돌려준다."
   ]
  },
  {
   "cell_type": "code",
   "execution_count": 130,
   "metadata": {},
   "outputs": [],
   "source": [
    "def func_5(*a):\n",
    "    result = a[0] #result에 첫번쨰 값을 담기 -> (인자의 개수 -1)번 비교함.\n",
    "   \n",
    "    for i in range(1, len(a), 1):\n",
    "        if result > a[i]:\n",
    "            result = a[i] # i번쨰 항목으로 result값을 변환해줌\n",
    "    \n",
    "    return result\n",
    "        "
   ]
  },
  {
   "cell_type": "code",
   "execution_count": 132,
   "metadata": {},
   "outputs": [],
   "source": [
    "# 위 문제 두번째 풀이\n",
    "\n",
    "def func_5(*a):\n",
    "    result = a[0]\n",
    "\n",
    "    for i in a[1:]:\n",
    "        if result > i:\n",
    "            result = i\n",
    "\n",
    "    return result"
   ]
  },
  {
   "cell_type": "code",
   "execution_count": 145,
   "metadata": {},
   "outputs": [],
   "source": [
    "## 평균 값을 되돌려주는 함수 생성\n",
    "# 인자의 개수는 가변\n",
    "def func_6(*args):\n",
    "    result = 0\n",
    "    cnt = 0\n",
    "    for i in args:\n",
    "        result += i #result = result + i\n",
    "        cnt += 1\n",
    "    result /= cnt\n",
    "    return result"
   ]
  },
  {
   "cell_type": "code",
   "execution_count": 139,
   "metadata": {},
   "outputs": [
    {
     "data": {
      "text/plain": [
       "3.0"
      ]
     },
     "execution_count": 139,
     "metadata": {},
     "output_type": "execute_result"
    }
   ],
   "source": [
    "func_6(1,2,3,4,5)"
   ]
  },
  {
   "cell_type": "code",
   "execution_count": 143,
   "metadata": {},
   "outputs": [],
   "source": [
    "# 매개변수 2개를 생성\n",
    "# 첫번째 매개변수는 최솟값, 평균을 선택하는 변수\n",
    "# 두번째 매개변수는 인자의 개수가 가변\n",
    "\n",
    "def func_7(flag, *args):\n",
    "    if flag == 'min' :\n",
    "        result = args[0]\n",
    "        for i in args[1:]:\n",
    "            if result > i:\n",
    "                result = i\n",
    "    elif flag == 'mean':\n",
    "        result = 0 #합계를 구하기 위함\n",
    "        cnt = 0 #횟수 구하기 위함\n",
    "        for i in args:\n",
    "            result += i #i를 넣어준다.\n",
    "            cnt += 1 #하나씩 증가시켜준다.\n",
    "        result /= cnt\n",
    "    return result "
   ]
  },
  {
   "cell_type": "code",
   "execution_count": 144,
   "metadata": {},
   "outputs": [
    {
     "name": "stdout",
     "output_type": "stream",
     "text": [
      "3.0\n",
      "1\n"
     ]
    }
   ],
   "source": [
    "print(func_7('mean', 1, 2, 3, 4, 5))\n",
    "print(func_7('min', 1, 2, 3, 4, 5))"
   ]
  }
 ],
 "metadata": {
  "kernelspec": {
   "display_name": "Python 3",
   "language": "python",
   "name": "python3"
  },
  "language_info": {
   "codemirror_mode": {
    "name": "ipython",
    "version": 3
   },
   "file_extension": ".py",
   "mimetype": "text/x-python",
   "name": "python",
   "nbconvert_exporter": "python",
   "pygments_lexer": "ipython3",
   "version": "3.12.1"
  }
 },
 "nbformat": 4,
 "nbformat_minor": 2
}
