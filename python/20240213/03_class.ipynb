{
 "cells": [
  {
   "cell_type": "markdown",
   "metadata": {},
   "source": [
    "### Class 선언\n",
    "    - class 키워드를 이용하여 class 선언\n",
    "    - class 이름은 일반적으로 첫문자는 대문자로 표기\n",
    "### Class 생성\n",
    "    - 선언이 된 class를 변수에 저장하는 과정\n",
    "### Class의 변수와 함수를 호출\n",
    "    - class가 저장되어 있는 변수 안에 변수, 함수를 호출"
   ]
  },
  {
   "cell_type": "code",
   "execution_count": 94,
   "metadata": {},
   "outputs": [],
   "source": [
    "## class 선언\n",
    "class Test:\n",
    "    # 생성자 함수 (__init__) : class가 생성될때 실행되는 함수\n",
    "    def __init__(self, _a, _b):\n",
    "            #객체 변수(self변수)를 생성\n",
    "        self.a = _a\n",
    "        self.b = _b\n"
   ]
  },
  {
   "cell_type": "code",
   "execution_count": 95,
   "metadata": {},
   "outputs": [],
   "source": [
    "# class 생성\n",
    "class_1 = Test(10,20) #Test 안에 있는 init이라는 함수를 사용하겠당\n"
   ]
  },
  {
   "cell_type": "code",
   "execution_count": 96,
   "metadata": {},
   "outputs": [
    {
     "name": "stdout",
     "output_type": "stream",
     "text": [
      "10\n",
      "20\n"
     ]
    }
   ],
   "source": [
    "# class 안(.)에 있는 변수를 호출\n",
    "print(class_1.a)\n",
    "print(class_1.b)"
   ]
  },
  {
   "cell_type": "code",
   "execution_count": 97,
   "metadata": {},
   "outputs": [],
   "source": [
    "class_2 = Test(30,40)\n"
   ]
  },
  {
   "cell_type": "code",
   "execution_count": 98,
   "metadata": {},
   "outputs": [
    {
     "name": "stdout",
     "output_type": "stream",
     "text": [
      "10\n",
      "30\n"
     ]
    }
   ],
   "source": [
    "# 같은 틀을 가졌지만 다른 클래스,,,재료,,,이니까 다르게 나온다.\n",
    "print(class_1.a)\n",
    "print(class_2.a)"
   ]
  },
  {
   "cell_type": "code",
   "execution_count": 99,
   "metadata": {},
   "outputs": [],
   "source": [
    "## class 선언 : 변수 + 함수 \n",
    "# 생성자 함수에 add 함수 추가한 경우임.\n",
    "class Test2:\n",
    "    def __init__(self, _a, _b):\n",
    "        self.a = _a\n",
    "        self.b = _b\n",
    "    \n",
    "    def add(self):\n",
    "        result = self.a + self.b\n",
    "        return result"
   ]
  },
  {
   "cell_type": "code",
   "execution_count": 100,
   "metadata": {},
   "outputs": [],
   "source": [
    "Class_1 = Test2(10, 20)\n",
    "Class_2 = Test2(30, 40)"
   ]
  },
  {
   "cell_type": "code",
   "execution_count": 101,
   "metadata": {},
   "outputs": [
    {
     "name": "stdout",
     "output_type": "stream",
     "text": [
      "30\n",
      "70\n"
     ]
    }
   ],
   "source": [
    "# Class 안에 있는 함수를 호출\n",
    "print(Class_1.add())\n",
    "print(Class_2.add())"
   ]
  },
  {
   "cell_type": "code",
   "execution_count": 102,
   "metadata": {},
   "outputs": [],
   "source": [
    "# 함수가 총 4개가 존재하는데,\n",
    "class Test3:\n",
    "    def __init__(self, _a, _b): #클래스가 생성될 떄 실행되는 함수 init\n",
    "        self.a = _a\n",
    "        self.b = _b\n",
    "        self.result = 0\n",
    "    def __repr__(self): #생성된 클래스를 호출할 때 실행되는 함수 repr\n",
    "        return str(self.res)  #return 존재\n",
    "    \n",
    "    def add(self):\n",
    "        result = self.a + self.b\n",
    "        return result     #return 존재\n",
    "    \n",
    "    def sub(self):\n",
    "        result = self.a - self.b\n",
    "        self.res = result  #return이 존재하지 않고 res변수에 결과값을 집어넣겠다고 함. print할 경우 None가 나옴"
   ]
  },
  {
   "cell_type": "code",
   "execution_count": 103,
   "metadata": {},
   "outputs": [],
   "source": [
    "# _a와 _b에 숫자를 넣어준다.\n",
    "class_3 =  Test3(10, 20)\n",
    "class_4 =  Test3(30, 40)"
   ]
  },
  {
   "cell_type": "code",
   "execution_count": 104,
   "metadata": {},
   "outputs": [
    {
     "name": "stdout",
     "output_type": "stream",
     "text": [
      "30\n",
      "70\n"
     ]
    }
   ],
   "source": [
    "# add함수에 위 숫자를 넣어주겠다.\n",
    "print(class_3.add())\n",
    "print(class_4.add())"
   ]
  },
  {
   "cell_type": "code",
   "execution_count": 105,
   "metadata": {},
   "outputs": [
    {
     "name": "stdout",
     "output_type": "stream",
     "text": [
      "None\n",
      "None\n"
     ]
    }
   ],
   "source": [
    "# sub함수에 위 숫자를 넣어주겠다.\n",
    "print(class_3.sub())\n",
    "print(class_4.sub())"
   ]
  },
  {
   "cell_type": "code",
   "execution_count": 106,
   "metadata": {},
   "outputs": [
    {
     "name": "stdout",
     "output_type": "stream",
     "text": [
      "-10\n",
      "-10\n"
     ]
    }
   ],
   "source": [
    "print(class_3)\n",
    "print(class_4)"
   ]
  },
  {
   "cell_type": "code",
   "execution_count": 107,
   "metadata": {},
   "outputs": [],
   "source": [
    "## 클래스 변수가 포한되어 있는 class 선언\n",
    "## 클래스 변수 : 같은 class가 생성될때 서로 공유하는 변수\n",
    "## 객체 변수 : class 마다 독립적인 데이터를 가지는 변수\n",
    "\n",
    "\n",
    "# test4라는 공간에 user_1공간과 user_2공간을 불러오고\n",
    "# user_1 공간과 user_2 공간이 만들어지고 안에 id, name이 만들어짐.\n",
    "# user_1에 id에 test라는 문자열이 들어가고, name에는 'kim'이 들어감\n",
    "# user_2에 id에 test2라는 문자열, name에는 'park'이 들어감.\n",
    "# user_list는 Test4 공간 안에 있다.(총 3공간이 존재)\n",
    "# user_list를 user_1과 user_2에 모두 연걀되어 있어 하나가 수정되면 다 수정된다. (독립적이지 않다.)\n",
    "# 즉, 공유할 수 있는 공간을 class 안에 구성했다.\n",
    "\n",
    "\n",
    "class Test4 :\n",
    "    user_list = []  #클래스 안에 있지만 함수에 포함되지 않는 위치\n",
    "\n",
    "    def __init__(self, _id, _name):\n",
    "        self.id = _id\n",
    "        self.name = _name\n",
    "        self.user_list.append(_id)\n"
   ]
  },
  {
   "cell_type": "code",
   "execution_count": 108,
   "metadata": {},
   "outputs": [],
   "source": [
    "#클래스를 생성해보자\n",
    "user_1 = Test4('test', 'kim')"
   ]
  },
  {
   "cell_type": "code",
   "execution_count": 109,
   "metadata": {},
   "outputs": [
    {
     "name": "stdout",
     "output_type": "stream",
     "text": [
      "test\n",
      "kim\n",
      "['test']\n"
     ]
    }
   ],
   "source": [
    "print(user_1.id)\n",
    "print(user_1.name)\n",
    "print(user_1.user_list)"
   ]
  },
  {
   "cell_type": "code",
   "execution_count": 110,
   "metadata": {},
   "outputs": [],
   "source": [
    "user_2 = Test4('test2', 'park')"
   ]
  },
  {
   "cell_type": "code",
   "execution_count": 112,
   "metadata": {},
   "outputs": [
    {
     "name": "stdout",
     "output_type": "stream",
     "text": [
      "test2\n",
      "park\n",
      "['test', 'test2']\n"
     ]
    }
   ],
   "source": [
    "print(user_2.id)\n",
    "print(user_2.name)\n",
    "print(user_2.user_list)"
   ]
  },
  {
   "cell_type": "code",
   "execution_count": 114,
   "metadata": {},
   "outputs": [
    {
     "name": "stdout",
     "output_type": "stream",
     "text": [
      "['test', 'test2']\n"
     ]
    }
   ],
   "source": [
    "print(user_1.user_list)"
   ]
  },
  {
   "cell_type": "code",
   "execution_count": null,
   "metadata": {},
   "outputs": [],
   "source": []
  }
 ],
 "metadata": {
  "kernelspec": {
   "display_name": "Python 3",
   "language": "python",
   "name": "python3"
  },
  "language_info": {
   "codemirror_mode": {
    "name": "ipython",
    "version": 3
   },
   "file_extension": ".py",
   "mimetype": "text/x-python",
   "name": "python",
   "nbconvert_exporter": "python",
   "pygments_lexer": "ipython3",
   "version": "3.12.1"
  }
 },
 "nbformat": 4,
 "nbformat_minor": 2
}
