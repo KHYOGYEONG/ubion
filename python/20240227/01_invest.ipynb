{
 "cells": [
  {
   "cell_type": "markdown",
   "metadata": {},
   "source": [
    "#### 두 개의 투자전략을 클래스로 선언\n",
    "1. 생성자 함수\n",
    "    - 클래스가 생성될 때 최초로 한번만 실행이 되는 함수\n",
    "    - 객체 변수(self 변수)에 데이터프레임, 기준이 되는 컬럼명, 시작시간, 종료시간\n",
    "2. BuyandHold 함수\n",
    "    - 생성자 함수에서 만든 객체 변수를 이용하여 백태스팅\n",
    "    - 결과와 누적 수익률을 리턴\n",
    "3. Bollinger 함수\n",
    "    - 밴드 생성 함수\n",
    "        - 상단 밴드, 하단 밴드, 이동평균선 생성\n",
    "    - 거래 내역 추가 함수\n",
    "        - 밴드를 기준으로 거래 내역을 생성\n",
    "    - 수익률 계산 함수\n",
    "        - 매도 시 수익률 발생, 데이터프레임과 누적수익률 리턴\n"
   ]
  },
  {
   "cell_type": "code",
   "execution_count": 1,
   "metadata": {},
   "outputs": [
    {
     "name": "stderr",
     "output_type": "stream",
     "text": [
      "C:\\Users\\User\\AppData\\Local\\Temp\\ipykernel_19980\\3713710582.py:2: DeprecationWarning: \n",
      "Pyarrow will become a required dependency of pandas in the next major release of pandas (pandas 3.0),\n",
      "(to allow more performant data types, such as the Arrow string type, and better interoperability with other libraries)\n",
      "but was not found to be installed on your system.\n",
      "If this would cause problems for you,\n",
      "please provide us feedback at https://github.com/pandas-dev/pandas/issues/54466\n",
      "        \n",
      "  import pandas as pd\n"
     ]
    }
   ],
   "source": [
    "from datetime import datetime\n",
    "import pandas as pd\n",
    "import numpy as np"
   ]
  },
  {
   "cell_type": "code",
   "execution_count": 36,
   "metadata": {},
   "outputs": [],
   "source": [
    "class invest:\n",
    "    # 생성자 함수\n",
    "    def __init__(self, _df, _col = 'Adj Close', _start = '2010-01-01', _end = datetime.now()):\n",
    "        # _df의 결측치, 무한대를 제외시킨다.\n",
    "        flag = _df.isin([np.nan, np.inf, -np.inf]).any(axis=1)\n",
    "        self.df = _df.loc[~flag, ]\n",
    "        # 데이터프레임에서 컬럼에 Date가 포함되어 있는가?\n",
    "        if 'Date' in self.df.columns:\n",
    "            self.df.set_index('Date', inplace=True)\n",
    "        # 인덱스를 시계열데이터로 변경\n",
    "        self.df.index = pd.to_datetime(self.df.index, format='%Y-%m-%d')\n",
    "        self.df = self.df[[_col]]\n",
    "        self.col = _col\n",
    "        try:\n",
    "            self.start = datetime.strptime(_start, '%Y-%m-%d')\n",
    "            if type(_end) == 'str':\n",
    "                self.end = datetime.strptime(_end, '%Y-%m-%d')\n",
    "            else:\n",
    "                self.end = _end\n",
    "        except: \n",
    "            print('투자기간의 인자값의 포멧이 잘못되었습니다.(YYYY-mm-dd)')\n",
    "    ## buyandhold 함수를 생성\n",
    "    def buyandhold(self):\n",
    "        # 투자기간으로 데이터를 필터링\n",
    "        result = self.df.loc[self.start : self.end, ]\n",
    "        # 일일 수익률 컬럼을 생성\n",
    "        result['rtn'] = (result[self.col].pct_change()+1).fillna(1)\n",
    "        # 누적 수익률 컬럼을 생성\n",
    "        result['acc_rtn'] = result['rtn'].cumprod() #누적 곱\n",
    "        # 총 누적 수익률 데이터만 추출\n",
    "        acc_rtn = result.iloc[-1, ]['acc_rtn']\n",
    "        return result, acc_rtn\n",
    "    # bollinger 함수\n",
    "    # 밴드 생성 함수 만들기\n",
    "    def create_band(self, _cnt = 20):\n",
    "        result = self.df.copy()\n",
    "        # 이동 평균선 생성\n",
    "        result['center'] = result[self.col].rolling(_cnt).mean()\n",
    "        # 상단 밴드를 생성\n",
    "        result['ub'] = result['center'] + (2 * result[self.col].rolling(_cnt).std())\n",
    "        # 하단 밴드를 \n",
    "        result['lb'] = result['center'] - (2 * result[self.col].rolling(_cnt).std())\n",
    "        # 투자기간으로 데이터를 필터\n",
    "        result = result.loc[self.start : self.end, ]\n",
    "        return result\n",
    "        "
   ]
  },
  {
   "cell_type": "code",
   "execution_count": 37,
   "metadata": {},
   "outputs": [],
   "source": [
    "AAPL = pd.read_csv('../../../csv/AAPL.csv')"
   ]
  },
  {
   "cell_type": "code",
   "execution_count": 38,
   "metadata": {},
   "outputs": [],
   "source": [
    "class1 = invest(AAPL)"
   ]
  },
  {
   "cell_type": "code",
   "execution_count": 39,
   "metadata": {},
   "outputs": [
    {
     "name": "stderr",
     "output_type": "stream",
     "text": [
      "C:\\Users\\User\\AppData\\Local\\Temp\\ipykernel_19980\\1586869026.py:27: SettingWithCopyWarning: \n",
      "A value is trying to be set on a copy of a slice from a DataFrame.\n",
      "Try using .loc[row_indexer,col_indexer] = value instead\n",
      "\n",
      "See the caveats in the documentation: https://pandas.pydata.org/pandas-docs/stable/user_guide/indexing.html#returning-a-view-versus-a-copy\n",
      "  result['rtn'] = (result[self.col].pct_change()+1).fillna(1)\n",
      "C:\\Users\\User\\AppData\\Local\\Temp\\ipykernel_19980\\1586869026.py:29: SettingWithCopyWarning: \n",
      "A value is trying to be set on a copy of a slice from a DataFrame.\n",
      "Try using .loc[row_indexer,col_indexer] = value instead\n",
      "\n",
      "See the caveats in the documentation: https://pandas.pydata.org/pandas-docs/stable/user_guide/indexing.html#returning-a-view-versus-a-copy\n",
      "  result['acc_rtn'] = result['rtn'].cumprod() #누적 곱\n"
     ]
    }
   ],
   "source": [
    "bnh_df, bnh_rtn = class1.buyandhold()"
   ]
  },
  {
   "cell_type": "code",
   "execution_count": 40,
   "metadata": {},
   "outputs": [
    {
     "data": {
      "text/plain": [
       "7.436513727083075"
      ]
     },
     "execution_count": 40,
     "metadata": {},
     "output_type": "execute_result"
    }
   ],
   "source": [
    "bnh_rtn"
   ]
  },
  {
   "cell_type": "code",
   "execution_count": 41,
   "metadata": {},
   "outputs": [
    {
     "data": {
      "text/html": [
       "<div>\n",
       "<style scoped>\n",
       "    .dataframe tbody tr th:only-of-type {\n",
       "        vertical-align: middle;\n",
       "    }\n",
       "\n",
       "    .dataframe tbody tr th {\n",
       "        vertical-align: top;\n",
       "    }\n",
       "\n",
       "    .dataframe thead th {\n",
       "        text-align: right;\n",
       "    }\n",
       "</style>\n",
       "<table border=\"1\" class=\"dataframe\">\n",
       "  <thead>\n",
       "    <tr style=\"text-align: right;\">\n",
       "      <th></th>\n",
       "      <th>Adj Close</th>\n",
       "      <th>rtn</th>\n",
       "      <th>acc_rtn</th>\n",
       "    </tr>\n",
       "    <tr>\n",
       "      <th>Date</th>\n",
       "      <th></th>\n",
       "      <th></th>\n",
       "      <th></th>\n",
       "    </tr>\n",
       "  </thead>\n",
       "  <tbody>\n",
       "    <tr>\n",
       "      <th>2019-06-18</th>\n",
       "      <td>198.449997</td>\n",
       "      <td>1.023518</td>\n",
       "      <td>7.409631</td>\n",
       "    </tr>\n",
       "    <tr>\n",
       "      <th>2019-06-19</th>\n",
       "      <td>197.869995</td>\n",
       "      <td>0.997077</td>\n",
       "      <td>7.387975</td>\n",
       "    </tr>\n",
       "    <tr>\n",
       "      <th>2019-06-20</th>\n",
       "      <td>199.460007</td>\n",
       "      <td>1.008036</td>\n",
       "      <td>7.447342</td>\n",
       "    </tr>\n",
       "    <tr>\n",
       "      <th>2019-06-21</th>\n",
       "      <td>198.779999</td>\n",
       "      <td>0.996591</td>\n",
       "      <td>7.421952</td>\n",
       "    </tr>\n",
       "    <tr>\n",
       "      <th>2019-06-24</th>\n",
       "      <td>199.169998</td>\n",
       "      <td>1.001962</td>\n",
       "      <td>7.436514</td>\n",
       "    </tr>\n",
       "  </tbody>\n",
       "</table>\n",
       "</div>"
      ],
      "text/plain": [
       "             Adj Close       rtn   acc_rtn\n",
       "Date                                      \n",
       "2019-06-18  198.449997  1.023518  7.409631\n",
       "2019-06-19  197.869995  0.997077  7.387975\n",
       "2019-06-20  199.460007  1.008036  7.447342\n",
       "2019-06-21  198.779999  0.996591  7.421952\n",
       "2019-06-24  199.169998  1.001962  7.436514"
      ]
     },
     "execution_count": 41,
     "metadata": {},
     "output_type": "execute_result"
    }
   ],
   "source": [
    "bnh_df.tail()"
   ]
  },
  {
   "cell_type": "code",
   "execution_count": 42,
   "metadata": {},
   "outputs": [
    {
     "data": {
      "text/html": [
       "<div>\n",
       "<style scoped>\n",
       "    .dataframe tbody tr th:only-of-type {\n",
       "        vertical-align: middle;\n",
       "    }\n",
       "\n",
       "    .dataframe tbody tr th {\n",
       "        vertical-align: top;\n",
       "    }\n",
       "\n",
       "    .dataframe thead th {\n",
       "        text-align: right;\n",
       "    }\n",
       "</style>\n",
       "<table border=\"1\" class=\"dataframe\">\n",
       "  <thead>\n",
       "    <tr style=\"text-align: right;\">\n",
       "      <th></th>\n",
       "      <th>Adj Close</th>\n",
       "      <th>center</th>\n",
       "      <th>ub</th>\n",
       "      <th>lb</th>\n",
       "    </tr>\n",
       "    <tr>\n",
       "      <th>Date</th>\n",
       "      <th></th>\n",
       "      <th></th>\n",
       "      <th></th>\n",
       "      <th></th>\n",
       "    </tr>\n",
       "  </thead>\n",
       "  <tbody>\n",
       "    <tr>\n",
       "      <th>2010-01-04</th>\n",
       "      <td>26.782711</td>\n",
       "      <td>25.037723</td>\n",
       "      <td>27.046734</td>\n",
       "      <td>23.028713</td>\n",
       "    </tr>\n",
       "    <tr>\n",
       "      <th>2010-01-05</th>\n",
       "      <td>26.829010</td>\n",
       "      <td>25.169503</td>\n",
       "      <td>27.288098</td>\n",
       "      <td>23.050908</td>\n",
       "    </tr>\n",
       "    <tr>\n",
       "      <th>2010-01-06</th>\n",
       "      <td>26.402260</td>\n",
       "      <td>25.307290</td>\n",
       "      <td>27.366449</td>\n",
       "      <td>23.248130</td>\n",
       "    </tr>\n",
       "    <tr>\n",
       "      <th>2010-01-07</th>\n",
       "      <td>26.353460</td>\n",
       "      <td>25.436879</td>\n",
       "      <td>27.410937</td>\n",
       "      <td>23.462821</td>\n",
       "    </tr>\n",
       "    <tr>\n",
       "      <th>2010-01-08</th>\n",
       "      <td>26.528664</td>\n",
       "      <td>25.525609</td>\n",
       "      <td>27.529742</td>\n",
       "      <td>23.521475</td>\n",
       "    </tr>\n",
       "    <tr>\n",
       "      <th>...</th>\n",
       "      <td>...</td>\n",
       "      <td>...</td>\n",
       "      <td>...</td>\n",
       "      <td>...</td>\n",
       "    </tr>\n",
       "    <tr>\n",
       "      <th>2019-06-18</th>\n",
       "      <td>198.449997</td>\n",
       "      <td>185.432500</td>\n",
       "      <td>201.032574</td>\n",
       "      <td>169.832427</td>\n",
       "    </tr>\n",
       "    <tr>\n",
       "      <th>2019-06-19</th>\n",
       "      <td>197.869995</td>\n",
       "      <td>185.996000</td>\n",
       "      <td>202.558154</td>\n",
       "      <td>169.433846</td>\n",
       "    </tr>\n",
       "    <tr>\n",
       "      <th>2019-06-20</th>\n",
       "      <td>199.460007</td>\n",
       "      <td>186.830000</td>\n",
       "      <td>204.361771</td>\n",
       "      <td>169.298229</td>\n",
       "    </tr>\n",
       "    <tr>\n",
       "      <th>2019-06-21</th>\n",
       "      <td>198.779999</td>\n",
       "      <td>187.786000</td>\n",
       "      <td>205.751400</td>\n",
       "      <td>169.820600</td>\n",
       "    </tr>\n",
       "    <tr>\n",
       "      <th>2019-06-24</th>\n",
       "      <td>199.169998</td>\n",
       "      <td>188.796000</td>\n",
       "      <td>206.944862</td>\n",
       "      <td>170.647138</td>\n",
       "    </tr>\n",
       "  </tbody>\n",
       "</table>\n",
       "<p>2384 rows × 4 columns</p>\n",
       "</div>"
      ],
      "text/plain": [
       "             Adj Close      center          ub          lb\n",
       "Date                                                      \n",
       "2010-01-04   26.782711   25.037723   27.046734   23.028713\n",
       "2010-01-05   26.829010   25.169503   27.288098   23.050908\n",
       "2010-01-06   26.402260   25.307290   27.366449   23.248130\n",
       "2010-01-07   26.353460   25.436879   27.410937   23.462821\n",
       "2010-01-08   26.528664   25.525609   27.529742   23.521475\n",
       "...                ...         ...         ...         ...\n",
       "2019-06-18  198.449997  185.432500  201.032574  169.832427\n",
       "2019-06-19  197.869995  185.996000  202.558154  169.433846\n",
       "2019-06-20  199.460007  186.830000  204.361771  169.298229\n",
       "2019-06-21  198.779999  187.786000  205.751400  169.820600\n",
       "2019-06-24  199.169998  188.796000  206.944862  170.647138\n",
       "\n",
       "[2384 rows x 4 columns]"
      ]
     },
     "execution_count": 42,
     "metadata": {},
     "output_type": "execute_result"
    }
   ],
   "source": [
    "class1.create_band()"
   ]
  },
  {
   "cell_type": "code",
   "execution_count": null,
   "metadata": {},
   "outputs": [],
   "source": []
  }
 ],
 "metadata": {
  "kernelspec": {
   "display_name": "Python 3",
   "language": "python",
   "name": "python3"
  },
  "language_info": {
   "codemirror_mode": {
    "name": "ipython",
    "version": 3
   },
   "file_extension": ".py",
   "mimetype": "text/x-python",
   "name": "python",
   "nbconvert_exporter": "python",
   "pygments_lexer": "ipython3",
   "version": "3.12.1"
  }
 },
 "nbformat": 4,
 "nbformat_minor": 2
}
