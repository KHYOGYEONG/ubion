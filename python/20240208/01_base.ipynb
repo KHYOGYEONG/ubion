{
 "cells": [
  {
   "cell_type": "code",
   "execution_count": 6,
   "metadata": {},
   "outputs": [
    {
     "name": "stdout",
     "output_type": "stream",
     "text": [
      "10\n"
     ]
    }
   ],
   "source": [
    "a = 10\n",
    "print(a)"
   ]
  },
  {
   "cell_type": "code",
   "execution_count": 7,
   "metadata": {},
   "outputs": [
    {
     "name": "stdout",
     "output_type": "stream",
     "text": [
      "9\n"
     ]
    }
   ],
   "source": [
    "b = 9\n",
    "print(b)"
   ]
  },
  {
   "cell_type": "markdown",
   "metadata": {},
   "source": [
    "# 제목\n",
    "## 제목1\n",
    "### 제목2"
   ]
  },
  {
   "cell_type": "markdown",
   "metadata": {},
   "source": [
    "#### 순서형 리스트\n",
    "1. list1\n",
    "2. list2\n",
    "4. list3\n",
    "8. list4\n",
    "\n",
    "#### 비순서형 리스트\n",
    "- list1\n",
    "- list2\n",
    "- list3\n",
    "- list4\n",
    "    - sub list1\n",
    "    - sub list2"
   ]
  },
  {
   "cell_type": "code",
   "execution_count": 10,
   "metadata": {},
   "outputs": [],
   "source": [
    "#  변수 생성\n",
    "a = 10\n",
    "b = 'test'"
   ]
  },
  {
   "cell_type": "code",
   "execution_count": 13,
   "metadata": {},
   "outputs": [
    {
     "name": "stdout",
     "output_type": "stream",
     "text": [
      "10\n",
      "<class 'int'>\n",
      "test\n",
      "<class 'str'>\n"
     ]
    }
   ],
   "source": [
    "print(a)\n",
    "print(type(a))\n",
    "print(b)\n",
    "print(type(b))"
   ]
  },
  {
   "cell_type": "code",
   "execution_count": 16,
   "metadata": {},
   "outputs": [
    {
     "name": "stdout",
     "output_type": "stream",
     "text": [
      "a는 20보다 작거나 같다\n"
     ]
    }
   ],
   "source": [
    "# 조건문\n",
    "# if 조건식 :\n",
    "if a > 20 :\n",
    "    print('a는 20보다 크다.')\n",
    "else:\n",
    "    print('a는 20보다 작거나 같다')"
   ]
  },
  {
   "cell_type": "code",
   "execution_count": 19,
   "metadata": {},
   "outputs": [
    {
     "name": "stdout",
     "output_type": "stream",
     "text": [
      "C\n"
     ]
    }
   ],
   "source": [
    "# 조건식이 여러 개인 경우\n",
    "score = int(input(\"점수를 입력하시오\"))\n",
    "# print(score)\n",
    "\n",
    "if score >= 90:\n",
    "    print('A')\n",
    "elif score >= 80:\n",
    "    print('B')\n",
    "elif score >= 70:\n",
    "    print('C')\n",
    "else:\n",
    "    print('F')"
   ]
  },
  {
   "cell_type": "markdown",
   "metadata": {},
   "source": [
    "### 반복문\n",
    "- for문\n",
    "    - for 변수명 in range(시작값, 종료값, 증가값)\n",
    "    - for 변수명 in 자료형데이터(튜플, 리스트)\n",
    "- while문\n",
    "    - 시작값을 지정하고 while 조건식을 이용하여 조건식이 거짓이될 때까지 반복 실행\n",
    "    - 반복 실행 코드에 시작값을 증가시키는 코드를 추가\n",
    "    - break문 이용하여 반복문을 강제 종료\n",
    "- break\n",
    "    - 반복문을 강제로 종료\n",
    "- continue\n",
    "    - 반복문으로 되돌아가는 구문\n",
    "    "
   ]
  },
  {
   "cell_type": "code",
   "execution_count": 21,
   "metadata": {},
   "outputs": [
    {
     "name": "stdout",
     "output_type": "stream",
     "text": [
      "1\n",
      "2\n",
      "3\n",
      "4\n",
      "5\n",
      "6\n",
      "7\n",
      "8\n",
      "9\n"
     ]
    }
   ],
   "source": [
    "## range 함수를 이용한 반복문 생성\n",
    "for i in range(1, 10, 1):\n",
    "    print(i)"
   ]
  },
  {
   "cell_type": "code",
   "execution_count": 23,
   "metadata": {},
   "outputs": [
    {
     "name": "stdout",
     "output_type": "stream",
     "text": [
      "[1, 2, 3, 4, 5, 6, 7, 8, 9]\n"
     ]
    }
   ],
   "source": [
    "print(list(range(1, 10, 1)))"
   ]
  },
  {
   "cell_type": "code",
   "execution_count": 24,
   "metadata": {},
   "outputs": [
    {
     "name": "stdout",
     "output_type": "stream",
     "text": [
      "1\n",
      "3\n",
      "5\n",
      "7\n",
      "9\n"
     ]
    }
   ],
   "source": [
    "for i in range(1, 10, 2):\n",
    "    print(i)"
   ]
  },
  {
   "cell_type": "code",
   "execution_count": 25,
   "metadata": {},
   "outputs": [
    {
     "name": "stdout",
     "output_type": "stream",
     "text": [
      "100\n",
      "test\n",
      "True\n"
     ]
    }
   ],
   "source": [
    "## 리스트 형태의 데이터를 이용하여 반복문 생성\n",
    "_list = [100, 'test', True]\n",
    "\n",
    "for i in _list:\n",
    "    print(i)"
   ]
  },
  {
   "cell_type": "code",
   "execution_count": 27,
   "metadata": {},
   "outputs": [
    {
     "name": "stdout",
     "output_type": "stream",
     "text": [
      "100\n",
      "test\n",
      "True\n"
     ]
    }
   ],
   "source": [
    "for i in range(0, len(_list), 1):\n",
    "    print(_list[i])"
   ]
  },
  {
   "cell_type": "code",
   "execution_count": 30,
   "metadata": {},
   "outputs": [
    {
     "name": "stdout",
     "output_type": "stream",
     "text": [
      "55\n"
     ]
    }
   ],
   "source": [
    "## 1부터 10까지 합계\n",
    "# for문\n",
    "\n",
    "# 합계라는 변수를 생성해서 초기값은 0으로 대입\n",
    "result = 0\n",
    "\n",
    "for i in range(1, 11, 1):\n",
    "   # result = result + i\n",
    "    result += i\n",
    "print(result)"
   ]
  },
  {
   "cell_type": "code",
   "execution_count": 1,
   "metadata": {},
   "outputs": [
    {
     "name": "stdout",
     "output_type": "stream",
     "text": [
      "55\n"
     ]
    }
   ],
   "source": [
    "# while문\n",
    "i = 1\n",
    "result = 0\n",
    "\n",
    "while i <= 10:\n",
    "    result += i\n",
    "    i += 1\n",
    "print(result)"
   ]
  },
  {
   "cell_type": "code",
   "execution_count": 4,
   "metadata": {},
   "outputs": [
    {
     "name": "stdout",
     "output_type": "stream",
     "text": [
      "----2단 시작 ----\n",
      "2x1=2  2x2=4  2x3=6  2x4=8  2x5=10  2x6=12  2x7=14  2x8=16  2x9=18  \n",
      "----2단 종료----\n",
      "----3단 시작 ----\n",
      "3x1=3  3x2=6  3x3=9  3x4=12  3x5=15  3x6=18  3x7=21  3x8=24  3x9=27  \n",
      "----3단 종료----\n",
      "----4단 시작 ----\n",
      "4x1=4  4x2=8  4x3=12  4x4=16  4x5=20  4x6=24  4x7=28  4x8=32  4x9=36  \n",
      "----4단 종료----\n",
      "----5단 시작 ----\n",
      "5x1=5  5x2=10  5x3=15  5x4=20  5x5=25  5x6=30  5x7=35  5x8=40  5x9=45  \n",
      "----5단 종료----\n",
      "----6단 시작 ----\n",
      "6x1=6  6x2=12  6x3=18  6x4=24  6x5=30  6x6=36  6x7=42  6x8=48  6x9=54  \n",
      "----6단 종료----\n",
      "----7단 시작 ----\n",
      "7x1=7  7x2=14  7x3=21  7x4=28  7x5=35  7x6=42  7x7=49  7x8=56  7x9=63  \n",
      "----7단 종료----\n",
      "----8단 시작 ----\n",
      "8x1=8  8x2=16  8x3=24  8x4=32  8x5=40  8x6=48  8x7=56  8x8=64  8x9=72  \n",
      "----8단 종료----\n",
      "----9단 시작 ----\n",
      "9x1=9  9x2=18  9x3=27  9x4=36  9x5=45  9x6=54  9x7=63  9x8=72  9x9=81  \n",
      "----9단 종료----\n"
     ]
    }
   ],
   "source": [
    "## 다중 for문 -> 구구단\n",
    "## 2단부터 9단까지 1~9 곱한 데이터를 출력\n",
    "for i in range(2, 10, 1):\n",
    "    print(f\"----{i}단 시작 ----\")\n",
    "    for j in range(1, 10, 1):\n",
    "        print(f'{i}x{j}={i*j}', end ='  ')\n",
    "    print(\"\")\n",
    "    print(f\"----{i}단 종료----\")"
   ]
  },
  {
   "cell_type": "code",
   "execution_count": 9,
   "metadata": {},
   "outputs": [
    {
     "name": "stdout",
     "output_type": "stream",
     "text": [
      "프로그램 종료\n"
     ]
    }
   ],
   "source": [
    "# 교수님 답안\n",
    "n = 3\n",
    "_end = 10\n",
    "# a가 1부터 10까지 반복을 하는 반복문을 생성\n",
    "for a in range(1, _end+1, 1):\n",
    "    #b가 1부터 10까지 반복을 하는 반복문을 생성\n",
    "        for b in range(1, _end+1, 1):\n",
    "    #c가 1부터10까지 반복을 하는 반복문을 생성\n",
    "            for c in range(1, _end+1, 1):\n",
    "        # 마지막 정리 공식(a**n + b**n == c**n)이 참인가? 조건문 생성\n",
    "                if a**n + b**n == c**n:\n",
    "        # 조건식이 참인 경우 a,b,c 출력\n",
    "                 print(a,b,c)\n",
    "# 프로그램 종료 출력\n",
    "print(\"프로그램 종료\")"
   ]
  },
  {
   "cell_type": "markdown",
   "metadata": {},
   "source": [
    "# 반복문 문제\n",
    " - 소수인 데이터를 출력하라\n",
    "- 1부터 10까지의 소수만 출력하시오\n",
    "        - 5 -> 2부터 시작해서 4까지 5와 나눠서 나머지가 0이 있는가? (있으면 소수가 아니고 없으면 소수이다.)"
   ]
  },
  {
   "cell_type": "code",
   "execution_count": 1,
   "metadata": {},
   "outputs": [
    {
     "name": "stdout",
     "output_type": "stream",
     "text": [
      "2  3  5  7  "
     ]
    }
   ],
   "source": [
    "## 2부터 10까지 반복을 하는 반복문 생성\n",
    "for i in range(2, 11, 1):\n",
    "    # 변수(check)를 생성하여 값을 True로 설정\n",
    "    check = True\n",
    "    ## 반복문 생성 2부터 i - 1까지 반복을 하는 반복문을 생성\n",
    "    for j in range(2,i,1):\n",
    "        ## 조건식을 생성 : i 와 j 를 나눈 나머지 값이 0인가?\n",
    "        if i%j == 0:\n",
    "        ## 조건식이 참이라면 check를 False로 변경\n",
    "            check = False\n",
    "        #break (숫자가 클 때 불필요한 반복을 줄여 실행 속도가 빨라진다)\n",
    "# 조건문을 생성 : check가 참인가?\n",
    "    if check:       \n",
    "    # 참인 경우 i를 출력\n",
    "        print(i, end='  ') # 탭 키로 ''사이에 공간을 넣어주면 결과값이 가로로 나열된다."
   ]
  },
  {
   "cell_type": "code",
   "execution_count": null,
   "metadata": {},
   "outputs": [],
   "source": []
  }
 ],
 "metadata": {
  "kernelspec": {
   "display_name": "base",
   "language": "python",
   "name": "python3"
  },
  "language_info": {
   "codemirror_mode": {
    "name": "ipython",
    "version": 3
   },
   "file_extension": ".py",
   "mimetype": "text/x-python",
   "name": "python",
   "nbconvert_exporter": "python",
   "pygments_lexer": "ipython3",
   "version": "3.12.1"
  }
 },
 "nbformat": 4,
 "nbformat_minor": 2
}
