{
 "cells": [
  {
   "cell_type": "code",
   "execution_count": 1,
   "metadata": {},
   "outputs": [
    {
     "name": "stderr",
     "output_type": "stream",
     "text": [
      "C:\\Users\\User\\AppData\\Local\\Temp\\ipykernel_20092\\1580295572.py:2: DeprecationWarning: \n",
      "Pyarrow will become a required dependency of pandas in the next major release of pandas (pandas 3.0),\n",
      "(to allow more performant data types, such as the Arrow string type, and better interoperability with other libraries)\n",
      "but was not found to be installed on your system.\n",
      "If this would cause problems for you,\n",
      "please provide us feedback at https://github.com/pandas-dev/pandas/issues/54466\n",
      "        \n",
      "  import pandas as pd\n"
     ]
    }
   ],
   "source": [
    "# 라이브러리 로드\n",
    "import pandas as pd\n"
   ]
  },
  {
   "cell_type": "code",
   "execution_count": 3,
   "metadata": {},
   "outputs": [],
   "source": [
    "# 1차원 데이터인 Series 생성\n",
    "# 첫번쨰 값 = value, index 매개변수가 존재.(변수가 2개)\n",
    "# index값 안넣으면 자동적으로 부여\n",
    "# 맨아래 나오는 건 데이터(벨류)의 타입을 알려줌\n",
    "\n",
    "# 인덱스 값을 안넣은 경우\n",
    "pd_series = pd.Series(\n",
    "    [5000, 6000, 6500, 6500]\n",
    ")\n"
   ]
  },
  {
   "cell_type": "code",
   "execution_count": 4,
   "metadata": {},
   "outputs": [
    {
     "name": "stdout",
     "output_type": "stream",
     "text": [
      "0    5000\n",
      "1    6000\n",
      "2    6500\n",
      "3    6500\n",
      "dtype: int64\n"
     ]
    }
   ],
   "source": [
    "print(pd_series)"
   ]
  },
  {
   "cell_type": "code",
   "execution_count": 5,
   "metadata": {},
   "outputs": [],
   "source": [
    "# 인덱스 값을 지정해 준 경우\n",
    "pd_series2 = pd.Series(\n",
    "    [5000, 6000, 6500, 6500],\n",
    "    index = ['아메리카노', '카페라떼', '카페모카','카푸치노']\n",
    ")"
   ]
  },
  {
   "cell_type": "code",
   "execution_count": 7,
   "metadata": {},
   "outputs": [
    {
     "name": "stdout",
     "output_type": "stream",
     "text": [
      "아메리카노    5000\n",
      "카페라떼     6000\n",
      "카페모카     6500\n",
      "카푸치노     6500\n",
      "dtype: int64\n"
     ]
    }
   ],
   "source": [
    "print(pd_series2)"
   ]
  },
  {
   "cell_type": "code",
   "execution_count": 8,
   "metadata": {},
   "outputs": [
    {
     "name": "stdout",
     "output_type": "stream",
     "text": [
      "[5000 6000 6500 6500]\n"
     ]
    }
   ],
   "source": [
    "## Series 라는 Class\n",
    "## 변수 + 함수\n",
    "## 변수는 뭐가 있을 것인가?\n",
    "## 변수는 values, index\n",
    "print(pd_series2.values)"
   ]
  },
  {
   "cell_type": "code",
   "execution_count": 10,
   "metadata": {},
   "outputs": [
    {
     "name": "stdout",
     "output_type": "stream",
     "text": [
      "Index(['아메리카노', '카페라떼', '카페모카', '카푸치노'], dtype='object')\n"
     ]
    }
   ],
   "source": [
    "print(pd_series2.index)"
   ]
  },
  {
   "cell_type": "code",
   "execution_count": 12,
   "metadata": {},
   "outputs": [],
   "source": [
    "# index는 변수이기 때문에 변경이 가능함\n",
    "# 인덱스를 선택해주고\n",
    "# 길이를 기존과 같게 입력해야 한다.\n",
    "pd_series2.index = ['아아','라떼','모카','카푸치노']"
   ]
  },
  {
   "cell_type": "code",
   "execution_count": 15,
   "metadata": {},
   "outputs": [
    {
     "name": "stdout",
     "output_type": "stream",
     "text": [
      "아아      5000\n",
      "라떼      6300\n",
      "모카      6500\n",
      "카푸치노    6500\n",
      "dtype: int64\n"
     ]
    }
   ],
   "source": [
    "print(pd_series2)"
   ]
  },
  {
   "cell_type": "code",
   "execution_count": 14,
   "metadata": {},
   "outputs": [],
   "source": [
    "# 그리고 value값도 바꿀 수 있다.\n",
    "# 라뗴의 가격을 변경하기\n",
    "\n",
    "pd_series2.values[1] = 6300\n"
   ]
  },
  {
   "cell_type": "code",
   "execution_count": 16,
   "metadata": {},
   "outputs": [],
   "source": [
    "# 시리즈는 딕셔너리와 흡사함\n",
    "# 딕셔너리에 위 상황을 똑같이 하는 경우\n",
    "data = {\n",
    "    '아아' : 5000,\n",
    "    '라떼' : 6300,\n",
    "    '모카' : 6500,\n",
    "    '카푸치노' : 6500\n",
    "}"
   ]
  },
  {
   "cell_type": "code",
   "execution_count": 17,
   "metadata": {},
   "outputs": [],
   "source": [
    "data['모카'] = 7000"
   ]
  },
  {
   "cell_type": "code",
   "execution_count": 18,
   "metadata": {},
   "outputs": [
    {
     "data": {
      "text/plain": [
       "{'아아': 5000, '라떼': 6300, '모카': 7000, '카푸치노': 6500}"
      ]
     },
     "execution_count": 18,
     "metadata": {},
     "output_type": "execute_result"
    }
   ],
   "source": [
    "data"
   ]
  },
  {
   "cell_type": "code",
   "execution_count": 19,
   "metadata": {},
   "outputs": [],
   "source": [
    "pd_series2['모카'] = 7000"
   ]
  },
  {
   "cell_type": "code",
   "execution_count": 20,
   "metadata": {},
   "outputs": [
    {
     "name": "stdout",
     "output_type": "stream",
     "text": [
      "아아      5000\n",
      "라떼      6300\n",
      "모카      7000\n",
      "카푸치노    6500\n",
      "dtype: int64\n"
     ]
    }
   ],
   "source": [
    "print(pd_series2)"
   ]
  },
  {
   "cell_type": "code",
   "execution_count": 22,
   "metadata": {},
   "outputs": [],
   "source": [
    "# 위 처럼 튜플, 시리즈, 딕셔너리는 데이터 구조가 비슷하다."
   ]
  },
  {
   "cell_type": "code",
   "execution_count": 23,
   "metadata": {},
   "outputs": [
    {
     "ename": "ValueError",
     "evalue": "Length of values (4) does not match length of index (3)",
     "output_type": "error",
     "traceback": [
      "\u001b[1;31m---------------------------------------------------------------------------\u001b[0m",
      "\u001b[1;31mValueError\u001b[0m                                Traceback (most recent call last)",
      "Cell \u001b[1;32mIn[23], line 5\u001b[0m\n\u001b[0;32m      2\u001b[0m _val \u001b[38;5;241m=\u001b[39m [\u001b[38;5;241m5000\u001b[39m, \u001b[38;5;241m6000\u001b[39m, \u001b[38;5;241m6500\u001b[39m, \u001b[38;5;241m6500\u001b[39m]\n\u001b[0;32m      3\u001b[0m _index \u001b[38;5;241m=\u001b[39m [\u001b[38;5;124m'\u001b[39m\u001b[38;5;124mA\u001b[39m\u001b[38;5;124m'\u001b[39m,\u001b[38;5;124m'\u001b[39m\u001b[38;5;124mB\u001b[39m\u001b[38;5;124m'\u001b[39m,\u001b[38;5;124m'\u001b[39m\u001b[38;5;124mC\u001b[39m\u001b[38;5;124m'\u001b[39m]\n\u001b[1;32m----> 5\u001b[0m \u001b[43mpd\u001b[49m\u001b[38;5;241;43m.\u001b[39;49m\u001b[43mSeries\u001b[49m\u001b[43m(\u001b[49m\u001b[43m_val\u001b[49m\u001b[43m,\u001b[49m\u001b[43m \u001b[49m\u001b[43mindex\u001b[49m\u001b[38;5;241;43m=\u001b[39;49m\u001b[43m_index\u001b[49m\u001b[43m)\u001b[49m\n",
      "File \u001b[1;32mc:\\Users\\User\\AppData\\Local\\Programs\\Python\\Python312\\Lib\\site-packages\\pandas\\core\\series.py:574\u001b[0m, in \u001b[0;36mSeries.__init__\u001b[1;34m(self, data, index, dtype, name, copy, fastpath)\u001b[0m\n\u001b[0;32m    572\u001b[0m     index \u001b[38;5;241m=\u001b[39m default_index(\u001b[38;5;28mlen\u001b[39m(data))\n\u001b[0;32m    573\u001b[0m \u001b[38;5;28;01melif\u001b[39;00m is_list_like(data):\n\u001b[1;32m--> 574\u001b[0m     \u001b[43mcom\u001b[49m\u001b[38;5;241;43m.\u001b[39;49m\u001b[43mrequire_length_match\u001b[49m\u001b[43m(\u001b[49m\u001b[43mdata\u001b[49m\u001b[43m,\u001b[49m\u001b[43m \u001b[49m\u001b[43mindex\u001b[49m\u001b[43m)\u001b[49m\n\u001b[0;32m    576\u001b[0m \u001b[38;5;66;03m# create/copy the manager\u001b[39;00m\n\u001b[0;32m    577\u001b[0m \u001b[38;5;28;01mif\u001b[39;00m \u001b[38;5;28misinstance\u001b[39m(data, (SingleBlockManager, SingleArrayManager)):\n",
      "File \u001b[1;32mc:\\Users\\User\\AppData\\Local\\Programs\\Python\\Python312\\Lib\\site-packages\\pandas\\core\\common.py:571\u001b[0m, in \u001b[0;36mrequire_length_match\u001b[1;34m(data, index)\u001b[0m\n\u001b[0;32m    567\u001b[0m \u001b[38;5;250m\u001b[39m\u001b[38;5;124;03m\"\"\"\u001b[39;00m\n\u001b[0;32m    568\u001b[0m \u001b[38;5;124;03mCheck the length of data matches the length of the index.\u001b[39;00m\n\u001b[0;32m    569\u001b[0m \u001b[38;5;124;03m\"\"\"\u001b[39;00m\n\u001b[0;32m    570\u001b[0m \u001b[38;5;28;01mif\u001b[39;00m \u001b[38;5;28mlen\u001b[39m(data) \u001b[38;5;241m!=\u001b[39m \u001b[38;5;28mlen\u001b[39m(index):\n\u001b[1;32m--> 571\u001b[0m     \u001b[38;5;28;01mraise\u001b[39;00m \u001b[38;5;167;01mValueError\u001b[39;00m(\n\u001b[0;32m    572\u001b[0m         \u001b[38;5;124m\"\u001b[39m\u001b[38;5;124mLength of values \u001b[39m\u001b[38;5;124m\"\u001b[39m\n\u001b[0;32m    573\u001b[0m         \u001b[38;5;124mf\u001b[39m\u001b[38;5;124m\"\u001b[39m\u001b[38;5;124m(\u001b[39m\u001b[38;5;132;01m{\u001b[39;00m\u001b[38;5;28mlen\u001b[39m(data)\u001b[38;5;132;01m}\u001b[39;00m\u001b[38;5;124m) \u001b[39m\u001b[38;5;124m\"\u001b[39m\n\u001b[0;32m    574\u001b[0m         \u001b[38;5;124m\"\u001b[39m\u001b[38;5;124mdoes not match length of index \u001b[39m\u001b[38;5;124m\"\u001b[39m\n\u001b[0;32m    575\u001b[0m         \u001b[38;5;124mf\u001b[39m\u001b[38;5;124m\"\u001b[39m\u001b[38;5;124m(\u001b[39m\u001b[38;5;132;01m{\u001b[39;00m\u001b[38;5;28mlen\u001b[39m(index)\u001b[38;5;132;01m}\u001b[39;00m\u001b[38;5;124m)\u001b[39m\u001b[38;5;124m\"\u001b[39m\n\u001b[0;32m    576\u001b[0m     )\n",
      "\u001b[1;31mValueError\u001b[0m: Length of values (4) does not match length of index (3)"
     ]
    }
   ],
   "source": [
    "## Series를 생성할때 value의 개수와 index의 개수가 다른 경우(에러)\n",
    "_val = [5000, 6000, 6500, 6500]\n",
    "_index = ['A','B','C']\n",
    "\n",
    "pd.Series(_val, index=_index)"
   ]
  },
  {
   "cell_type": "markdown",
   "metadata": {},
   "source": [
    "DataFrame"
   ]
  },
  {
   "cell_type": "code",
   "execution_count": 24,
   "metadata": {},
   "outputs": [],
   "source": [
    "# R에서는 Key1 : c(), Key2 : c() 로 구성, / value가 벡터형태로 들어감\n",
    "# Python 에서는 Key1 : Series, Key2 : Series 로 구성, / value가 Series형태로 들어감 "
   ]
  },
  {
   "cell_type": "code",
   "execution_count": 31,
   "metadata": {},
   "outputs": [],
   "source": [
    "# 2차원 데이터 프레임 생성\n",
    "# 아래 경우는 컬럼의 길이와 데이터의 길이가 같은 경우임.\n",
    "# 길이가 같지 않아도 출력은 해줌.\n",
    "_val = [\n",
    "    [1,2,3],\n",
    "    [4,5,6],\n",
    "    [7,8,9]\n",
    "]\n",
    "df = pd.DataFrame(_val)"
   ]
  },
  {
   "cell_type": "code",
   "execution_count": 32,
   "metadata": {},
   "outputs": [
    {
     "name": "stdout",
     "output_type": "stream",
     "text": [
      "   0  1  2\n",
      "0  1  2  3\n",
      "1  4  5  6\n",
      "2  7  8  9\n"
     ]
    }
   ],
   "source": [
    "print(df)"
   ]
  },
  {
   "cell_type": "code",
   "execution_count": 33,
   "metadata": {},
   "outputs": [
    {
     "data": {
      "text/html": [
       "<div>\n",
       "<style scoped>\n",
       "    .dataframe tbody tr th:only-of-type {\n",
       "        vertical-align: middle;\n",
       "    }\n",
       "\n",
       "    .dataframe tbody tr th {\n",
       "        vertical-align: top;\n",
       "    }\n",
       "\n",
       "    .dataframe thead th {\n",
       "        text-align: right;\n",
       "    }\n",
       "</style>\n",
       "<table border=\"1\" class=\"dataframe\">\n",
       "  <thead>\n",
       "    <tr style=\"text-align: right;\">\n",
       "      <th></th>\n",
       "      <th>0</th>\n",
       "      <th>1</th>\n",
       "      <th>2</th>\n",
       "    </tr>\n",
       "  </thead>\n",
       "  <tbody>\n",
       "    <tr>\n",
       "      <th>0</th>\n",
       "      <td>1</td>\n",
       "      <td>2</td>\n",
       "      <td>3</td>\n",
       "    </tr>\n",
       "    <tr>\n",
       "      <th>1</th>\n",
       "      <td>4</td>\n",
       "      <td>5</td>\n",
       "      <td>6</td>\n",
       "    </tr>\n",
       "    <tr>\n",
       "      <th>2</th>\n",
       "      <td>7</td>\n",
       "      <td>8</td>\n",
       "      <td>9</td>\n",
       "    </tr>\n",
       "  </tbody>\n",
       "</table>\n",
       "</div>"
      ],
      "text/plain": [
       "   0  1  2\n",
       "0  1  2  3\n",
       "1  4  5  6\n",
       "2  7  8  9"
      ]
     },
     "execution_count": 33,
     "metadata": {},
     "output_type": "execute_result"
    }
   ],
   "source": [
    "df"
   ]
  },
  {
   "cell_type": "code",
   "execution_count": null,
   "metadata": {},
   "outputs": [],
   "source": [
    "# 이제 컬럼의 이름을 바꿔보자\n",
    "# 데이터 베이스는 3개의 변수가 존재 (cf_시리즈는 키값과 벨류 두가지임)"
   ]
  },
  {
   "cell_type": "code",
   "execution_count": 35,
   "metadata": {},
   "outputs": [
    {
     "name": "stdout",
     "output_type": "stream",
     "text": [
      "[0, 1, 2]\n"
     ]
    }
   ],
   "source": [
    "print(list(df.index))"
   ]
  },
  {
   "cell_type": "code",
   "execution_count": 38,
   "metadata": {},
   "outputs": [
    {
     "name": "stdout",
     "output_type": "stream",
     "text": [
      "Index(['A', 'B', 'C'], dtype='object')\n"
     ]
    }
   ],
   "source": [
    "print(df.columns)"
   ]
  },
  {
   "cell_type": "code",
   "execution_count": 37,
   "metadata": {},
   "outputs": [],
   "source": [
    "## 전체 컬럼의 이름 변경\n",
    "## 데이터(벨류)의 길이와 맞춰서 변경해줘야 한다.\n",
    "## A B C\n",
    "df.columns = ['A','B','C']"
   ]
  },
  {
   "cell_type": "code",
   "execution_count": 39,
   "metadata": {},
   "outputs": [
    {
     "data": {
      "text/html": [
       "<div>\n",
       "<style scoped>\n",
       "    .dataframe tbody tr th:only-of-type {\n",
       "        vertical-align: middle;\n",
       "    }\n",
       "\n",
       "    .dataframe tbody tr th {\n",
       "        vertical-align: top;\n",
       "    }\n",
       "\n",
       "    .dataframe thead th {\n",
       "        text-align: right;\n",
       "    }\n",
       "</style>\n",
       "<table border=\"1\" class=\"dataframe\">\n",
       "  <thead>\n",
       "    <tr style=\"text-align: right;\">\n",
       "      <th></th>\n",
       "      <th>A</th>\n",
       "      <th>B</th>\n",
       "      <th>C</th>\n",
       "    </tr>\n",
       "  </thead>\n",
       "  <tbody>\n",
       "    <tr>\n",
       "      <th>0</th>\n",
       "      <td>1</td>\n",
       "      <td>2</td>\n",
       "      <td>3</td>\n",
       "    </tr>\n",
       "    <tr>\n",
       "      <th>1</th>\n",
       "      <td>4</td>\n",
       "      <td>5</td>\n",
       "      <td>6</td>\n",
       "    </tr>\n",
       "    <tr>\n",
       "      <th>2</th>\n",
       "      <td>7</td>\n",
       "      <td>8</td>\n",
       "      <td>9</td>\n",
       "    </tr>\n",
       "  </tbody>\n",
       "</table>\n",
       "</div>"
      ],
      "text/plain": [
       "   A  B  C\n",
       "0  1  2  3\n",
       "1  4  5  6\n",
       "2  7  8  9"
      ]
     },
     "execution_count": 39,
     "metadata": {},
     "output_type": "execute_result"
    }
   ],
   "source": [
    "df"
   ]
  },
  {
   "cell_type": "code",
   "execution_count": 44,
   "metadata": {},
   "outputs": [],
   "source": [
    "## 일부 컬럼만 변경\n",
    "## 컬럼 중 B컬럼의 이름을 b로 변경\n",
    " # rename()은 컬럼과 인덱스 모두 변경할 수있다.\n",
    "\n",
    "#df.columns[1] = 'b' -> 이거는 에러\n",
    "df = df.rename(columns={\n",
    "    'A' : 'a',\n",
    "    'C' : 'c'\n",
    "})"
   ]
  },
  {
   "cell_type": "code",
   "execution_count": 45,
   "metadata": {},
   "outputs": [
    {
     "data": {
      "text/html": [
       "<div>\n",
       "<style scoped>\n",
       "    .dataframe tbody tr th:only-of-type {\n",
       "        vertical-align: middle;\n",
       "    }\n",
       "\n",
       "    .dataframe tbody tr th {\n",
       "        vertical-align: top;\n",
       "    }\n",
       "\n",
       "    .dataframe thead th {\n",
       "        text-align: right;\n",
       "    }\n",
       "</style>\n",
       "<table border=\"1\" class=\"dataframe\">\n",
       "  <thead>\n",
       "    <tr style=\"text-align: right;\">\n",
       "      <th></th>\n",
       "      <th>a</th>\n",
       "      <th>B</th>\n",
       "      <th>c</th>\n",
       "    </tr>\n",
       "  </thead>\n",
       "  <tbody>\n",
       "    <tr>\n",
       "      <th>0</th>\n",
       "      <td>1</td>\n",
       "      <td>2</td>\n",
       "      <td>3</td>\n",
       "    </tr>\n",
       "    <tr>\n",
       "      <th>1</th>\n",
       "      <td>4</td>\n",
       "      <td>5</td>\n",
       "      <td>6</td>\n",
       "    </tr>\n",
       "    <tr>\n",
       "      <th>2</th>\n",
       "      <td>7</td>\n",
       "      <td>8</td>\n",
       "      <td>9</td>\n",
       "    </tr>\n",
       "  </tbody>\n",
       "</table>\n",
       "</div>"
      ],
      "text/plain": [
       "   a  B  c\n",
       "0  1  2  3\n",
       "1  4  5  6\n",
       "2  7  8  9"
      ]
     },
     "execution_count": 45,
     "metadata": {},
     "output_type": "execute_result"
    }
   ],
   "source": [
    "df"
   ]
  },
  {
   "cell_type": "code",
   "execution_count": 46,
   "metadata": {},
   "outputs": [
    {
     "data": {
      "text/html": [
       "<div>\n",
       "<style scoped>\n",
       "    .dataframe tbody tr th:only-of-type {\n",
       "        vertical-align: middle;\n",
       "    }\n",
       "\n",
       "    .dataframe tbody tr th {\n",
       "        vertical-align: top;\n",
       "    }\n",
       "\n",
       "    .dataframe thead th {\n",
       "        text-align: right;\n",
       "    }\n",
       "</style>\n",
       "<table border=\"1\" class=\"dataframe\">\n",
       "  <thead>\n",
       "    <tr style=\"text-align: right;\">\n",
       "      <th></th>\n",
       "      <th>name</th>\n",
       "      <th>age</th>\n",
       "    </tr>\n",
       "  </thead>\n",
       "  <tbody>\n",
       "    <tr>\n",
       "      <th>0</th>\n",
       "      <td>a</td>\n",
       "      <td>20</td>\n",
       "    </tr>\n",
       "    <tr>\n",
       "      <th>1</th>\n",
       "      <td>b</td>\n",
       "      <td>30</td>\n",
       "    </tr>\n",
       "    <tr>\n",
       "      <th>2</th>\n",
       "      <td>c</td>\n",
       "      <td>40</td>\n",
       "    </tr>\n",
       "  </tbody>\n",
       "</table>\n",
       "</div>"
      ],
      "text/plain": [
       "  name  age\n",
       "0    a   20\n",
       "1    b   30\n",
       "2    c   40"
      ]
     },
     "execution_count": 46,
     "metadata": {},
     "output_type": "execute_result"
    }
   ],
   "source": [
    "## list + dict 혼합된 2차원 데이터를 이용하여 DataFrame 생성\n",
    " # dict안에 list\n",
    "data = {\n",
    "    'name' : ['a','b','c'],\n",
    "    'age' : [20, 30, 40]\n",
    "}\n",
    "df2 = pd.DataFrame(data)\n",
    "df2"
   ]
  },
  {
   "cell_type": "code",
   "execution_count": 47,
   "metadata": {},
   "outputs": [
    {
     "data": {
      "text/html": [
       "<div>\n",
       "<style scoped>\n",
       "    .dataframe tbody tr th:only-of-type {\n",
       "        vertical-align: middle;\n",
       "    }\n",
       "\n",
       "    .dataframe tbody tr th {\n",
       "        vertical-align: top;\n",
       "    }\n",
       "\n",
       "    .dataframe thead th {\n",
       "        text-align: right;\n",
       "    }\n",
       "</style>\n",
       "<table border=\"1\" class=\"dataframe\">\n",
       "  <thead>\n",
       "    <tr style=\"text-align: right;\">\n",
       "      <th></th>\n",
       "      <th>name</th>\n",
       "      <th>age</th>\n",
       "    </tr>\n",
       "  </thead>\n",
       "  <tbody>\n",
       "    <tr>\n",
       "      <th>0</th>\n",
       "      <td>a</td>\n",
       "      <td>20</td>\n",
       "    </tr>\n",
       "    <tr>\n",
       "      <th>1</th>\n",
       "      <td>b</td>\n",
       "      <td>30</td>\n",
       "    </tr>\n",
       "  </tbody>\n",
       "</table>\n",
       "</div>"
      ],
      "text/plain": [
       "  name  age\n",
       "0    a   20\n",
       "1    b   30"
      ]
     },
     "execution_count": 47,
     "metadata": {},
     "output_type": "execute_result"
    }
   ],
   "source": [
    "# list 안에 dict\n",
    "data2 = [\n",
    "    {\n",
    "        'name':'a',\n",
    "        'age':20\n",
    "    },\n",
    "    {\n",
    "        'name':'b',\n",
    "        'age':30\n",
    "    }\n",
    "]\n",
    "df3 = pd.DataFrame(data2)\n",
    "df3"
   ]
  },
  {
   "cell_type": "markdown",
   "metadata": {},
   "source": [
    "### 외부의 데이터 파일 로드\n",
    "- csv\n",
    "    - pandas 안에 있는 read_csv({파일의 경로}) 함수 호출\n",
    "- json\n",
    "    - read_json({파일의 경로})\n",
    "- excel\n",
    "    - read_excel({파일의 경로})\n",
    "    - 추가로 라이브러리 설치 필요해야하는 경우 존재\n",
    "- xml\n",
    "    - read_xml({파일의 경로})\n",
    "- excel을 제외하고 나머지 데이터파일에서 사용이 되는 매개변수\n",
    "    - encoding 매개변수\n",
    "        - 기본값이 UTF-8\n",
    "        - 데이터에 한글이 포함되어 있는 경우 에러 발생 확률\n",
    "            - CP949, EUC-KR 인자값을 생성"
   ]
  },
  {
   "cell_type": "markdown",
   "metadata": {},
   "source": [
    "- 공용 매개변수\n",
    "    - index_col\n",
    "        - data 파일에서 특정 컬럼을 인덱스로 변환해서 데이터프레임 생성\n",
    "- 파일 경로\n",
    "    - 절대경로, 상대경로 가능"
   ]
  },
  {
   "cell_type": "code",
   "execution_count": 59,
   "metadata": {},
   "outputs": [],
   "source": [
    "# 상대 경로 사용시\n",
    "# 작업하고 있는 곳 확인\n",
    "# 그 폴더에서 얼마나 상위 폴더로 이동해야하는지 (../)\n",
    "\n",
    "df = pd.read_csv(\"../../../csv/AAPL.csv\")"
   ]
  },
  {
   "cell_type": "code",
   "execution_count": 60,
   "metadata": {},
   "outputs": [
    {
     "data": {
      "text/html": [
       "<div>\n",
       "<style scoped>\n",
       "    .dataframe tbody tr th:only-of-type {\n",
       "        vertical-align: middle;\n",
       "    }\n",
       "\n",
       "    .dataframe tbody tr th {\n",
       "        vertical-align: top;\n",
       "    }\n",
       "\n",
       "    .dataframe thead th {\n",
       "        text-align: right;\n",
       "    }\n",
       "</style>\n",
       "<table border=\"1\" class=\"dataframe\">\n",
       "  <thead>\n",
       "    <tr style=\"text-align: right;\">\n",
       "      <th></th>\n",
       "      <th>Date</th>\n",
       "      <th>Open</th>\n",
       "      <th>High</th>\n",
       "      <th>Low</th>\n",
       "      <th>Close</th>\n",
       "      <th>Adj Close</th>\n",
       "      <th>Volume</th>\n",
       "    </tr>\n",
       "  </thead>\n",
       "  <tbody>\n",
       "    <tr>\n",
       "      <th>0</th>\n",
       "      <td>1980-12-12</td>\n",
       "      <td>0.513393</td>\n",
       "      <td>0.515625</td>\n",
       "      <td>0.513393</td>\n",
       "      <td>0.513393</td>\n",
       "      <td>0.410525</td>\n",
       "      <td>117258400.0</td>\n",
       "    </tr>\n",
       "    <tr>\n",
       "      <th>1</th>\n",
       "      <td>1980-12-15</td>\n",
       "      <td>0.488839</td>\n",
       "      <td>0.488839</td>\n",
       "      <td>0.486607</td>\n",
       "      <td>0.486607</td>\n",
       "      <td>0.389106</td>\n",
       "      <td>43971200.0</td>\n",
       "    </tr>\n",
       "    <tr>\n",
       "      <th>2</th>\n",
       "      <td>1980-12-16</td>\n",
       "      <td>0.453125</td>\n",
       "      <td>0.453125</td>\n",
       "      <td>0.450893</td>\n",
       "      <td>0.450893</td>\n",
       "      <td>0.360548</td>\n",
       "      <td>26432000.0</td>\n",
       "    </tr>\n",
       "  </tbody>\n",
       "</table>\n",
       "</div>"
      ],
      "text/plain": [
       "         Date      Open      High       Low     Close  Adj Close       Volume\n",
       "0  1980-12-12  0.513393  0.515625  0.513393  0.513393   0.410525  117258400.0\n",
       "1  1980-12-15  0.488839  0.488839  0.486607  0.486607   0.389106   43971200.0\n",
       "2  1980-12-16  0.453125  0.453125  0.450893  0.450893   0.360548   26432000.0"
      ]
     },
     "execution_count": 60,
     "metadata": {},
     "output_type": "execute_result"
    }
   ],
   "source": [
    "df.head(3)"
   ]
  },
  {
   "cell_type": "code",
   "execution_count": 61,
   "metadata": {},
   "outputs": [],
   "source": [
    "## json파일을 로드\n",
    "df2 = pd.read_json('../../../csv/2021/202101_expense_list.json')"
   ]
  },
  {
   "cell_type": "code",
   "execution_count": 63,
   "metadata": {},
   "outputs": [
    {
     "data": {
      "text/html": [
       "<div>\n",
       "<style scoped>\n",
       "    .dataframe tbody tr th:only-of-type {\n",
       "        vertical-align: middle;\n",
       "    }\n",
       "\n",
       "    .dataframe tbody tr th {\n",
       "        vertical-align: top;\n",
       "    }\n",
       "\n",
       "    .dataframe thead th {\n",
       "        text-align: right;\n",
       "    }\n",
       "</style>\n",
       "<table border=\"1\" class=\"dataframe\">\n",
       "  <thead>\n",
       "    <tr style=\"text-align: right;\">\n",
       "      <th></th>\n",
       "      <th>nid</th>\n",
       "      <th>title</th>\n",
       "      <th>url</th>\n",
       "      <th>dept_nm_lvl_1</th>\n",
       "      <th>dept_nm_lvl_2</th>\n",
       "      <th>dept_nm_lvl_3</th>\n",
       "      <th>dept_nm_lvl_4</th>\n",
       "      <th>dept_nm_lvl_5</th>\n",
       "      <th>exec_yr</th>\n",
       "      <th>exec_month</th>\n",
       "      <th>...</th>\n",
       "      <th>expense_execution</th>\n",
       "      <th>category</th>\n",
       "      <th>dept_nm_full</th>\n",
       "      <th>exec_dt</th>\n",
       "      <th>exec_loc</th>\n",
       "      <th>exec_purpose</th>\n",
       "      <th>target_nm</th>\n",
       "      <th>payment_method</th>\n",
       "      <th>exec_amount</th>\n",
       "      <th>bimok</th>\n",
       "    </tr>\n",
       "  </thead>\n",
       "  <tbody>\n",
       "    <tr>\n",
       "      <th>0</th>\n",
       "      <td>22249566</td>\n",
       "      <td>2021년 1월 사업소 물재생센터 중랑물재생센터 업무추진비 - 전체</td>\n",
       "      <td>http://opengov.seoul.go.kr/public/22249566</td>\n",
       "      <td>사업소</td>\n",
       "      <td>물재생센터</td>\n",
       "      <td>중랑물재생센터</td>\n",
       "      <td></td>\n",
       "      <td></td>\n",
       "      <td>2021</td>\n",
       "      <td>1</td>\n",
       "      <td>...</td>\n",
       "      <td>NaN</td>\n",
       "      <td></td>\n",
       "      <td>중랑물재생센터 관리과</td>\n",
       "      <td>2021-01-25 00:00</td>\n",
       "      <td></td>\n",
       "      <td>소속직원 경조사비</td>\n",
       "      <td>김광옥, 김용성</td>\n",
       "      <td>현금</td>\n",
       "      <td>100000</td>\n",
       "      <td>None</td>\n",
       "    </tr>\n",
       "  </tbody>\n",
       "</table>\n",
       "<p>1 rows × 21 columns</p>\n",
       "</div>"
      ],
      "text/plain": [
       "        nid                                  title  \\\n",
       "0  22249566  2021년 1월 사업소 물재생센터 중랑물재생센터 업무추진비 - 전체   \n",
       "\n",
       "                                          url dept_nm_lvl_1 dept_nm_lvl_2  \\\n",
       "0  http://opengov.seoul.go.kr/public/22249566           사업소         물재생센터   \n",
       "\n",
       "  dept_nm_lvl_3 dept_nm_lvl_4 dept_nm_lvl_5  exec_yr  exec_month  ...  \\\n",
       "0       중랑물재생센터                                 2021           1  ...   \n",
       "\n",
       "   expense_execution  category dept_nm_full           exec_dt exec_loc  \\\n",
       "0                NaN            중랑물재생센터 관리과  2021-01-25 00:00            \n",
       "\n",
       "  exec_purpose target_nm payment_method exec_amount  bimok  \n",
       "0    소속직원 경조사비  김광옥, 김용성             현금      100000   None  \n",
       "\n",
       "[1 rows x 21 columns]"
      ]
     },
     "execution_count": 63,
     "metadata": {},
     "output_type": "execute_result"
    }
   ],
   "source": [
    "df2.head(1)"
   ]
  },
  {
   "cell_type": "code",
   "execution_count": 66,
   "metadata": {},
   "outputs": [
    {
     "name": "stdout",
     "output_type": "stream",
     "text": [
      "Collecting openpyxl"
     ]
    },
    {
     "name": "stderr",
     "output_type": "stream",
     "text": [
      "\n",
      "[notice] A new release of pip is available: 23.2.1 -> 24.0\n",
      "[notice] To update, run: python.exe -m pip install --upgrade pip\n"
     ]
    },
    {
     "name": "stdout",
     "output_type": "stream",
     "text": [
      "\n",
      "  Downloading openpyxl-3.1.2-py2.py3-none-any.whl (249 kB)\n",
      "     ---------------------------------------- 0.0/250.0 kB ? eta -:--:--\n",
      "     ------------------------------------- 250.0/250.0 kB 15.0 MB/s eta 0:00:00\n",
      "Collecting et-xmlfile (from openpyxl)\n",
      "  Downloading et_xmlfile-1.1.0-py3-none-any.whl (4.7 kB)\n",
      "Installing collected packages: et-xmlfile, openpyxl\n",
      "Successfully installed et-xmlfile-1.1.0 openpyxl-3.1.2\n"
     ]
    }
   ],
   "source": [
    "!pip install openpyxl"
   ]
  },
  {
   "cell_type": "code",
   "execution_count": 68,
   "metadata": {},
   "outputs": [],
   "source": [
    "jf3 = pd.read_excel('../../../csv/2021/202101_expense_list.xlsx')"
   ]
  },
  {
   "cell_type": "code",
   "execution_count": 70,
   "metadata": {},
   "outputs": [
    {
     "data": {
      "text/html": [
       "<div>\n",
       "<style scoped>\n",
       "    .dataframe tbody tr th:only-of-type {\n",
       "        vertical-align: middle;\n",
       "    }\n",
       "\n",
       "    .dataframe tbody tr th {\n",
       "        vertical-align: top;\n",
       "    }\n",
       "\n",
       "    .dataframe thead th {\n",
       "        text-align: right;\n",
       "    }\n",
       "</style>\n",
       "<table border=\"1\" class=\"dataframe\">\n",
       "  <thead>\n",
       "    <tr style=\"text-align: right;\">\n",
       "      <th></th>\n",
       "      <th>자치구코드(atdrc_code_se)</th>\n",
       "      <th>자치구명(atdrc_nm)</th>\n",
       "      <th>년월(년월)</th>\n",
       "      <th>총인구수(tot_popltn_co)</th>\n",
       "      <th>세대수(tot_hshld_co)</th>\n",
       "      <th>세대당인구(hshld_popltn_avrg_co)</th>\n",
       "      <th>남자인구수(male_popltn_co)</th>\n",
       "      <th>여자인구수(female_popltn_co)</th>\n",
       "      <th>적재일시(ldadng_dt)</th>\n",
       "    </tr>\n",
       "  </thead>\n",
       "  <tbody>\n",
       "    <tr>\n",
       "      <th>0</th>\n",
       "      <td>금천구</td>\n",
       "      <td>11110</td>\n",
       "      <td>201907</td>\n",
       "      <td>228755</td>\n",
       "      <td>171426</td>\n",
       "      <td>2.44</td>\n",
       "      <td>319062</td>\n",
       "      <td>118352</td>\n",
       "      <td>2018-01-05 16:52:25</td>\n",
       "    </tr>\n",
       "    <tr>\n",
       "      <th>1</th>\n",
       "      <td>서대문구</td>\n",
       "      <td>11290</td>\n",
       "      <td>201607</td>\n",
       "      <td>153780</td>\n",
       "      <td>186744</td>\n",
       "      <td>2.12</td>\n",
       "      <td>75614</td>\n",
       "      <td>116393</td>\n",
       "      <td>2018-12-05 10:20:57</td>\n",
       "    </tr>\n",
       "    <tr>\n",
       "      <th>2</th>\n",
       "      <td>양천구</td>\n",
       "      <td>11740</td>\n",
       "      <td>201804</td>\n",
       "      <td>594315</td>\n",
       "      <td>61091</td>\n",
       "      <td>2.22</td>\n",
       "      <td>192817</td>\n",
       "      <td>307237</td>\n",
       "      <td>2020-11-03 10:50:11</td>\n",
       "    </tr>\n",
       "    <tr>\n",
       "      <th>3</th>\n",
       "      <td>은평구</td>\n",
       "      <td>11200</td>\n",
       "      <td>202004</td>\n",
       "      <td>345156</td>\n",
       "      <td>168865</td>\n",
       "      <td>2.13</td>\n",
       "      <td>229690</td>\n",
       "      <td>204108</td>\n",
       "      <td>2018-01-05 16:52:25</td>\n",
       "    </tr>\n",
       "    <tr>\n",
       "      <th>4</th>\n",
       "      <td>마포구</td>\n",
       "      <td>11260</td>\n",
       "      <td>201902</td>\n",
       "      <td>394788</td>\n",
       "      <td>168482</td>\n",
       "      <td>2.52</td>\n",
       "      <td>61714</td>\n",
       "      <td>146951</td>\n",
       "      <td>2018-01-05 16:52:25</td>\n",
       "    </tr>\n",
       "    <tr>\n",
       "      <th>5</th>\n",
       "      <td>도봉구</td>\n",
       "      <td>11350</td>\n",
       "      <td>201704</td>\n",
       "      <td>150732</td>\n",
       "      <td>61069</td>\n",
       "      <td>2.39</td>\n",
       "      <td>60735</td>\n",
       "      <td>199831</td>\n",
       "      <td>2018-01-05 16:52:25</td>\n",
       "    </tr>\n",
       "    <tr>\n",
       "      <th>6</th>\n",
       "      <td>강북구</td>\n",
       "      <td>11410</td>\n",
       "      <td>202008</td>\n",
       "      <td>404501</td>\n",
       "      <td>174263</td>\n",
       "      <td>2.25</td>\n",
       "      <td>184053</td>\n",
       "      <td>172995</td>\n",
       "      <td>2018-01-05 16:52:25</td>\n",
       "    </tr>\n",
       "    <tr>\n",
       "      <th>7</th>\n",
       "      <td>용산구</td>\n",
       "      <td>11620</td>\n",
       "      <td>201407</td>\n",
       "      <td>433658</td>\n",
       "      <td>173943</td>\n",
       "      <td>1.85</td>\n",
       "      <td>252383</td>\n",
       "      <td>198754</td>\n",
       "      <td>2018-01-05 16:52:25</td>\n",
       "    </tr>\n",
       "    <tr>\n",
       "      <th>8</th>\n",
       "      <td>관악구</td>\n",
       "      <td>11140</td>\n",
       "      <td>201710</td>\n",
       "      <td>308087</td>\n",
       "      <td>180747</td>\n",
       "      <td>2.01</td>\n",
       "      <td>192923</td>\n",
       "      <td>245902</td>\n",
       "      <td>2021-01-21 15:43:29</td>\n",
       "    </tr>\n",
       "    <tr>\n",
       "      <th>9</th>\n",
       "      <td>동대문구</td>\n",
       "      <td>11470</td>\n",
       "      <td>201806</td>\n",
       "      <td>447667</td>\n",
       "      <td>162606</td>\n",
       "      <td>2.49</td>\n",
       "      <td>215440</td>\n",
       "      <td>64221</td>\n",
       "      <td>2020-07-22 20:11:55</td>\n",
       "    </tr>\n",
       "    <tr>\n",
       "      <th>10</th>\n",
       "      <td>양천구</td>\n",
       "      <td>11200</td>\n",
       "      <td>201504</td>\n",
       "      <td>559697</td>\n",
       "      <td>109708</td>\n",
       "      <td>2.36</td>\n",
       "      <td>237588</td>\n",
       "      <td>75262</td>\n",
       "      <td>2019-04-22 14:53:02</td>\n",
       "    </tr>\n",
       "    <tr>\n",
       "      <th>11</th>\n",
       "      <td>광진구</td>\n",
       "      <td>11260</td>\n",
       "      <td>201704</td>\n",
       "      <td>379339</td>\n",
       "      <td>126579</td>\n",
       "      <td>2.34</td>\n",
       "      <td>110605</td>\n",
       "      <td>174332</td>\n",
       "      <td>2018-01-05 16:52:25</td>\n",
       "    </tr>\n",
       "    <tr>\n",
       "      <th>12</th>\n",
       "      <td>관악구</td>\n",
       "      <td>11440</td>\n",
       "      <td>201906</td>\n",
       "      <td>431423</td>\n",
       "      <td>177247</td>\n",
       "      <td>2.65</td>\n",
       "      <td>233214</td>\n",
       "      <td>192414</td>\n",
       "      <td>2018-01-05 16:52:25</td>\n",
       "    </tr>\n",
       "    <tr>\n",
       "      <th>13</th>\n",
       "      <td>서초구</td>\n",
       "      <td>11500</td>\n",
       "      <td>201712</td>\n",
       "      <td>234627</td>\n",
       "      <td>144805</td>\n",
       "      <td>2.46</td>\n",
       "      <td>172446</td>\n",
       "      <td>332802</td>\n",
       "      <td>2019-09-05 14:06:33</td>\n",
       "    </tr>\n",
       "    <tr>\n",
       "      <th>14</th>\n",
       "      <td>강남구</td>\n",
       "      <td>11380</td>\n",
       "      <td>201712</td>\n",
       "      <td>451253</td>\n",
       "      <td>63851</td>\n",
       "      <td>2.62</td>\n",
       "      <td>320480</td>\n",
       "      <td>177158</td>\n",
       "      <td>2021-06-21 11:02:17</td>\n",
       "    </tr>\n",
       "    <tr>\n",
       "      <th>15</th>\n",
       "      <td>강남구</td>\n",
       "      <td>11305</td>\n",
       "      <td>201904</td>\n",
       "      <td>542576</td>\n",
       "      <td>173142</td>\n",
       "      <td>2.54</td>\n",
       "      <td>60139</td>\n",
       "      <td>243251</td>\n",
       "      <td>2020-11-03 10:50:11</td>\n",
       "    </tr>\n",
       "    <tr>\n",
       "      <th>16</th>\n",
       "      <td>종로구</td>\n",
       "      <td>11470</td>\n",
       "      <td>201505</td>\n",
       "      <td>442119</td>\n",
       "      <td>248840</td>\n",
       "      <td>2.19</td>\n",
       "      <td>157312</td>\n",
       "      <td>61327</td>\n",
       "      <td>2019-04-22 14:53:02</td>\n",
       "    </tr>\n",
       "    <tr>\n",
       "      <th>17</th>\n",
       "      <td>광진구</td>\n",
       "      <td>11350</td>\n",
       "      <td>202001</td>\n",
       "      <td>226161</td>\n",
       "      <td>159500</td>\n",
       "      <td>2.08</td>\n",
       "      <td>232838</td>\n",
       "      <td>158869</td>\n",
       "      <td>2019-03-11 09:30:24</td>\n",
       "    </tr>\n",
       "    <tr>\n",
       "      <th>18</th>\n",
       "      <td>구로구</td>\n",
       "      <td>11410</td>\n",
       "      <td>201504</td>\n",
       "      <td>126270</td>\n",
       "      <td>172505</td>\n",
       "      <td>2.26</td>\n",
       "      <td>74025</td>\n",
       "      <td>284150</td>\n",
       "      <td>2019-08-05 09:45:14</td>\n",
       "    </tr>\n",
       "    <tr>\n",
       "      <th>19</th>\n",
       "      <td>노원구</td>\n",
       "      <td>11170</td>\n",
       "      <td>201412</td>\n",
       "      <td>233017</td>\n",
       "      <td>243049</td>\n",
       "      <td>2.40</td>\n",
       "      <td>117497</td>\n",
       "      <td>298131</td>\n",
       "      <td>2020-11-03 10:50:11</td>\n",
       "    </tr>\n",
       "    <tr>\n",
       "      <th>20</th>\n",
       "      <td>중랑구</td>\n",
       "      <td>11470</td>\n",
       "      <td>201807</td>\n",
       "      <td>421579</td>\n",
       "      <td>133458</td>\n",
       "      <td>1.99</td>\n",
       "      <td>206423</td>\n",
       "      <td>182741</td>\n",
       "      <td>2018-01-05 16:52:25</td>\n",
       "    </tr>\n",
       "    <tr>\n",
       "      <th>21</th>\n",
       "      <td>도봉구</td>\n",
       "      <td>11380</td>\n",
       "      <td>201408</td>\n",
       "      <td>483473</td>\n",
       "      <td>167301</td>\n",
       "      <td>2.03</td>\n",
       "      <td>225186</td>\n",
       "      <td>204424</td>\n",
       "      <td>2020-07-22 20:11:55</td>\n",
       "    </tr>\n",
       "    <tr>\n",
       "      <th>22</th>\n",
       "      <td>성동구</td>\n",
       "      <td>11545</td>\n",
       "      <td>201805</td>\n",
       "      <td>300410</td>\n",
       "      <td>269220</td>\n",
       "      <td>2.64</td>\n",
       "      <td>74662</td>\n",
       "      <td>197070</td>\n",
       "      <td>2018-12-05 10:20:57</td>\n",
       "    </tr>\n",
       "    <tr>\n",
       "      <th>23</th>\n",
       "      <td>구로구</td>\n",
       "      <td>11320</td>\n",
       "      <td>201505</td>\n",
       "      <td>305785</td>\n",
       "      <td>136393</td>\n",
       "      <td>2.62</td>\n",
       "      <td>187960</td>\n",
       "      <td>177515</td>\n",
       "      <td>2019-03-11 09:30:24</td>\n",
       "    </tr>\n",
       "    <tr>\n",
       "      <th>24</th>\n",
       "      <td>서초구</td>\n",
       "      <td>11440</td>\n",
       "      <td>201704</td>\n",
       "      <td>405271</td>\n",
       "      <td>135147</td>\n",
       "      <td>2.11</td>\n",
       "      <td>150937</td>\n",
       "      <td>148298</td>\n",
       "      <td>2018-11-05 09:53:36</td>\n",
       "    </tr>\n",
       "    <tr>\n",
       "      <th>25</th>\n",
       "      <td>강서구</td>\n",
       "      <td>11410</td>\n",
       "      <td>201712</td>\n",
       "      <td>378199</td>\n",
       "      <td>185610</td>\n",
       "      <td>2.46</td>\n",
       "      <td>157743</td>\n",
       "      <td>78354</td>\n",
       "      <td>2018-01-05 16:52:25</td>\n",
       "    </tr>\n",
       "    <tr>\n",
       "      <th>26</th>\n",
       "      <td>금천구</td>\n",
       "      <td>11440</td>\n",
       "      <td>202007</td>\n",
       "      <td>218929</td>\n",
       "      <td>259692</td>\n",
       "      <td>2.34</td>\n",
       "      <td>255912</td>\n",
       "      <td>285095</td>\n",
       "      <td>2018-01-05 16:52:25</td>\n",
       "    </tr>\n",
       "    <tr>\n",
       "      <th>27</th>\n",
       "      <td>노원구</td>\n",
       "      <td>11710</td>\n",
       "      <td>201409</td>\n",
       "      <td>373252</td>\n",
       "      <td>138984</td>\n",
       "      <td>2.23</td>\n",
       "      <td>258407</td>\n",
       "      <td>204359</td>\n",
       "      <td>2018-01-05 16:52:25</td>\n",
       "    </tr>\n",
       "    <tr>\n",
       "      <th>28</th>\n",
       "      <td>은평구</td>\n",
       "      <td>11170</td>\n",
       "      <td>201404</td>\n",
       "      <td>149524</td>\n",
       "      <td>229712</td>\n",
       "      <td>2.57</td>\n",
       "      <td>167155</td>\n",
       "      <td>162829</td>\n",
       "      <td>2018-01-05 16:52:25</td>\n",
       "    </tr>\n",
       "    <tr>\n",
       "      <th>29</th>\n",
       "      <td>노원구</td>\n",
       "      <td>11680</td>\n",
       "      <td>201708</td>\n",
       "      <td>478019</td>\n",
       "      <td>100534</td>\n",
       "      <td>2.18</td>\n",
       "      <td>278171</td>\n",
       "      <td>61187</td>\n",
       "      <td>2018-01-05 16:52:25</td>\n",
       "    </tr>\n",
       "  </tbody>\n",
       "</table>\n",
       "</div>"
      ],
      "text/plain": [
       "   자치구코드(atdrc_code_se)  자치구명(atdrc_nm)  년월(년월)  총인구수(tot_popltn_co)  \\\n",
       "0                   금천구           11110  201907               228755   \n",
       "1                  서대문구           11290  201607               153780   \n",
       "2                   양천구           11740  201804               594315   \n",
       "3                   은평구           11200  202004               345156   \n",
       "4                   마포구           11260  201902               394788   \n",
       "5                   도봉구           11350  201704               150732   \n",
       "6                   강북구           11410  202008               404501   \n",
       "7                   용산구           11620  201407               433658   \n",
       "8                   관악구           11140  201710               308087   \n",
       "9                  동대문구           11470  201806               447667   \n",
       "10                  양천구           11200  201504               559697   \n",
       "11                  광진구           11260  201704               379339   \n",
       "12                  관악구           11440  201906               431423   \n",
       "13                  서초구           11500  201712               234627   \n",
       "14                  강남구           11380  201712               451253   \n",
       "15                  강남구           11305  201904               542576   \n",
       "16                  종로구           11470  201505               442119   \n",
       "17                  광진구           11350  202001               226161   \n",
       "18                  구로구           11410  201504               126270   \n",
       "19                  노원구           11170  201412               233017   \n",
       "20                  중랑구           11470  201807               421579   \n",
       "21                  도봉구           11380  201408               483473   \n",
       "22                  성동구           11545  201805               300410   \n",
       "23                  구로구           11320  201505               305785   \n",
       "24                  서초구           11440  201704               405271   \n",
       "25                  강서구           11410  201712               378199   \n",
       "26                  금천구           11440  202007               218929   \n",
       "27                  노원구           11710  201409               373252   \n",
       "28                  은평구           11170  201404               149524   \n",
       "29                  노원구           11680  201708               478019   \n",
       "\n",
       "    세대수(tot_hshld_co)  세대당인구(hshld_popltn_avrg_co)  남자인구수(male_popltn_co)  \\\n",
       "0              171426                         2.44                 319062   \n",
       "1              186744                         2.12                  75614   \n",
       "2               61091                         2.22                 192817   \n",
       "3              168865                         2.13                 229690   \n",
       "4              168482                         2.52                  61714   \n",
       "5               61069                         2.39                  60735   \n",
       "6              174263                         2.25                 184053   \n",
       "7              173943                         1.85                 252383   \n",
       "8              180747                         2.01                 192923   \n",
       "9              162606                         2.49                 215440   \n",
       "10             109708                         2.36                 237588   \n",
       "11             126579                         2.34                 110605   \n",
       "12             177247                         2.65                 233214   \n",
       "13             144805                         2.46                 172446   \n",
       "14              63851                         2.62                 320480   \n",
       "15             173142                         2.54                  60139   \n",
       "16             248840                         2.19                 157312   \n",
       "17             159500                         2.08                 232838   \n",
       "18             172505                         2.26                  74025   \n",
       "19             243049                         2.40                 117497   \n",
       "20             133458                         1.99                 206423   \n",
       "21             167301                         2.03                 225186   \n",
       "22             269220                         2.64                  74662   \n",
       "23             136393                         2.62                 187960   \n",
       "24             135147                         2.11                 150937   \n",
       "25             185610                         2.46                 157743   \n",
       "26             259692                         2.34                 255912   \n",
       "27             138984                         2.23                 258407   \n",
       "28             229712                         2.57                 167155   \n",
       "29             100534                         2.18                 278171   \n",
       "\n",
       "    여자인구수(female_popltn_co)      적재일시(ldadng_dt)  \n",
       "0                    118352  2018-01-05 16:52:25  \n",
       "1                    116393  2018-12-05 10:20:57  \n",
       "2                    307237  2020-11-03 10:50:11  \n",
       "3                    204108  2018-01-05 16:52:25  \n",
       "4                    146951  2018-01-05 16:52:25  \n",
       "5                    199831  2018-01-05 16:52:25  \n",
       "6                    172995  2018-01-05 16:52:25  \n",
       "7                    198754  2018-01-05 16:52:25  \n",
       "8                    245902  2021-01-21 15:43:29  \n",
       "9                     64221  2020-07-22 20:11:55  \n",
       "10                    75262  2019-04-22 14:53:02  \n",
       "11                   174332  2018-01-05 16:52:25  \n",
       "12                   192414  2018-01-05 16:52:25  \n",
       "13                   332802  2019-09-05 14:06:33  \n",
       "14                   177158  2021-06-21 11:02:17  \n",
       "15                   243251  2020-11-03 10:50:11  \n",
       "16                    61327  2019-04-22 14:53:02  \n",
       "17                   158869  2019-03-11 09:30:24  \n",
       "18                   284150  2019-08-05 09:45:14  \n",
       "19                   298131  2020-11-03 10:50:11  \n",
       "20                   182741  2018-01-05 16:52:25  \n",
       "21                   204424  2020-07-22 20:11:55  \n",
       "22                   197070  2018-12-05 10:20:57  \n",
       "23                   177515  2019-03-11 09:30:24  \n",
       "24                   148298  2018-11-05 09:53:36  \n",
       "25                    78354  2018-01-05 16:52:25  \n",
       "26                   285095  2018-01-05 16:52:25  \n",
       "27                   204359  2018-01-05 16:52:25  \n",
       "28                   162829  2018-01-05 16:52:25  \n",
       "29                    61187  2018-01-05 16:52:25  "
      ]
     },
     "execution_count": 70,
     "metadata": {},
     "output_type": "execute_result"
    }
   ],
   "source": [
    "pd.read_csv('../../../csv/주민등록.csv', encoding = 'CP949')"
   ]
  },
  {
   "cell_type": "code",
   "execution_count": null,
   "metadata": {},
   "outputs": [],
   "source": []
  }
 ],
 "metadata": {
  "kernelspec": {
   "display_name": "Python 3",
   "language": "python",
   "name": "python3"
  },
  "language_info": {
   "codemirror_mode": {
    "name": "ipython",
    "version": 3
   },
   "file_extension": ".py",
   "mimetype": "text/x-python",
   "name": "python",
   "nbconvert_exporter": "python",
   "pygments_lexer": "ipython3",
   "version": "3.12.1"
  }
 },
 "nbformat": 4,
 "nbformat_minor": 2
}
