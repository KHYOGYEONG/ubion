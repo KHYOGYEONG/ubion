{
 "cells": [
  {
   "cell_type": "code",
   "execution_count": 2,
   "metadata": {},
   "outputs": [
    {
     "name": "stderr",
     "output_type": "stream",
     "text": [
      "C:\\Users\\User\\AppData\\Local\\Temp\\ipykernel_10124\\1277090978.py:5: DeprecationWarning: \n",
      "Pyarrow will become a required dependency of pandas in the next major release of pandas (pandas 3.0),\n",
      "(to allow more performant data types, such as the Arrow string type, and better interoperability with other libraries)\n",
      "but was not found to be installed on your system.\n",
      "If this would cause problems for you,\n",
      "please provide us feedback at https://github.com/pandas-dev/pandas/issues/54466\n",
      "        \n",
      "  import pandas as pd\n"
     ]
    }
   ],
   "source": [
    "from selenium import webdriver\n",
    "from selenium.webdriver.common.by import By\n",
    "from selenium.webdriver.common.keys import Keys\n",
    "from bs4 import BeautifulSoup as bs\n",
    "import pandas as pd\n",
    "import requests\n",
    "\n"
   ]
  },
  {
   "cell_type": "code",
   "execution_count": 3,
   "metadata": {},
   "outputs": [],
   "source": [
    "driver = webdriver.Chrome()"
   ]
  },
  {
   "cell_type": "code",
   "execution_count": 4,
   "metadata": {},
   "outputs": [],
   "source": [
    "# 네이버로 이동\n",
    "driver.get('https://www.naver.com')"
   ]
  },
  {
   "cell_type": "code",
   "execution_count": 5,
   "metadata": {},
   "outputs": [],
   "source": [
    "# 검색어창을 선택\n",
    "element = driver.find_element(By.ID, 'query')"
   ]
  },
  {
   "cell_type": "code",
   "execution_count": 6,
   "metadata": {},
   "outputs": [],
   "source": [
    "# 검색어에 '야후파이낸스' 입력\n",
    "element.send_keys('야후파이낸스')"
   ]
  },
  {
   "cell_type": "code",
   "execution_count": 7,
   "metadata": {},
   "outputs": [],
   "source": [
    "# 엔터키를 입력한다.\n",
    "element.send_keys(Keys.ENTER)"
   ]
  },
  {
   "cell_type": "markdown",
   "metadata": {},
   "source": [
    "지금까지 네이버에 야후파이낸스를 친거임~~"
   ]
  },
  {
   "cell_type": "code",
   "execution_count": 8,
   "metadata": {},
   "outputs": [],
   "source": [
    "# element가 class가 link_name인 태그를 선택\n",
    "element2 = driver.find_element(By.CLASS_NAME, 'link_name')"
   ]
  },
  {
   "cell_type": "code",
   "execution_count": 9,
   "metadata": {},
   "outputs": [],
   "source": [
    "# 태그를 클릭한다.\n",
    "element2.click()"
   ]
  },
  {
   "cell_type": "code",
   "execution_count": 10,
   "metadata": {},
   "outputs": [
    {
     "data": {
      "text/plain": [
       "['4D275DDDEE3A94E89F4B2F4B1ED29594', '7DC32DD628D7799A35D422DF2638814C']"
      ]
     },
     "execution_count": 10,
     "metadata": {},
     "output_type": "execute_result"
    }
   ],
   "source": [
    "# 탭을 이동한다.\n",
    "driver.window_handles"
   ]
  },
  {
   "cell_type": "code",
   "execution_count": 11,
   "metadata": {},
   "outputs": [],
   "source": [
    "# 이동했다.\n",
    "driver.switch_to.window(driver.window_handles[1])"
   ]
  },
  {
   "cell_type": "code",
   "execution_count": 12,
   "metadata": {},
   "outputs": [],
   "source": [
    "# 페이지에서 누르고 싶은거 ~\n",
    "element3 = driver.find_element(By.XPATH, '//*[@id=\"Nav-0-DesktopNav-0-DesktopNav\"]/div/div[3]/div/nav/ul/li[3]/a')"
   ]
  },
  {
   "cell_type": "code",
   "execution_count": 13,
   "metadata": {},
   "outputs": [],
   "source": [
    "element3.click()"
   ]
  },
  {
   "cell_type": "code",
   "execution_count": 15,
   "metadata": {},
   "outputs": [],
   "source": [
    "element4 = driver.find_element(By.XPATH, '//*[@id=\"SecondaryNav-0-SecondaryNav-Proxy\"]/div/ul/li[3]/a')"
   ]
  },
  {
   "cell_type": "code",
   "execution_count": 16,
   "metadata": {},
   "outputs": [],
   "source": [
    "element4.click()"
   ]
  },
  {
   "cell_type": "markdown",
   "metadata": {},
   "source": [
    "원하는 페이지까지 이동 완료~"
   ]
  },
  {
   "cell_type": "code",
   "execution_count": 17,
   "metadata": {},
   "outputs": [],
   "source": [
    "# 뷰티풀숲 이용해서 테이블 가져오기 시작!!\n",
    "soup = bs(driver.page_source, 'html.parser')"
   ]
  },
  {
   "cell_type": "code",
   "execution_count": 18,
   "metadata": {},
   "outputs": [
    {
     "data": {
      "text/plain": [
       "1"
      ]
     },
     "execution_count": 18,
     "metadata": {},
     "output_type": "execute_result"
    }
   ],
   "source": [
    "# 해당 페이지에서 table 태그가 몇 개 존재하는가?\n",
    "len( soup.find_all('table'))"
   ]
  },
  {
   "cell_type": "code",
   "execution_count": 19,
   "metadata": {},
   "outputs": [],
   "source": [
    "table_data = soup.find('table')"
   ]
  },
  {
   "cell_type": "code",
   "execution_count": 20,
   "metadata": {},
   "outputs": [],
   "source": [
    "# <thead>는 컬럼데이터 =th\n",
    "# <tbody>는 벨류값 = td"
   ]
  },
  {
   "cell_type": "code",
   "execution_count": 21,
   "metadata": {},
   "outputs": [],
   "source": [
    "## 컬럼에 들어갈 데이터를 추출\n",
    "## table 태그에서 thead 태그의 정보들을 추출\n",
    "## th마다 컬럼의 이름들이 하나씩 존재\n",
    "thead_data = table_data.find('thead')"
   ]
  },
  {
   "cell_type": "code",
   "execution_count": 22,
   "metadata": {},
   "outputs": [],
   "source": [
    "th_list = thead_data.find_all('th')"
   ]
  },
  {
   "cell_type": "code",
   "execution_count": 23,
   "metadata": {},
   "outputs": [
    {
     "data": {
      "text/plain": [
       "['Symbol',\n",
       " 'Name',\n",
       " 'Last Price',\n",
       " 'Market Time',\n",
       " 'Change',\n",
       " '% Change',\n",
       " 'Volume',\n",
       " 'Market Cap',\n",
       " 'Intraday High/Low',\n",
       " '52 Week Range',\n",
       " 'Day Chart']"
      ]
     },
     "execution_count": 23,
     "metadata": {},
     "output_type": "execute_result"
    }
   ],
   "source": [
    "_cols = []\n",
    "\n",
    "for col in th_list:\n",
    "    # print(col)\n",
    "    # print(type(col)) #태그니까 get_text사용 가능\n",
    "    # print(col.get_text())\n",
    "    _cols.append(col.get_text())\n",
    "_cols"
   ]
  },
  {
   "cell_type": "code",
   "execution_count": 24,
   "metadata": {},
   "outputs": [],
   "source": [
    "## tbody의 데이터를 추출\n",
    "tbody_data = table_data.find('tbody')"
   ]
  },
  {
   "cell_type": "code",
   "execution_count": 25,
   "metadata": {},
   "outputs": [],
   "source": [
    "tr_list = tbody_data.find_all('tr')"
   ]
  },
  {
   "cell_type": "code",
   "execution_count": 27,
   "metadata": {},
   "outputs": [],
   "source": [
    "td_list = tr_list[0].find_all('td')"
   ]
  },
  {
   "cell_type": "code",
   "execution_count": 32,
   "metadata": {},
   "outputs": [
    {
     "data": {
      "text/plain": [
       "['SQ',\n",
       " 'Block, Inc.',\n",
       " '67.96',\n",
       " '4:00PM EST',\n",
       " '+3.49',\n",
       " '+5.41%',\n",
       " '18.789M',\n",
       " '41.734B',\n",
       " '',\n",
       " '',\n",
       " '']"
      ]
     },
     "execution_count": 32,
     "metadata": {},
     "output_type": "execute_result"
    }
   ],
   "source": [
    "td_data = []\n",
    "for td in td_list:\n",
    "    #print(td)\n",
    "    #print(td.get_text())\n",
    "    td_data.append(td.get_text()) # 안나온건 이미지임.\n",
    "td_data"
   ]
  },
  {
   "cell_type": "code",
   "execution_count": 37,
   "metadata": {},
   "outputs": [
    {
     "data": {
      "text/plain": [
       "[['SQ',\n",
       "  'Block, Inc.',\n",
       "  '67.96',\n",
       "  '4:00PM EST',\n",
       "  '+3.49',\n",
       "  '+5.41%',\n",
       "  '18.789M',\n",
       "  '41.734B',\n",
       "  '',\n",
       "  '',\n",
       "  ''],\n",
       " ['LUNR',\n",
       "  'Intuitive Machines, Inc.',\n",
       "  '8.28',\n",
       "  '4:00PM EST',\n",
       "  '-1.04',\n",
       "  '-11.16%',\n",
       "  '26.363M',\n",
       "  '241.966M',\n",
       "  '',\n",
       "  '',\n",
       "  ''],\n",
       " ['CVNA',\n",
       "  'Carvana Co.',\n",
       "  '52.41',\n",
       "  '4:00PM EST',\n",
       "  '+3.01',\n",
       "  '+6.09%',\n",
       "  '11.689M',\n",
       "  '9.308B',\n",
       "  '',\n",
       "  '',\n",
       "  ''],\n",
       " ['MELI',\n",
       "  'MercadoLibre, Inc.',\n",
       "  '1,817.98',\n",
       "  '4:00PM EST',\n",
       "  '+80.21',\n",
       "  '+4.62%',\n",
       "  '641,027',\n",
       "  '91.916B',\n",
       "  '',\n",
       "  '',\n",
       "  ''],\n",
       " ['BKNG',\n",
       "  'Booking Holdings Inc.',\n",
       "  '3,901.99',\n",
       "  '4:00PM EST',\n",
       "  '+160.86',\n",
       "  '+4.30%',\n",
       "  '436,129',\n",
       "  '136.14B',\n",
       "  '',\n",
       "  '',\n",
       "  ''],\n",
       " ['WMT',\n",
       "  'Walmart Inc.',\n",
       "  '175.41',\n",
       "  '4:00PM EST',\n",
       "  '+1.71',\n",
       "  '+0.98%',\n",
       "  '8.868M',\n",
       "  '472.244B',\n",
       "  '',\n",
       "  '',\n",
       "  ''],\n",
       " ['MRNA',\n",
       "  'Moderna, Inc.',\n",
       "  '99.44',\n",
       "  '4:00PM EST',\n",
       "  '+11.85',\n",
       "  '+13.53%',\n",
       "  '11.334M',\n",
       "  '37.915B',\n",
       "  '',\n",
       "  '',\n",
       "  ''],\n",
       " ['T',\n",
       "  'AT&T Inc.',\n",
       "  '16.59',\n",
       "  '4:02PM EST',\n",
       "  '-0.41',\n",
       "  '-2.41%',\n",
       "  '59.707M',\n",
       "  '118.619B',\n",
       "  '',\n",
       "  '',\n",
       "  ''],\n",
       " ['NU',\n",
       "  'Nu Holdings Ltd.',\n",
       "  '10.36',\n",
       "  '4:00PM EST',\n",
       "  '+0.27',\n",
       "  '+2.68%',\n",
       "  '41.439M',\n",
       "  '49.261B',\n",
       "  '',\n",
       "  '',\n",
       "  ''],\n",
       " ['NVAX',\n",
       "  'Novavax, Inc.',\n",
       "  '4.8800',\n",
       "  '4:00PM EST',\n",
       "  '+0.9000',\n",
       "  '+22.61%',\n",
       "  '41.386M',\n",
       "  '579.695M',\n",
       "  '',\n",
       "  '',\n",
       "  ''],\n",
       " ['INTU',\n",
       "  'Intuit Inc.',\n",
       "  '657.92',\n",
       "  '4:00PM EST',\n",
       "  '+19.65',\n",
       "  '+3.08%',\n",
       "  '1.904M',\n",
       "  '184.175B',\n",
       "  '',\n",
       "  '',\n",
       "  ''],\n",
       " ['NEM',\n",
       "  'Newmont Corporation',\n",
       "  '30.89',\n",
       "  '4:00PM EST',\n",
       "  '-2.54',\n",
       "  '-7.60%',\n",
       "  '30.476M',\n",
       "  '35.6B',\n",
       "  '',\n",
       "  '',\n",
       "  ''],\n",
       " ['AAOI',\n",
       "  'Applied Optoelectronics, Inc.',\n",
       "  '20.35',\n",
       "  '4:00PM EST',\n",
       "  '+1.16',\n",
       "  '+6.04%',\n",
       "  '5.021M',\n",
       "  '770.899M',\n",
       "  '',\n",
       "  '',\n",
       "  ''],\n",
       " ['TBIO',\n",
       "  'Telesis Bio, Inc.',\n",
       "  '0.4581',\n",
       "  '3:59PM EST',\n",
       "  '+0.1034',\n",
       "  '+29.15%',\n",
       "  '10.737M',\n",
       "  '13.719M',\n",
       "  '',\n",
       "  '',\n",
       "  ''],\n",
       " ['ARDX',\n",
       "  'Ardelyx, Inc.',\n",
       "  '8.82',\n",
       "  '4:00PM EST',\n",
       "  '+0.32',\n",
       "  '+3.76%',\n",
       "  '8.626M',\n",
       "  '2.047B',\n",
       "  '',\n",
       "  '',\n",
       "  ''],\n",
       " ['LUNRW',\n",
       "  'Intuitive Machines, Inc.',\n",
       "  '2.1900',\n",
       "  '3:59PM EST',\n",
       "  '-0.2600',\n",
       "  '-10.61%',\n",
       "  '2.64M',\n",
       "  'N/A',\n",
       "  '',\n",
       "  '',\n",
       "  ''],\n",
       " ['MNPR',\n",
       "  'Monopar Therapeutics Inc.',\n",
       "  '1.1200',\n",
       "  '4:00PM EST',\n",
       "  '+0.5500',\n",
       "  '+96.49%',\n",
       "  '151.322M',\n",
       "  '16.65M',\n",
       "  '',\n",
       "  '',\n",
       "  ''],\n",
       " ['JPM',\n",
       "  'JPMorgan Chase & Co.',\n",
       "  '183.07',\n",
       "  '4:00PM EST',\n",
       "  '+2.17',\n",
       "  '+1.20%',\n",
       "  '8.955M',\n",
       "  '527.309B',\n",
       "  '',\n",
       "  '',\n",
       "  ''],\n",
       " ['RKT',\n",
       "  'Rocket Companies, Inc.',\n",
       "  '10.98',\n",
       "  '4:00PM EST',\n",
       "  '-0.02',\n",
       "  '-0.18%',\n",
       "  '3.029M',\n",
       "  '21.821B',\n",
       "  '',\n",
       "  '',\n",
       "  ''],\n",
       " ['LYV',\n",
       "  'Live Nation Entertainment, Inc.',\n",
       "  '93.49',\n",
       "  '4:00PM EST',\n",
       "  '+2.29',\n",
       "  '+2.51%',\n",
       "  '3.173M',\n",
       "  '21.533B',\n",
       "  '',\n",
       "  '',\n",
       "  ''],\n",
       " ['OCEA',\n",
       "  'Ocean Biomedical, Inc.',\n",
       "  '0.5494',\n",
       "  '4:00PM EST',\n",
       "  '-0.0065',\n",
       "  '-1.17%',\n",
       "  '110,944',\n",
       "  '18.728M',\n",
       "  '',\n",
       "  '',\n",
       "  ''],\n",
       " ['GRAB',\n",
       "  'Grab Holdings Limited',\n",
       "  '3.1600',\n",
       "  '4:00PM EST',\n",
       "  '-0.2900',\n",
       "  '-8.41%',\n",
       "  '73.181M',\n",
       "  '12.362B',\n",
       "  '',\n",
       "  '',\n",
       "  ''],\n",
       " ['WING',\n",
       "  'Wingstop Inc.',\n",
       "  '334.05',\n",
       "  '4:00PM EST',\n",
       "  '+23.73',\n",
       "  '+7.65%',\n",
       "  '1.058M',\n",
       "  '9.8B',\n",
       "  '',\n",
       "  '',\n",
       "  ''],\n",
       " ['G13.SI',\n",
       "  'Genting Singapore Limited',\n",
       "  '0.9350',\n",
       "  '11:59AM SGT',\n",
       "  '-0.0950',\n",
       "  '-9.22%',\n",
       "  '107.581M',\n",
       "  '11.287B',\n",
       "  '',\n",
       "  '',\n",
       "  ''],\n",
       " ['FLNC',\n",
       "  'Fluence Energy, Inc.',\n",
       "  '14.73',\n",
       "  '4:00PM EST',\n",
       "  '-2.28',\n",
       "  '-13.43%',\n",
       "  '18.381M',\n",
       "  '2.63B',\n",
       "  '',\n",
       "  '',\n",
       "  ''],\n",
       " ['SFM',\n",
       "  'Sprouts Farmers Market, Inc.',\n",
       "  '53.76',\n",
       "  '4:00PM EST',\n",
       "  '+1.13',\n",
       "  '+2.15%',\n",
       "  '1.868M',\n",
       "  '5.46B',\n",
       "  '',\n",
       "  '',\n",
       "  ''],\n",
       " ['WIX',\n",
       "  'Wix.com Ltd.',\n",
       "  '135.84',\n",
       "  '4:00PM EST',\n",
       "  '+3.07',\n",
       "  '+2.31%',\n",
       "  '840,050',\n",
       "  '7.765B',\n",
       "  '',\n",
       "  '',\n",
       "  ''],\n",
       " ['OLED',\n",
       "  'Universal Display Corporation',\n",
       "  '187.14',\n",
       "  '4:00PM EST',\n",
       "  '+3.39',\n",
       "  '+1.84%',\n",
       "  '475,395',\n",
       "  '8.863B',\n",
       "  '',\n",
       "  '',\n",
       "  ''],\n",
       " ['^DJI',\n",
       "  'Dow Jones Industrial Average',\n",
       "  '39,069.11',\n",
       "  '5:06PM EST',\n",
       "  '+456.87',\n",
       "  '+1.18%',\n",
       "  '330.537M',\n",
       "  'N/A',\n",
       "  '',\n",
       "  '',\n",
       "  ''],\n",
       " ['LRHC',\n",
       "  'La Rosa Holdings Corp.',\n",
       "  '2.7400',\n",
       "  '4:00PM EST',\n",
       "  '+1.3400',\n",
       "  '+95.71%',\n",
       "  '30.98M',\n",
       "  '36.46M',\n",
       "  '',\n",
       "  '',\n",
       "  '']]"
      ]
     },
     "execution_count": 37,
     "metadata": {},
     "output_type": "execute_result"
    }
   ],
   "source": [
    "# 테이블에 있는 모든 값을 받아야하기 떄문에 2차원 데이터를 받을 수 있게 해줘야함\n",
    "# 컬럼은 1차원이지만 values는 2차원 배열임\n",
    "# td_data는 2차원 데이터 중 1차원 데이터임.\n",
    "# 이걸 또 담아줘야함. \n",
    "\n",
    "_values = []\n",
    "\n",
    "for tr in tr_list:\n",
    "    td_list = tr.find_all('td')\n",
    "    td_data = []\n",
    "    for td in td_list:\n",
    "        td_data.append(td.get_text())\n",
    "    _values.append(td_data)\n",
    "\n",
    "_values"
   ]
  },
  {
   "cell_type": "markdown",
   "metadata": {},
   "source": [
    "이제 컬럼이랑 벨류 다 뽑았으니 데이터프레임 만들거야~"
   ]
  },
  {
   "cell_type": "code",
   "execution_count": 38,
   "metadata": {},
   "outputs": [],
   "source": [
    "df = pd.DataFrame(_values, columns= _cols)"
   ]
  },
  {
   "cell_type": "code",
   "execution_count": 39,
   "metadata": {},
   "outputs": [
    {
     "data": {
      "text/html": [
       "<div>\n",
       "<style scoped>\n",
       "    .dataframe tbody tr th:only-of-type {\n",
       "        vertical-align: middle;\n",
       "    }\n",
       "\n",
       "    .dataframe tbody tr th {\n",
       "        vertical-align: top;\n",
       "    }\n",
       "\n",
       "    .dataframe thead th {\n",
       "        text-align: right;\n",
       "    }\n",
       "</style>\n",
       "<table border=\"1\" class=\"dataframe\">\n",
       "  <thead>\n",
       "    <tr style=\"text-align: right;\">\n",
       "      <th></th>\n",
       "      <th>Symbol</th>\n",
       "      <th>Name</th>\n",
       "      <th>Last Price</th>\n",
       "      <th>Market Time</th>\n",
       "      <th>Change</th>\n",
       "      <th>% Change</th>\n",
       "      <th>Volume</th>\n",
       "      <th>Market Cap</th>\n",
       "      <th>Intraday High/Low</th>\n",
       "      <th>52 Week Range</th>\n",
       "      <th>Day Chart</th>\n",
       "    </tr>\n",
       "  </thead>\n",
       "  <tbody>\n",
       "    <tr>\n",
       "      <th>0</th>\n",
       "      <td>SQ</td>\n",
       "      <td>Block, Inc.</td>\n",
       "      <td>67.96</td>\n",
       "      <td>4:00PM EST</td>\n",
       "      <td>+3.49</td>\n",
       "      <td>+5.41%</td>\n",
       "      <td>18.789M</td>\n",
       "      <td>41.734B</td>\n",
       "      <td></td>\n",
       "      <td></td>\n",
       "      <td></td>\n",
       "    </tr>\n",
       "    <tr>\n",
       "      <th>1</th>\n",
       "      <td>LUNR</td>\n",
       "      <td>Intuitive Machines, Inc.</td>\n",
       "      <td>8.28</td>\n",
       "      <td>4:00PM EST</td>\n",
       "      <td>-1.04</td>\n",
       "      <td>-11.16%</td>\n",
       "      <td>26.363M</td>\n",
       "      <td>241.966M</td>\n",
       "      <td></td>\n",
       "      <td></td>\n",
       "      <td></td>\n",
       "    </tr>\n",
       "    <tr>\n",
       "      <th>2</th>\n",
       "      <td>CVNA</td>\n",
       "      <td>Carvana Co.</td>\n",
       "      <td>52.41</td>\n",
       "      <td>4:00PM EST</td>\n",
       "      <td>+3.01</td>\n",
       "      <td>+6.09%</td>\n",
       "      <td>11.689M</td>\n",
       "      <td>9.308B</td>\n",
       "      <td></td>\n",
       "      <td></td>\n",
       "      <td></td>\n",
       "    </tr>\n",
       "    <tr>\n",
       "      <th>3</th>\n",
       "      <td>MELI</td>\n",
       "      <td>MercadoLibre, Inc.</td>\n",
       "      <td>1,817.98</td>\n",
       "      <td>4:00PM EST</td>\n",
       "      <td>+80.21</td>\n",
       "      <td>+4.62%</td>\n",
       "      <td>641,027</td>\n",
       "      <td>91.916B</td>\n",
       "      <td></td>\n",
       "      <td></td>\n",
       "      <td></td>\n",
       "    </tr>\n",
       "    <tr>\n",
       "      <th>4</th>\n",
       "      <td>BKNG</td>\n",
       "      <td>Booking Holdings Inc.</td>\n",
       "      <td>3,901.99</td>\n",
       "      <td>4:00PM EST</td>\n",
       "      <td>+160.86</td>\n",
       "      <td>+4.30%</td>\n",
       "      <td>436,129</td>\n",
       "      <td>136.14B</td>\n",
       "      <td></td>\n",
       "      <td></td>\n",
       "      <td></td>\n",
       "    </tr>\n",
       "  </tbody>\n",
       "</table>\n",
       "</div>"
      ],
      "text/plain": [
       "  Symbol                      Name Last Price Market Time   Change % Change  \\\n",
       "0     SQ               Block, Inc.      67.96  4:00PM EST    +3.49   +5.41%   \n",
       "1   LUNR  Intuitive Machines, Inc.       8.28  4:00PM EST    -1.04  -11.16%   \n",
       "2   CVNA               Carvana Co.      52.41  4:00PM EST    +3.01   +6.09%   \n",
       "3   MELI        MercadoLibre, Inc.   1,817.98  4:00PM EST   +80.21   +4.62%   \n",
       "4   BKNG     Booking Holdings Inc.   3,901.99  4:00PM EST  +160.86   +4.30%   \n",
       "\n",
       "    Volume Market Cap Intraday High/Low 52 Week Range Day Chart  \n",
       "0  18.789M    41.734B                                            \n",
       "1  26.363M   241.966M                                            \n",
       "2  11.689M     9.308B                                            \n",
       "3  641,027    91.916B                                            \n",
       "4  436,129    136.14B                                            "
      ]
     },
     "execution_count": 39,
     "metadata": {},
     "output_type": "execute_result"
    }
   ],
   "source": [
    "df.head()"
   ]
  },
  {
   "cell_type": "code",
   "execution_count": 40,
   "metadata": {},
   "outputs": [],
   "source": [
    "# 최종적으로 데이터를 가져온다.\n",
    "df.to_csv('yfinance_data.csv') "
   ]
  },
  {
   "cell_type": "code",
   "execution_count": 41,
   "metadata": {},
   "outputs": [],
   "source": [
    "driver.quit()"
   ]
  },
  {
   "cell_type": "code",
   "execution_count": null,
   "metadata": {},
   "outputs": [],
   "source": []
  }
 ],
 "metadata": {
  "kernelspec": {
   "display_name": "Python 3",
   "language": "python",
   "name": "python3"
  },
  "language_info": {
   "codemirror_mode": {
    "name": "ipython",
    "version": 3
   },
   "file_extension": ".py",
   "mimetype": "text/x-python",
   "name": "python",
   "nbconvert_exporter": "python",
   "pygments_lexer": "ipython3",
   "version": "3.12.1"
  }
 },
 "nbformat": 4,
 "nbformat_minor": 2
}
